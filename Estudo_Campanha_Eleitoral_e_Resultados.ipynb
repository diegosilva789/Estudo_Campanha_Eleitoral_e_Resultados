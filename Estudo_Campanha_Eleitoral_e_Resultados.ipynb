{
  "nbformat": 4,
  "nbformat_minor": 0,
  "metadata": {
    "colab": {
      "name": "Estudo_Campanha_Eleitoral_e_Resultados.ipynb",
      "provenance": [],
      "collapsed_sections": [],
      "include_colab_link": true
    },
    "kernelspec": {
      "display_name": "Python 3",
      "language": "python",
      "name": "python3"
    },
    "language_info": {
      "codemirror_mode": {
        "name": "ipython",
        "version": 3
      },
      "file_extension": ".py",
      "mimetype": "text/x-python",
      "name": "python",
      "nbconvert_exporter": "python",
      "pygments_lexer": "ipython3",
      "version": "3.8.6"
    }
  },
  "cells": [
    {
      "cell_type": "markdown",
      "metadata": {
        "id": "view-in-github",
        "colab_type": "text"
      },
      "source": [
        "<a href=\"https://colab.research.google.com/github/joaomaarinho/Estudo_Campanha_Eleitoral_e_Resultados/blob/main/Estudo_Campanha_Eleitoral_e_Resultados.ipynb\" target=\"_parent\"><img src=\"https://colab.research.google.com/assets/colab-badge.svg\" alt=\"Open In Colab\"/></a>"
      ]
    },
    {
      "cell_type": "code",
      "metadata": {
        "id": "Y2m-B1WSu3fm"
      },
      "source": [
        "import pandas as pd\n",
        "import matplotlib\n",
        "import matplotlib.pyplot as plt"
      ],
      "execution_count": 80,
      "outputs": []
    },
    {
      "cell_type": "code",
      "metadata": {
        "id": "3DstyBjxvHDS",
        "colab": {
          "base_uri": "https://localhost:8080/"
        },
        "outputId": "323e758e-4638-4725-fe51-abdbc72145bc"
      },
      "source": [
        "from google.colab import drive\n",
        "drive.mount('/content/drive')"
      ],
      "execution_count": 81,
      "outputs": [
        {
          "output_type": "stream",
          "text": [
            "Drive already mounted at /content/drive; to attempt to forcibly remount, call drive.mount(\"/content/drive\", force_remount=True).\n"
          ],
          "name": "stdout"
        }
      ]
    },
    {
      "cell_type": "code",
      "metadata": {
        "id": "sjPS5RsJu3fz"
      },
      "source": [
        "# Realizando leitura do arquivo despesas_candidatos_2008_brasil.csv com delimitação de leitura de colunas, pulo de linhas e número de linhas a serem lidas.\n",
        "\n",
        "fields = ['NM_UE', \"SG_UE_SUPERIOR\", 'NO_CAND', 'DS_CARGO', 'VR_DESPESA']\n",
        "despesas_2008 = pd.read_csv('drive/My Drive/Colab Notebooks/Estudo_Campanha_Eleitoral_e_Resultados/despesas_candidatos_2008_brasil.csv', delimiter=';', error_bad_lines=False, encoding=\"ISO-8859-1\", engine=\"python\",\n",
        "names = [\"SEQUENCIAL_CANDIDATO\", \"NO_CAND\", \"DS_CARGO\", \"CD_CARGO\", \"NR_CAND\", \"SG_UE_SUPERIOR\", \"NM_UE\", \"SG_UE\", \"NR_CNPJ\", \"NR_PARTIDO\", \"SG_PART\", \"VR_DESPESA\", \"DT_DESPESA\", \"DS_TITULO\",\n",
        "\"CD_TITULO\", \"DS_ESP_RECURSO\", \"CD_ESP_RECURSO\", \"DS_NR_DOCUMENTO\", \"DS_TIPO_DOCUMENTO\", \"CD_TIPO_DOCUMENTO\", \"NM_FORNECEDOR\", \"CD_CPF_CNPJ_FORNECEDOR\", \"SG_UE_SUPERIOR1\", \"NM_UE1\", \"SG_UE1\",\n",
        "\"NO_UE\", \"SITUACAOCADASTRAL\", \"NM_ADM\", \"NR_CPF\"], usecols=fields, skiprows=3315816, nrows=945412)\n"
      ],
      "execution_count": 82,
      "outputs": []
    },
    {
      "cell_type": "code",
      "metadata": {
        "id": "R3Ve3a3yu3f3",
        "colab": {
          "base_uri": "https://localhost:8080/",
          "height": 419
        },
        "outputId": "8589194f-e6c8-4ca7-f80f-25608bf8ea7e"
      },
      "source": [
        "# Realizando tratamento da coluna VR_DESPESA\n",
        "\n",
        "lista = ['VR_DESPESA']\n",
        "\n",
        "for col in lista:\n",
        "  despesas_2008[col] = despesas_2008[col].str.replace(',', '.')\n",
        "\n",
        "# Realizando filtragem de resultados de linhas\n",
        "\n",
        "despesas_2008['VR_DESPESA'] = despesas_2008['VR_DESPESA'].apply(lambda x: pd.to_numeric(x, errors='coerce'))\n",
        "despesas_2008 = despesas_2008[despesas_2008['DS_CARGO'] =='Prefeito']\n",
        "despesas_2008 = despesas_2008[despesas_2008['SG_UE_SUPERIOR'] =='SP']\n",
        "despesas_2008 = despesas_2008.groupby(['NM_UE', 'NO_CAND']).sum()\n",
        "despesas_2008 = despesas_2008[despesas_2008['VR_DESPESA'] == despesas_2008.groupby('NM_UE')['VR_DESPESA'].transform('max')]\n",
        "despesas_2008 = despesas_2008.reset_index()\n",
        "despesas_2008\n"
      ],
      "execution_count": 83,
      "outputs": [
        {
          "output_type": "execute_result",
          "data": {
            "text/html": [
              "<div>\n",
              "<style scoped>\n",
              "    .dataframe tbody tr th:only-of-type {\n",
              "        vertical-align: middle;\n",
              "    }\n",
              "\n",
              "    .dataframe tbody tr th {\n",
              "        vertical-align: top;\n",
              "    }\n",
              "\n",
              "    .dataframe thead th {\n",
              "        text-align: right;\n",
              "    }\n",
              "</style>\n",
              "<table border=\"1\" class=\"dataframe\">\n",
              "  <thead>\n",
              "    <tr style=\"text-align: right;\">\n",
              "      <th></th>\n",
              "      <th>NM_UE</th>\n",
              "      <th>NO_CAND</th>\n",
              "      <th>VR_DESPESA</th>\n",
              "    </tr>\n",
              "  </thead>\n",
              "  <tbody>\n",
              "    <tr>\n",
              "      <th>0</th>\n",
              "      <td>ADAMANTINA</td>\n",
              "      <td>JOSE FRANCISCO FIGUEIREDO MICHELONI</td>\n",
              "      <td>37707.01</td>\n",
              "    </tr>\n",
              "    <tr>\n",
              "      <th>1</th>\n",
              "      <td>ADOLFO</td>\n",
              "      <td>JOÃO DONIZETTE THEODORO</td>\n",
              "      <td>54472.20</td>\n",
              "    </tr>\n",
              "    <tr>\n",
              "      <th>2</th>\n",
              "      <td>AGUAÍ</td>\n",
              "      <td>SEBASTIÃO BIAZZO</td>\n",
              "      <td>474333.30</td>\n",
              "    </tr>\n",
              "    <tr>\n",
              "      <th>3</th>\n",
              "      <td>AGUDOS</td>\n",
              "      <td>EVERTON OCTAVIANI</td>\n",
              "      <td>113373.56</td>\n",
              "    </tr>\n",
              "    <tr>\n",
              "      <th>4</th>\n",
              "      <td>ALAMBARI</td>\n",
              "      <td>SANDRO DE JESUS DE CAMARGO</td>\n",
              "      <td>15996.00</td>\n",
              "    </tr>\n",
              "    <tr>\n",
              "      <th>...</th>\n",
              "      <td>...</td>\n",
              "      <td>...</td>\n",
              "      <td>...</td>\n",
              "    </tr>\n",
              "    <tr>\n",
              "      <th>640</th>\n",
              "      <td>ÁGUAS DE SÃO PEDRO</td>\n",
              "      <td>PAULO CESAR BORGES</td>\n",
              "      <td>35800.72</td>\n",
              "    </tr>\n",
              "    <tr>\n",
              "      <th>641</th>\n",
              "      <td>ÁLVARES FLORENCE</td>\n",
              "      <td>ALBERTO CESAR DE CAIRES</td>\n",
              "      <td>26456.10</td>\n",
              "    </tr>\n",
              "    <tr>\n",
              "      <th>642</th>\n",
              "      <td>ÁLVARES MACHADO</td>\n",
              "      <td>JULIANO RIBEIRO GARCIA</td>\n",
              "      <td>45183.48</td>\n",
              "    </tr>\n",
              "    <tr>\n",
              "      <th>643</th>\n",
              "      <td>ÁLVARO DE CARVALHO</td>\n",
              "      <td>ADHEMAR KEMP MARCONDES DE MOURA</td>\n",
              "      <td>18492.72</td>\n",
              "    </tr>\n",
              "    <tr>\n",
              "      <th>644</th>\n",
              "      <td>ÓLEO</td>\n",
              "      <td>WAGNER JOSE CATANELLI</td>\n",
              "      <td>2344.74</td>\n",
              "    </tr>\n",
              "  </tbody>\n",
              "</table>\n",
              "<p>645 rows × 3 columns</p>\n",
              "</div>"
            ],
            "text/plain": [
              "                  NM_UE                              NO_CAND  VR_DESPESA\n",
              "0            ADAMANTINA  JOSE FRANCISCO FIGUEIREDO MICHELONI    37707.01\n",
              "1                ADOLFO              JOÃO DONIZETTE THEODORO    54472.20\n",
              "2                 AGUAÍ                     SEBASTIÃO BIAZZO   474333.30\n",
              "3                AGUDOS                    EVERTON OCTAVIANI   113373.56\n",
              "4              ALAMBARI           SANDRO DE JESUS DE CAMARGO    15996.00\n",
              "..                  ...                                  ...         ...\n",
              "640  ÁGUAS DE SÃO PEDRO                   PAULO CESAR BORGES    35800.72\n",
              "641    ÁLVARES FLORENCE              ALBERTO CESAR DE CAIRES    26456.10\n",
              "642     ÁLVARES MACHADO               JULIANO RIBEIRO GARCIA    45183.48\n",
              "643  ÁLVARO DE CARVALHO      ADHEMAR KEMP MARCONDES DE MOURA    18492.72\n",
              "644                ÓLEO                WAGNER JOSE CATANELLI     2344.74\n",
              "\n",
              "[645 rows x 3 columns]"
            ]
          },
          "metadata": {
            "tags": []
          },
          "execution_count": 83
        }
      ]
    },
    {
      "cell_type": "code",
      "metadata": {
        "id": "3fJiCeOEu3f8",
        "colab": {
          "base_uri": "https://localhost:8080/"
        },
        "outputId": "27eba2ce-1c32-41d1-b8ee-3a8f94cb82b0"
      },
      "source": [
        "# Leitura e tratamento dos nomes das colunas do arquivo consulta_cand_2008_SP.txt\n",
        "\n",
        "candidatos_2008 = pd.read_csv(\"drive/My Drive/Colab Notebooks/Estudo_Campanha_Eleitoral_e_Resultados/consulta_cand_2008_SP.txt\", delimiter=';', error_bad_lines=False, encoding=\"ISO-8859-1\", names=[\"DATA_GERACAO\",\"HORA_GERACAO\",\"ANO_ELEICAO\",\"NUM_TURNO\",\"DESCRICAO_ELEICAO\",\"SIGLA_UF\",\"SIGLA_UE\",\"DESCRICAO_UE\",\"CODIGO_CARGO\",\"DESCRICAO_CARGO\",\"NOME_CANDIDATO\",\"SEQUENCIAL_CANDIDATO\",\"NUMERO_CANDIDATO\",\"CPF_CANDIDATO\",\"NOME_URNA_CANDIDATO\",\"COD_SITUACAO_CANDIDATURA\",\"DES_SITUACAO_CANDIDATURA\",\"NUMERO_PARTIDO\",\"SIGLA_PARTIDO\",\"NOME_PARTIDO\",\"CODIGO_LEGENDA\",\"SIGLA_LEGENDA\",\"COMPOSICAO_LEGENDA\",\"NOME_LEGENDA\",\"CODIGO_OCUPACAO\",\"DESCRICAO_OCUPACAO\",\"DATA_NASCIMENTO\",\"NUM_TITULO_ELEITORAL_CANDIDATO\",\"IDADE_DATA_ELEICAO\",\"CODIGO_SEXO\",\"DESCRICAO_SEXO\",\"COD_GRAU_INSTRUCAO\",\"DESCRICAO_GRAU_INSTRUCAO\",\"CODIGO_ESTADO_CIVIL\",\"DESCRICAO_ESTADO_CIVIL\",\"CODIGO_NACIONALIDADE\",\"DESCRICAO_NACIONALIDADE\",\"SIGLA_UF_NASCIMENTO\",\"CODIGO_MUNICIPIO_NASCIMENTO\",\"NOME_MUNICIPIO_NASCIMENTO\",\"DESPESA_MAX_CAMPANHA\",\"COD_SIT_TOT_TURNO\",\"DESC_SIT_TOT_TURNO\"])"
      ],
      "execution_count": 84,
      "outputs": [
        {
          "output_type": "stream",
          "text": [
            "/usr/local/lib/python3.6/dist-packages/IPython/core/interactiveshell.py:2718: DtypeWarning: Columns (13,15,17,20,24,29,31,33,35,38,41) have mixed types.Specify dtype option on import or set low_memory=False.\n",
            "  interactivity=interactivity, compiler=compiler, result=result)\n"
          ],
          "name": "stderr"
        }
      ]
    },
    {
      "cell_type": "code",
      "metadata": {
        "id": "qzAPME8Hu3gC",
        "colab": {
          "base_uri": "https://localhost:8080/",
          "height": 419
        },
        "outputId": "58c105c0-fd30-4d6b-8bfe-887691b609c7"
      },
      "source": [
        "# Filtragem dos resultados das linhas\n",
        "\n",
        "candidatos_2008 = candidatos_2008[['NOME_CANDIDATO', 'DESCRICAO_CARGO', 'DESCRICAO_UE', 'DESCRICAO_SEXO']]\n",
        "candidatos_2008 = candidatos_2008[candidatos_2008.DESCRICAO_CARGO == \"PREFEITO\"]\n",
        "candidatos_2008 = candidatos_2008.reset_index()\n",
        "candidatos_2008"
      ],
      "execution_count": 85,
      "outputs": [
        {
          "output_type": "execute_result",
          "data": {
            "text/html": [
              "<div>\n",
              "<style scoped>\n",
              "    .dataframe tbody tr th:only-of-type {\n",
              "        vertical-align: middle;\n",
              "    }\n",
              "\n",
              "    .dataframe tbody tr th {\n",
              "        vertical-align: top;\n",
              "    }\n",
              "\n",
              "    .dataframe thead th {\n",
              "        text-align: right;\n",
              "    }\n",
              "</style>\n",
              "<table border=\"1\" class=\"dataframe\">\n",
              "  <thead>\n",
              "    <tr style=\"text-align: right;\">\n",
              "      <th></th>\n",
              "      <th>index</th>\n",
              "      <th>NOME_CANDIDATO</th>\n",
              "      <th>DESCRICAO_CARGO</th>\n",
              "      <th>DESCRICAO_UE</th>\n",
              "      <th>DESCRICAO_SEXO</th>\n",
              "    </tr>\n",
              "  </thead>\n",
              "  <tbody>\n",
              "    <tr>\n",
              "      <th>0</th>\n",
              "      <td>0</td>\n",
              "      <td>ADALBERTO FASSINA</td>\n",
              "      <td>PREFEITO</td>\n",
              "      <td>AGUAÍ</td>\n",
              "      <td>MASCULINO</td>\n",
              "    </tr>\n",
              "    <tr>\n",
              "      <th>1</th>\n",
              "      <td>1</td>\n",
              "      <td>FLAVIO JOSE LEGASPE MAMEDE</td>\n",
              "      <td>PREFEITO</td>\n",
              "      <td>AGUAÍ</td>\n",
              "      <td>MASCULINO</td>\n",
              "    </tr>\n",
              "    <tr>\n",
              "      <th>2</th>\n",
              "      <td>2</td>\n",
              "      <td>GUTEMBERG ADRIAN DE OLIVEIRA</td>\n",
              "      <td>PREFEITO</td>\n",
              "      <td>AGUAÍ</td>\n",
              "      <td>MASCULINO</td>\n",
              "    </tr>\n",
              "    <tr>\n",
              "      <th>3</th>\n",
              "      <td>6</td>\n",
              "      <td>NELSON DIMAS BRAMBILA</td>\n",
              "      <td>PREFEITO</td>\n",
              "      <td>ARARAS</td>\n",
              "      <td>MASCULINO</td>\n",
              "    </tr>\n",
              "    <tr>\n",
              "      <th>4</th>\n",
              "      <td>7</td>\n",
              "      <td>PEDRO ELISEU SOBRINHO</td>\n",
              "      <td>PREFEITO</td>\n",
              "      <td>ARARAS</td>\n",
              "      <td>MASCULINO</td>\n",
              "    </tr>\n",
              "    <tr>\n",
              "      <th>...</th>\n",
              "      <td>...</td>\n",
              "      <td>...</td>\n",
              "      <td>...</td>\n",
              "      <td>...</td>\n",
              "      <td>...</td>\n",
              "    </tr>\n",
              "    <tr>\n",
              "      <th>2018</th>\n",
              "      <td>63471</td>\n",
              "      <td>CARLOS THIAGO SARAN</td>\n",
              "      <td>PREFEITO</td>\n",
              "      <td>VOTUPORANGA</td>\n",
              "      <td>MASCULINO</td>\n",
              "    </tr>\n",
              "    <tr>\n",
              "      <th>2019</th>\n",
              "      <td>63472</td>\n",
              "      <td>LUIZ ALBERTO DIAS ZAMBON</td>\n",
              "      <td>PREFEITO</td>\n",
              "      <td>VOTUPORANGA</td>\n",
              "      <td>MASCULINO</td>\n",
              "    </tr>\n",
              "    <tr>\n",
              "      <th>2020</th>\n",
              "      <td>63473</td>\n",
              "      <td>NASSER MARÃO FILHO</td>\n",
              "      <td>PREFEITO</td>\n",
              "      <td>VOTUPORANGA</td>\n",
              "      <td>MASCULINO</td>\n",
              "    </tr>\n",
              "    <tr>\n",
              "      <th>2021</th>\n",
              "      <td>63590</td>\n",
              "      <td>LOURENÇO ZACARIAS</td>\n",
              "      <td>PREFEITO</td>\n",
              "      <td>ZACARIAS</td>\n",
              "      <td>MASCULINO</td>\n",
              "    </tr>\n",
              "    <tr>\n",
              "      <th>2022</th>\n",
              "      <td>63591</td>\n",
              "      <td>NILSON POLIZEL</td>\n",
              "      <td>PREFEITO</td>\n",
              "      <td>ZACARIAS</td>\n",
              "      <td>MASCULINO</td>\n",
              "    </tr>\n",
              "  </tbody>\n",
              "</table>\n",
              "<p>2023 rows × 5 columns</p>\n",
              "</div>"
            ],
            "text/plain": [
              "      index                NOME_CANDIDATO  ... DESCRICAO_UE DESCRICAO_SEXO\n",
              "0         0             ADALBERTO FASSINA  ...        AGUAÍ      MASCULINO\n",
              "1         1    FLAVIO JOSE LEGASPE MAMEDE  ...        AGUAÍ      MASCULINO\n",
              "2         2  GUTEMBERG ADRIAN DE OLIVEIRA  ...        AGUAÍ      MASCULINO\n",
              "3         6         NELSON DIMAS BRAMBILA  ...       ARARAS      MASCULINO\n",
              "4         7         PEDRO ELISEU SOBRINHO  ...       ARARAS      MASCULINO\n",
              "...     ...                           ...  ...          ...            ...\n",
              "2018  63471           CARLOS THIAGO SARAN  ...  VOTUPORANGA      MASCULINO\n",
              "2019  63472      LUIZ ALBERTO DIAS ZAMBON  ...  VOTUPORANGA      MASCULINO\n",
              "2020  63473            NASSER MARÃO FILHO  ...  VOTUPORANGA      MASCULINO\n",
              "2021  63590             LOURENÇO ZACARIAS  ...     ZACARIAS      MASCULINO\n",
              "2022  63591                NILSON POLIZEL  ...     ZACARIAS      MASCULINO\n",
              "\n",
              "[2023 rows x 5 columns]"
            ]
          },
          "metadata": {
            "tags": []
          },
          "execution_count": 85
        }
      ]
    },
    {
      "cell_type": "code",
      "metadata": {
        "id": "eW_ps95iu3gF"
      },
      "source": [
        "# Leitura e tratamento dos nomes das colunas do arquivo votacao_candidato_munzona_2008_SP.txt\n",
        "\n",
        "resultados_2008 = pd.read_csv(\"drive/My Drive/Colab Notebooks/Estudo_Campanha_Eleitoral_e_Resultados/votacao_candidato_munzona_2008_SP.txt\", delimiter=';', error_bad_lines=False, encoding=\"ISO-8859-1\", names=[\"DATA_GERACAO\",\"HORA_GERACAO\",\"ANO_ELEICAO\",\"NUM_TURNO\",\"DESCRICAO_ELEICAO\",\"SIGLA_UF\",\"SIGLA_UE\",\"CODIGO_MUNICIPIO\",\"NOME_MUNICIPIO\",\"NUMERO_ZONA\",\"CODIGO_CARGO\",\"NUMERO_CAND\",\"SQ_CANDIDATO\",\"NOME_CANDIDATO\",\"NOME_URNA_CANDIDATO\",\"DESCRICAO_CARGO\",\"COD_SIT_CAND_SUPERIOR\",\"DESC_SIT_CAND_SUPERIOR\",\"CODIGO_SIT_CANDIDATO\",\"DESC_SIT_CANDIDATO\",\"CODIGO_SIT_CAND_TOT\",\"DESC_SIT_CAND_TOT\",\"NUMERO_PARTIDO\",\"SIGLA_PARTIDO\",\"NOME_PARTIDO\",\"SEQUENCIAL_LEGENDA\",\"NOME_COLIGACAO\",\"COMPOSICAO_LEGENDA\",\"TOTAL_VOTOS\"])"
      ],
      "execution_count": 86,
      "outputs": []
    },
    {
      "cell_type": "code",
      "metadata": {
        "id": "fFYUWU_Ju3gI",
        "colab": {
          "base_uri": "https://localhost:8080/",
          "height": 419
        },
        "outputId": "98a60507-5789-4b41-b5ef-0a090372401d"
      },
      "source": [
        "# Filtragem dos resultados das linhas\n",
        "\n",
        "resultados_2008 = resultados_2008[['NOME_MUNICIPIO', 'DESCRICAO_CARGO', 'NOME_CANDIDATO', 'TOTAL_VOTOS', 'NUM_TURNO']]\n",
        "resultados_2008 = resultados_2008[resultados_2008.DESCRICAO_CARGO == \"PREFEITO\"]\n",
        "resultados_2008 = resultados_2008[resultados_2008['TOTAL_VOTOS'] == resultados_2008.groupby('NOME_MUNICIPIO')['TOTAL_VOTOS'].transform('max')]\n",
        "resultados_2008 = resultados_2008.reset_index()\n",
        "resultados_2008"
      ],
      "execution_count": 87,
      "outputs": [
        {
          "output_type": "execute_result",
          "data": {
            "text/html": [
              "<div>\n",
              "<style scoped>\n",
              "    .dataframe tbody tr th:only-of-type {\n",
              "        vertical-align: middle;\n",
              "    }\n",
              "\n",
              "    .dataframe tbody tr th {\n",
              "        vertical-align: top;\n",
              "    }\n",
              "\n",
              "    .dataframe thead th {\n",
              "        text-align: right;\n",
              "    }\n",
              "</style>\n",
              "<table border=\"1\" class=\"dataframe\">\n",
              "  <thead>\n",
              "    <tr style=\"text-align: right;\">\n",
              "      <th></th>\n",
              "      <th>index</th>\n",
              "      <th>NOME_MUNICIPIO</th>\n",
              "      <th>DESCRICAO_CARGO</th>\n",
              "      <th>NOME_CANDIDATO</th>\n",
              "      <th>TOTAL_VOTOS</th>\n",
              "      <th>NUM_TURNO</th>\n",
              "    </tr>\n",
              "  </thead>\n",
              "  <tbody>\n",
              "    <tr>\n",
              "      <th>0</th>\n",
              "      <td>1</td>\n",
              "      <td>ADAMANTINA</td>\n",
              "      <td>PREFEITO</td>\n",
              "      <td>JOSE FRANCISCO FIGUEIREDO MICHELONI</td>\n",
              "      <td>15582</td>\n",
              "      <td>1</td>\n",
              "    </tr>\n",
              "    <tr>\n",
              "      <th>1</th>\n",
              "      <td>76</td>\n",
              "      <td>ADOLFO</td>\n",
              "      <td>PREFEITO</td>\n",
              "      <td>JOÃO DONIZETTE THEODORO</td>\n",
              "      <td>1545</td>\n",
              "      <td>1</td>\n",
              "    </tr>\n",
              "    <tr>\n",
              "      <th>2</th>\n",
              "      <td>134</td>\n",
              "      <td>AGUAÍ</td>\n",
              "      <td>PREFEITO</td>\n",
              "      <td>GUTEMBERG ADRIAN DE OLIVEIRA</td>\n",
              "      <td>9999</td>\n",
              "      <td>1</td>\n",
              "    </tr>\n",
              "    <tr>\n",
              "      <th>3</th>\n",
              "      <td>219</td>\n",
              "      <td>AGUDOS</td>\n",
              "      <td>PREFEITO</td>\n",
              "      <td>EVERTON OCTAVIANI</td>\n",
              "      <td>9538</td>\n",
              "      <td>1</td>\n",
              "    </tr>\n",
              "    <tr>\n",
              "      <th>4</th>\n",
              "      <td>297</td>\n",
              "      <td>ALAMBARI</td>\n",
              "      <td>PREFEITO</td>\n",
              "      <td>SANDRO DE JESUS DE CAMARGO</td>\n",
              "      <td>1625</td>\n",
              "      <td>1</td>\n",
              "    </tr>\n",
              "    <tr>\n",
              "      <th>...</th>\n",
              "      <td>...</td>\n",
              "      <td>...</td>\n",
              "      <td>...</td>\n",
              "      <td>...</td>\n",
              "      <td>...</td>\n",
              "      <td>...</td>\n",
              "    </tr>\n",
              "    <tr>\n",
              "      <th>646</th>\n",
              "      <td>136126</td>\n",
              "      <td>MAUÁ</td>\n",
              "      <td>PREFEITO</td>\n",
              "      <td>OSWALDO DIAS</td>\n",
              "      <td>41126</td>\n",
              "      <td>2</td>\n",
              "    </tr>\n",
              "    <tr>\n",
              "      <th>647</th>\n",
              "      <td>136129</td>\n",
              "      <td>SANTO ANDRÉ</td>\n",
              "      <td>PREFEITO</td>\n",
              "      <td>AIDAN ANTONIO RAVIN</td>\n",
              "      <td>35588</td>\n",
              "      <td>2</td>\n",
              "    </tr>\n",
              "    <tr>\n",
              "      <th>648</th>\n",
              "      <td>136147</td>\n",
              "      <td>SÃO BERNARDO DO CAMPO</td>\n",
              "      <td>PREFEITO</td>\n",
              "      <td>LUIZ MARINHO</td>\n",
              "      <td>55760</td>\n",
              "      <td>2</td>\n",
              "    </tr>\n",
              "    <tr>\n",
              "      <th>649</th>\n",
              "      <td>136161</td>\n",
              "      <td>SÃO JOSÉ DO RIO PRETO</td>\n",
              "      <td>PREFEITO</td>\n",
              "      <td>JOAO PAULO RILLO</td>\n",
              "      <td>46011</td>\n",
              "      <td>2</td>\n",
              "    </tr>\n",
              "    <tr>\n",
              "      <th>650</th>\n",
              "      <td>136193</td>\n",
              "      <td>SÃO PAULO</td>\n",
              "      <td>PREFEITO</td>\n",
              "      <td>GILBERTO KASSAB</td>\n",
              "      <td>125400</td>\n",
              "      <td>2</td>\n",
              "    </tr>\n",
              "  </tbody>\n",
              "</table>\n",
              "<p>651 rows × 6 columns</p>\n",
              "</div>"
            ],
            "text/plain": [
              "      index         NOME_MUNICIPIO  ... TOTAL_VOTOS NUM_TURNO\n",
              "0         1             ADAMANTINA  ...       15582         1\n",
              "1        76                 ADOLFO  ...        1545         1\n",
              "2       134                  AGUAÍ  ...        9999         1\n",
              "3       219                 AGUDOS  ...        9538         1\n",
              "4       297               ALAMBARI  ...        1625         1\n",
              "..      ...                    ...  ...         ...       ...\n",
              "646  136126                   MAUÁ  ...       41126         2\n",
              "647  136129            SANTO ANDRÉ  ...       35588         2\n",
              "648  136147  SÃO BERNARDO DO CAMPO  ...       55760         2\n",
              "649  136161  SÃO JOSÉ DO RIO PRETO  ...       46011         2\n",
              "650  136193              SÃO PAULO  ...      125400         2\n",
              "\n",
              "[651 rows x 6 columns]"
            ]
          },
          "metadata": {
            "tags": []
          },
          "execution_count": 87
        }
      ]
    },
    {
      "cell_type": "code",
      "metadata": {
        "id": "gQeZ1PRNToYt"
      },
      "source": [
        "# Leitura, Delimitação de colunas e tratamento do arquivo POP2008_DOU.xls\n",
        "\n",
        "fields = ['UF', 'NOME DO MUNICÍPIO', 'POPULAÇÃO ESTIMADA']\n",
        "est_pop_2008 = pd.read_excel('drive/My Drive/Colab Notebooks/Estudo_Campanha_Eleitoral_e_Resultados/POP2008_DOU.xls', skiprows=5, names = ['UF','CODÍGO UF','CÓDIGO MUNICÍPIO','MUNICÍPIOS','POPULAÇÃO ESTIMADA'], nrows = 5565 )\n",
        "est_pop_2008 = est_pop_2008.apply(lambda x: x.astype(str).str.upper())"
      ],
      "execution_count": 88,
      "outputs": []
    },
    {
      "cell_type": "code",
      "metadata": {
        "id": "XhbYnF0JToYw"
      },
      "source": [
        "# Filtragem dos resultados da linha\n",
        "\n",
        "est_pop_2008 = est_pop_2008[est_pop_2008.UF == \"SP\"]\n",
        "est_pop_2008 = est_pop_2008.reset_index()"
      ],
      "execution_count": 89,
      "outputs": []
    },
    {
      "cell_type": "code",
      "metadata": {
        "id": "hU1VAbX6ToYy",
        "colab": {
          "base_uri": "https://localhost:8080/"
        },
        "outputId": "69be2920-7427-42d2-cc33-036cf3ea97f4"
      },
      "source": [
        "# Verificação da existencia dos nomes das cidades\n",
        "\n",
        "lista = [x for x in despesas_2008['NM_UE']  if x not in list(est_pop_2008['MUNICÍPIOS'])]\n",
        "print(lista)"
      ],
      "execution_count": 90,
      "outputs": [
        {
          "output_type": "stream",
          "text": [
            "['ARCO ÍRIS', 'BADY BASSIT', 'BIRITIBA MIRIM', 'IPAUÇU', 'LUISIÂNIA', 'MOJI-GUACU', 'MOJI-MIRIM', 'SANTO ANTÔNIO DA POSSE', 'SUD MENUCCI', 'TARABAÍ']\n"
          ],
          "name": "stdout"
        }
      ]
    },
    {
      "cell_type": "code",
      "metadata": {
        "id": "ljMCySfYToY1",
        "colab": {
          "base_uri": "https://localhost:8080/"
        },
        "outputId": "6fe421ea-5c21-4554-ef33-2ab9257abf65"
      },
      "source": [
        "# Impressão dos nomes de todas as cidades do estado de São Paulo\n",
        "\n",
        "lista = [x for x in est_pop_2008['MUNICÍPIOS']]\n",
        "print(lista)"
      ],
      "execution_count": 91,
      "outputs": [
        {
          "output_type": "stream",
          "text": [
            "['ADAMANTINA', 'ADOLFO', 'AGUAÍ', 'ÁGUAS DA PRATA', 'ÁGUAS DE LINDÓIA', 'ÁGUAS DE SANTA BÁRBARA', 'ÁGUAS DE SÃO PEDRO', 'AGUDOS', 'ALAMBARI', 'ALFREDO MARCONDES', 'ALTAIR', 'ALTINÓPOLIS', 'ALTO ALEGRE', 'ALUMÍNIO', 'ÁLVARES FLORENCE', 'ÁLVARES MACHADO', 'ÁLVARO DE CARVALHO', 'ALVINLÂNDIA', 'AMERICANA', 'AMÉRICO DE CAMPOS', 'AMÉRICO BRASILIENSE', 'AMPARO', 'ANALÂNDIA', 'ANDRADINA', 'ANGATUBA', 'ANHEMBI', 'ANHUMAS', 'APARECIDA', \"APARECIDA D'OESTE\", 'APIAÍ', 'ARAÇARIGUAMA', 'ARAÇATUBA', 'ARAÇOIABA DA SERRA', 'ARAMINA', 'ARANDU', 'ARAPEÍ', 'ARARAQUARA', 'ARARAS', 'ARCO-ÍRIS', 'AREALVA', 'AREIAS', 'AREIÓPOLIS', 'ARIRANHA', 'ARTUR NOGUEIRA', 'ARUJÁ', 'ASPÁSIA', 'ASSIS', 'ATIBAIA', 'AURIFLAMA', 'AVAÍ', 'AVANHANDAVA', 'AVARÉ', 'BADY BASSITT', 'BALBINOS', 'BÁLSAMO', 'BANANAL', 'BARÃO DE ANTONINA', 'BARBOSA', 'BARIRI', 'BARRA DO CHAPÉU', 'BARRA DO TURVO', 'BARRA BONITA', 'BARRETOS', 'BARRINHA', 'BARUERI', 'BASTOS', 'BATATAIS', 'BAURU', 'BEBEDOURO', 'BENTO DE ABREU', 'BERNARDINO DE CAMPOS', 'BERTIOGA', 'BILAC', 'BIRIGUI', 'BIRITIBA-MIRIM', 'BOA ESPERANÇA DO SUL', 'BOCAINA', 'BOFETE', 'BOITUVA', 'BOM JESUS DOS PERDÕES', 'BOM SUCESSO DE ITARARÉ', 'BORÁ', 'BORACÉIA', 'BORBOREMA', 'BOREBI', 'BOTUCATU', 'BRAGANÇA PAULISTA', 'BRAÚNA', 'BREJO ALEGRE', 'BRODOWSKI', 'BROTAS', 'BURI', 'BURITAMA', 'BURITIZAL', 'CABRÁLIA PAULISTA', 'CABREÚVA', 'CAÇAPAVA', 'CACHOEIRA PAULISTA', 'CACONDE', 'CAFELÂNDIA', 'CAIABU', 'CAIEIRAS', 'CAIUÁ', 'CAJAMAR', 'CAJATI', 'CAJOBI', 'CAJURU', 'CAMPINA DO MONTE ALEGRE', 'CAMPINAS', 'CAMPO LIMPO PAULISTA', 'CAMPOS DO JORDÃO', 'CAMPOS NOVOS PAULISTA', 'CANANÉIA', 'CANAS', 'CÂNDIDO MOTA', 'CÂNDIDO RODRIGUES', 'CANITAR', 'CAPÃO BONITO', 'CAPELA DO ALTO', 'CAPIVARI', 'CARAGUATATUBA', 'CARAPICUÍBA', 'CARDOSO', 'CASA BRANCA', 'CÁSSIA DOS COQUEIROS', 'CASTILHO', 'CATANDUVA', 'CATIGUÁ', 'CEDRAL', 'CERQUEIRA CÉSAR', 'CERQUILHO', 'CESÁRIO LANGE', 'CHARQUEADA', 'CHAVANTES', 'CLEMENTINA', 'COLINA', 'COLÔMBIA', 'CONCHAL', 'CONCHAS', 'CORDEIRÓPOLIS', 'COROADOS', 'CORONEL MACEDO', 'CORUMBATAÍ', 'COSMÓPOLIS', 'COSMORAMA', 'COTIA', 'CRAVINHOS', 'CRISTAIS PAULISTA', 'CRUZÁLIA', 'CRUZEIRO', 'CUBATÃO', 'CUNHA', 'DESCALVADO', 'DIADEMA', 'DIRCE REIS', 'DIVINOLÂNDIA', 'DOBRADA', 'DOIS CÓRREGOS', 'DOLCINÓPOLIS', 'DOURADO', 'DRACENA', 'DUARTINA', 'DUMONT', 'ECHAPORÃ', 'ELDORADO', 'ELIAS FAUSTO', 'ELISIÁRIO', 'EMBAÚBA', 'EMBU', 'EMBU-GUAÇU', 'EMILIANÓPOLIS', 'ENGENHEIRO COELHO', 'ESPÍRITO SANTO DO PINHAL', 'ESPÍRITO SANTO DO TURVO', 'ESTIVA GERBI', \"ESTRELA D'OESTE\", 'ESTRELA DO NORTE', 'EUCLIDES DA CUNHA PAULISTA', 'FARTURA', 'FERNANDO PRESTES', 'FERNANDÓPOLIS', 'FERNÃO', 'FERRAZ DE VASCONCELOS', 'FLORA RICA', 'FLOREAL', 'FLÓRIDA PAULISTA', 'FLORÍNIA', 'FRANCA', 'FRANCISCO MORATO', 'FRANCO DA ROCHA', 'GABRIEL MONTEIRO', 'GÁLIA', 'GARÇA', 'GASTÃO VIDIGAL', 'GAVIÃO PEIXOTO', 'GENERAL SALGADO', 'GETULINA', 'GLICÉRIO', 'GUAIÇARA', 'GUAIMBÊ', 'GUAÍRA', 'GUAPIAÇU', 'GUAPIARA', 'GUARÁ', 'GUARAÇAÍ', 'GUARACI', \"GUARANI D'OESTE\", 'GUARANTÃ', 'GUARARAPES', 'GUARAREMA', 'GUARATINGUETÁ', 'GUAREÍ', 'GUARIBA', 'GUARUJÁ', 'GUARULHOS', 'GUATAPARÁ', 'GUZOLÂNDIA', 'HERCULÂNDIA', 'HOLAMBRA', 'HORTOLÂNDIA', 'IACANGA', 'IACRI', 'IARAS', 'IBATÉ', 'IBIRÁ', 'IBIRAREMA', 'IBITINGA', 'IBIÚNA', 'ICÉM', 'IEPÊ', 'IGARAÇU DO TIETÊ', 'IGARAPAVA', 'IGARATÁ', 'IGUAPE', 'ILHA COMPRIDA', 'ILHA SOLTEIRA', 'ILHABELA', 'INDAIATUBA', 'INDIANA', 'INDIAPORÃ', 'INÚBIA PAULISTA', 'IPAUSSU', 'IPERÓ', 'IPEÚNA', 'IPIGUÁ', 'IPORANGA', 'IPUÃ', 'IRACEMÁPOLIS', 'IRAPUÃ', 'IRAPURU', 'ITABERÁ', 'ITAÍ', 'ITAJOBI', 'ITAJU', 'ITANHAÉM', 'ITAÓCA', 'ITAPECERICA DA SERRA', 'ITAPETININGA', 'ITAPEVA', 'ITAPEVI', 'ITAPIRA', 'ITAPIRAPUÃ PAULISTA', 'ITÁPOLIS', 'ITAPORANGA', 'ITAPUÍ', 'ITAPURA', 'ITAQUAQUECETUBA', 'ITARARÉ', 'ITARIRI', 'ITATIBA', 'ITATINGA', 'ITIRAPINA', 'ITIRAPUÃ', 'ITOBI', 'ITU', 'ITUPEVA', 'ITUVERAVA', 'JABORANDI', 'JABOTICABAL', 'JACAREÍ', 'JACI', 'JACUPIRANGA', 'JAGUARIÚNA', 'JALES', 'JAMBEIRO', 'JANDIRA', 'JARDINÓPOLIS', 'JARINU', 'JAÚ', 'JERIQUARA', 'JOANÓPOLIS', 'JOÃO RAMALHO', 'JOSÉ BONIFÁCIO', 'JÚLIO MESQUITA', 'JUMIRIM', 'JUNDIAÍ', 'JUNQUEIRÓPOLIS', 'JUQUIÁ', 'JUQUITIBA', 'LAGOINHA', 'LARANJAL PAULISTA', 'LAVÍNIA', 'LAVRINHAS', 'LEME', 'LENÇÓIS PAULISTA', 'LIMEIRA', 'LINDÓIA', 'LINS', 'LORENA', 'LOURDES', 'LOUVEIRA', 'LUCÉLIA', 'LUCIANÓPOLIS', 'LUÍS ANTÔNIO', 'LUIZIÂNIA', 'LUPÉRCIO', 'LUTÉCIA', 'MACATUBA', 'MACAUBAL', 'MACEDÔNIA', 'MAGDA', 'MAIRINQUE', 'MAIRIPORÃ', 'MANDURI', 'MARABÁ PAULISTA', 'MARACAÍ', 'MARAPOAMA', 'MARIÁPOLIS', 'MARÍLIA', 'MARINÓPOLIS', 'MARTINÓPOLIS', 'MATÃO', 'MAUÁ', 'MENDONÇA', 'MERIDIANO', 'MESÓPOLIS', 'MIGUELÓPOLIS', 'MINEIROS DO TIETÊ', 'MIRA ESTRELA', 'MIRACATU', 'MIRANDÓPOLIS', 'MIRANTE DO PARANAPANEMA', 'MIRASSOL', 'MIRASSOLÂNDIA', 'MOCOCA', 'MOGI DAS CRUZES', 'MOGI GUAÇU', 'MOJI MIRIM', 'MOMBUCA', 'MONÇÕES', 'MONGAGUÁ', 'MONTE ALEGRE DO SUL', 'MONTE ALTO', 'MONTE APRAZÍVEL', 'MONTE AZUL PAULISTA', 'MONTE CASTELO', 'MONTE MOR', 'MONTEIRO LOBATO', 'MORRO AGUDO', 'MORUNGABA', 'MOTUCA', 'MURUTINGA DO SUL', 'NANTES', 'NARANDIBA', 'NATIVIDADE DA SERRA', 'NAZARÉ PAULISTA', 'NEVES PAULISTA', 'NHANDEARA', 'NIPOÃ', 'NOVA ALIANÇA', 'NOVA CAMPINA', 'NOVA CANAÃ PAULISTA', 'NOVA CASTILHO', 'NOVA EUROPA', 'NOVA GRANADA', 'NOVA GUATAPORANGA', 'NOVA INDEPENDÊNCIA', 'NOVA LUZITÂNIA', 'NOVA ODESSA', 'NOVAIS', 'NOVO HORIZONTE', 'NUPORANGA', 'OCAUÇU', 'ÓLEO', 'OLÍMPIA', 'ONDA VERDE', 'ORIENTE', 'ORINDIÚVA', 'ORLÂNDIA', 'OSASCO', 'OSCAR BRESSANE', 'OSVALDO CRUZ', 'OURINHOS', 'OURO VERDE', 'OUROESTE', 'PACAEMBU', 'PALESTINA', 'PALMARES PAULISTA', \"PALMEIRA D'OESTE\", 'PALMITAL', 'PANORAMA', 'PARAGUAÇU PAULISTA', 'PARAIBUNA', 'PARAÍSO', 'PARANAPANEMA', 'PARANAPUÃ', 'PARAPUÃ', 'PARDINHO', 'PARIQUERA-AÇU', 'PARISI', 'PATROCÍNIO PAULISTA', 'PAULICÉIA', 'PAULÍNIA', 'PAULISTÂNIA', 'PAULO DE FARIA', 'PEDERNEIRAS', 'PEDRA BELA', 'PEDRANÓPOLIS', 'PEDREGULHO', 'PEDREIRA', 'PEDRINHAS PAULISTA', 'PEDRO DE TOLEDO', 'PENÁPOLIS', 'PEREIRA BARRETO', 'PEREIRAS', 'PERUÍBE', 'PIACATU', 'PIEDADE', 'PILAR DO SUL', 'PINDAMONHANGABA', 'PINDORAMA', 'PINHALZINHO', 'PIQUEROBI', 'PIQUETE', 'PIRACAIA', 'PIRACICABA', 'PIRAJU', 'PIRAJUÍ', 'PIRANGI', 'PIRAPORA DO BOM JESUS', 'PIRAPOZINHO', 'PIRASSUNUNGA', 'PIRATININGA', 'PITANGUEIRAS', 'PLANALTO', 'PLATINA', 'POÁ', 'POLONI', 'POMPÉIA', 'PONGAÍ', 'PONTAL', 'PONTALINDA', 'PONTES GESTAL', 'POPULINA', 'PORANGABA', 'PORTO FELIZ', 'PORTO FERREIRA', 'POTIM', 'POTIRENDABA', 'PRACINHA', 'PRADÓPOLIS', 'PRAIA GRANDE', 'PRATÂNIA', 'PRESIDENTE ALVES', 'PRESIDENTE BERNARDES', 'PRESIDENTE EPITÁCIO', 'PRESIDENTE PRUDENTE', 'PRESIDENTE VENCESLAU', 'PROMISSÃO', 'QUADRA', 'QUATÁ', 'QUEIROZ', 'QUELUZ', 'QUINTANA', 'RAFARD', 'RANCHARIA', 'REDENÇÃO DA SERRA', 'REGENTE FEIJÓ', 'REGINÓPOLIS', 'REGISTRO', 'RESTINGA', 'RIBEIRA', 'RIBEIRÃO DO SUL', 'RIBEIRÃO DOS ÍNDIOS', 'RIBEIRÃO BONITO', 'RIBEIRÃO BRANCO', 'RIBEIRÃO CORRENTE', 'RIBEIRÃO GRANDE', 'RIBEIRÃO PIRES', 'RIBEIRÃO PRETO', 'RIFAINA', 'RINCÃO', 'RINÓPOLIS', 'RIO DAS PEDRAS', 'RIO CLARO', 'RIO GRANDE DA SERRA', 'RIOLÂNDIA', 'RIVERSUL', 'ROSANA', 'ROSEIRA', 'RUBIÁCEA', 'RUBINÉIA', 'SABINO', 'SAGRES', 'SALES', 'SALES OLIVEIRA', 'SALESÓPOLIS', 'SALMOURÃO', 'SALTINHO', 'SALTO', 'SALTO DE PIRAPORA', 'SALTO GRANDE', 'SANDOVALINA', 'SANTA ADÉLIA', 'SANTA ALBERTINA', \"SANTA BÁRBARA D'OESTE\", 'SANTA BRANCA', \"SANTA CLARA D'OESTE\", 'SANTA CRUZ DA CONCEIÇÃO', 'SANTA CRUZ DA ESPERANÇA', 'SANTA CRUZ DAS PALMEIRAS', 'SANTA CRUZ DO RIO PARDO', 'SANTA ERNESTINA', 'SANTA FÉ DO SUL', 'SANTA GERTRUDES', 'SANTA ISABEL', 'SANTA LÚCIA', 'SANTA MARIA DA SERRA', 'SANTA MERCEDES', \"SANTA RITA D'OESTE\", 'SANTA RITA DO PASSA QUATRO', 'SANTA ROSA DE VITERBO', 'SANTA SALETE', 'SANTANA DA PONTE PENSA', 'SANTANA DE PARNAÍBA', 'SANTO ANASTÁCIO', 'SANTO ANDRÉ', 'SANTO ANTÔNIO DA ALEGRIA', 'SANTO ANTÔNIO DE POSSE', 'SANTO ANTÔNIO DO ARACANGUÁ', 'SANTO ANTÔNIO DO JARDIM', 'SANTO ANTÔNIO DO PINHAL', 'SANTO EXPEDITO', 'SANTÓPOLIS DO AGUAPEÍ', 'SANTOS', 'SÃO BENTO DO SAPUCAÍ', 'SÃO BERNARDO DO CAMPO', 'SÃO CAETANO DO SUL', 'SÃO CARLOS', 'SÃO FRANCISCO', 'SÃO JOÃO DA BOA VISTA', 'SÃO JOÃO DAS DUAS PONTES', 'SÃO JOÃO DE IRACEMA', \"SÃO JOÃO DO PAU D'ALHO\", 'SÃO JOAQUIM DA BARRA', 'SÃO JOSÉ DA BELA VISTA', 'SÃO JOSÉ DO BARREIRO', 'SÃO JOSÉ DO RIO PARDO', 'SÃO JOSÉ DO RIO PRETO', 'SÃO JOSÉ DOS CAMPOS', 'SÃO LOURENÇO DA SERRA', 'SÃO LUÍS DO PARAITINGA', 'SÃO MANUEL', 'SÃO MIGUEL ARCANJO', 'SÃO PAULO', 'SÃO PEDRO', 'SÃO PEDRO DO TURVO', 'SÃO ROQUE', 'SÃO SEBASTIÃO', 'SÃO SEBASTIÃO DA GRAMA', 'SÃO SIMÃO', 'SÃO VICENTE', 'SARAPUÍ', 'SARUTAIÁ', 'SEBASTIANÓPOLIS DO SUL', 'SERRA AZUL', 'SERRA NEGRA', 'SERRANA', 'SERTÃOZINHO', 'SETE BARRAS', 'SEVERÍNIA', 'SILVEIRAS', 'SOCORRO', 'SOROCABA', 'SUD MENNUCCI', 'SUMARÉ', 'SUZANÁPOLIS', 'SUZANO', 'TABAPUÃ', 'TABATINGA', 'TABOÃO DA SERRA', 'TACIBA', 'TAGUAÍ', 'TAIAÇU', 'TAIÚVA', 'TAMBAÚ', 'TANABI', 'TAPIRAÍ', 'TAPIRATIBA', 'TAQUARAL', 'TAQUARITINGA', 'TAQUARITUBA', 'TAQUARIVAÍ', 'TARABAI', 'TARUMÃ', 'TATUÍ', 'TAUBATÉ', 'TEJUPÁ', 'TEODORO SAMPAIO', 'TERRA ROXA', 'TIETÊ', 'TIMBURI', 'TORRE DE PEDRA', 'TORRINHA', 'TRABIJU', 'TREMEMBÉ', 'TRÊS FRONTEIRAS', 'TUIUTI', 'TUPÃ', 'TUPI PAULISTA', 'TURIÚBA', 'TURMALINA', 'UBARANA', 'UBATUBA', 'UBIRAJARA', 'UCHOA', 'UNIÃO PAULISTA', 'URÂNIA', 'URU', 'URUPÊS', 'VALENTIM GENTIL', 'VALINHOS', 'VALPARAÍSO', 'VARGEM', 'VARGEM GRANDE DO SUL', 'VARGEM GRANDE PAULISTA', 'VÁRZEA PAULISTA', 'VERA CRUZ', 'VINHEDO', 'VIRADOURO', 'VISTA ALEGRE DO ALTO', 'VITÓRIA BRASIL', 'VOTORANTIM', 'VOTUPORANGA', 'ZACARIAS']\n"
          ],
          "name": "stdout"
        }
      ]
    },
    {
      "cell_type": "code",
      "metadata": {
        "id": "AM725rUWh6fV"
      },
      "source": [
        "# Renomeação das cidades com nomes em disparidade\n",
        "\n",
        "lista = ['MUNICÍPIOS']\n",
        "\n",
        "for col in lista:\n",
        "  est_pop_2008[col] = est_pop_2008[col].str.replace('ARCO-ÍRIS', 'ARCO ÍRIS')\n",
        "  est_pop_2008[col] = est_pop_2008[col].str.replace('BADY BASSITT', 'BADY BASSIT')\n",
        "  est_pop_2008[col] = est_pop_2008[col].str.replace('BIRITIBA-MIRIM', 'BIRITIBA MIRIM')\n",
        "  est_pop_2008[col] = est_pop_2008[col].str.replace('IPAUSSU', 'IPAUÇU')\n",
        "  est_pop_2008[col] = est_pop_2008[col].str.replace('LUIZIÂNIA', 'LUISIÂNIA')\n",
        "  est_pop_2008[col] = est_pop_2008[col].str.replace('MOGI GUAÇU', 'MOJI-GUACU')\n",
        "  est_pop_2008[col] = est_pop_2008[col].str.replace('MOJI MIRIM', 'MOJI-MIRIM')\n",
        "  est_pop_2008[col] = est_pop_2008[col].str.replace('SANTO ANTÔNIO DE POSSE', 'SANTO ANTÔNIO DA POSSE')\n",
        "  est_pop_2008[col] = est_pop_2008[col].str.replace('SUD MENNUCCI', 'SUD MENUCCI')\n",
        "  est_pop_2008[col] = est_pop_2008[col].str.replace('TARABAI', 'TARABAÍ')"
      ],
      "execution_count": 92,
      "outputs": []
    },
    {
      "cell_type": "code",
      "metadata": {
        "colab": {
          "base_uri": "https://localhost:8080/",
          "height": 419
        },
        "id": "56ZMVqddFcZ4",
        "outputId": "6a0bdd3c-0045-468e-97bd-655de663c124"
      },
      "source": [
        "# Exibindo dataframe\n",
        "\n",
        "est_pop_2008"
      ],
      "execution_count": 93,
      "outputs": [
        {
          "output_type": "execute_result",
          "data": {
            "text/html": [
              "<div>\n",
              "<style scoped>\n",
              "    .dataframe tbody tr th:only-of-type {\n",
              "        vertical-align: middle;\n",
              "    }\n",
              "\n",
              "    .dataframe tbody tr th {\n",
              "        vertical-align: top;\n",
              "    }\n",
              "\n",
              "    .dataframe thead th {\n",
              "        text-align: right;\n",
              "    }\n",
              "</style>\n",
              "<table border=\"1\" class=\"dataframe\">\n",
              "  <thead>\n",
              "    <tr style=\"text-align: right;\">\n",
              "      <th></th>\n",
              "      <th>index</th>\n",
              "      <th>UF</th>\n",
              "      <th>CODÍGO UF</th>\n",
              "      <th>CÓDIGO MUNICÍPIO</th>\n",
              "      <th>MUNICÍPIOS</th>\n",
              "      <th>POPULAÇÃO ESTIMADA</th>\n",
              "    </tr>\n",
              "  </thead>\n",
              "  <tbody>\n",
              "    <tr>\n",
              "      <th>0</th>\n",
              "      <td>3265</td>\n",
              "      <td>SP</td>\n",
              "      <td>35.0</td>\n",
              "      <td>105.0</td>\n",
              "      <td>ADAMANTINA</td>\n",
              "      <td>34366.0</td>\n",
              "    </tr>\n",
              "    <tr>\n",
              "      <th>1</th>\n",
              "      <td>3266</td>\n",
              "      <td>SP</td>\n",
              "      <td>35.0</td>\n",
              "      <td>204.0</td>\n",
              "      <td>ADOLFO</td>\n",
              "      <td>3711.0</td>\n",
              "    </tr>\n",
              "    <tr>\n",
              "      <th>2</th>\n",
              "      <td>3267</td>\n",
              "      <td>SP</td>\n",
              "      <td>35.0</td>\n",
              "      <td>303.0</td>\n",
              "      <td>AGUAÍ</td>\n",
              "      <td>31763.0</td>\n",
              "    </tr>\n",
              "    <tr>\n",
              "      <th>3</th>\n",
              "      <td>3268</td>\n",
              "      <td>SP</td>\n",
              "      <td>35.0</td>\n",
              "      <td>402.0</td>\n",
              "      <td>ÁGUAS DA PRATA</td>\n",
              "      <td>7684.0</td>\n",
              "    </tr>\n",
              "    <tr>\n",
              "      <th>4</th>\n",
              "      <td>3269</td>\n",
              "      <td>SP</td>\n",
              "      <td>35.0</td>\n",
              "      <td>501.0</td>\n",
              "      <td>ÁGUAS DE LINDÓIA</td>\n",
              "      <td>16335.0</td>\n",
              "    </tr>\n",
              "    <tr>\n",
              "      <th>...</th>\n",
              "      <td>...</td>\n",
              "      <td>...</td>\n",
              "      <td>...</td>\n",
              "      <td>...</td>\n",
              "      <td>...</td>\n",
              "      <td>...</td>\n",
              "    </tr>\n",
              "    <tr>\n",
              "      <th>640</th>\n",
              "      <td>3905</td>\n",
              "      <td>SP</td>\n",
              "      <td>35.0</td>\n",
              "      <td>56909.0</td>\n",
              "      <td>VISTA ALEGRE DO ALTO</td>\n",
              "      <td>6682.0</td>\n",
              "    </tr>\n",
              "    <tr>\n",
              "      <th>641</th>\n",
              "      <td>3906</td>\n",
              "      <td>SP</td>\n",
              "      <td>35.0</td>\n",
              "      <td>56958.0</td>\n",
              "      <td>VITÓRIA BRASIL</td>\n",
              "      <td>1664.0</td>\n",
              "    </tr>\n",
              "    <tr>\n",
              "      <th>642</th>\n",
              "      <td>3907</td>\n",
              "      <td>SP</td>\n",
              "      <td>35.0</td>\n",
              "      <td>57006.0</td>\n",
              "      <td>VOTORANTIM</td>\n",
              "      <td>104413.0</td>\n",
              "    </tr>\n",
              "    <tr>\n",
              "      <th>643</th>\n",
              "      <td>3908</td>\n",
              "      <td>SP</td>\n",
              "      <td>35.0</td>\n",
              "      <td>57105.0</td>\n",
              "      <td>VOTUPORANGA</td>\n",
              "      <td>80819.0</td>\n",
              "    </tr>\n",
              "    <tr>\n",
              "      <th>644</th>\n",
              "      <td>3909</td>\n",
              "      <td>SP</td>\n",
              "      <td>35.0</td>\n",
              "      <td>57154.0</td>\n",
              "      <td>ZACARIAS</td>\n",
              "      <td>2384.0</td>\n",
              "    </tr>\n",
              "  </tbody>\n",
              "</table>\n",
              "<p>645 rows × 6 columns</p>\n",
              "</div>"
            ],
            "text/plain": [
              "     index  UF  ...            MUNICÍPIOS POPULAÇÃO ESTIMADA\n",
              "0     3265  SP  ...            ADAMANTINA            34366.0\n",
              "1     3266  SP  ...                ADOLFO             3711.0\n",
              "2     3267  SP  ...                 AGUAÍ            31763.0\n",
              "3     3268  SP  ...        ÁGUAS DA PRATA             7684.0\n",
              "4     3269  SP  ...      ÁGUAS DE LINDÓIA            16335.0\n",
              "..     ...  ..  ...                   ...                ...\n",
              "640   3905  SP  ...  VISTA ALEGRE DO ALTO             6682.0\n",
              "641   3906  SP  ...        VITÓRIA BRASIL             1664.0\n",
              "642   3907  SP  ...            VOTORANTIM           104413.0\n",
              "643   3908  SP  ...           VOTUPORANGA            80819.0\n",
              "644   3909  SP  ...              ZACARIAS             2384.0\n",
              "\n",
              "[645 rows x 6 columns]"
            ]
          },
          "metadata": {
            "tags": []
          },
          "execution_count": 93
        }
      ]
    },
    {
      "cell_type": "code",
      "metadata": {
        "id": "D61sNlXZToZA"
      },
      "source": [
        "# Criação de nova dataframe com filtragem do dataframe est_pop_2008 com despesas_2008\n",
        "\n",
        "concatenação_2008 = pd.concat([est_pop_2008.set_index('MUNICÍPIOS'),despesas_2008.set_index('NM_UE')], axis=1, join='inner')\n",
        "concatenação_2008 = concatenação_2008[['POPULAÇÃO ESTIMADA','NO_CAND','VR_DESPESA']]"
      ],
      "execution_count": 94,
      "outputs": []
    },
    {
      "cell_type": "code",
      "metadata": {
        "id": "qKji0D3aToY6",
        "colab": {
          "base_uri": "https://localhost:8080/"
        },
        "outputId": "e059eeb8-1711-4ef5-d334-e69cbbcb7715"
      },
      "source": [
        "# Verificação da ocorrencia do nome dos candidatos no dataframe candidatos_2008 em comparação com o dataframe concatenação_2008\n",
        "\n",
        "lista = [x for x in concatenação_2008['NO_CAND'] if x not in list(candidatos_2008['NOME_CANDIDATO'])]\n",
        "print(lista)"
      ],
      "execution_count": 95,
      "outputs": [
        {
          "output_type": "stream",
          "text": [
            "[\"WANDERLEY JOSÉ CASSIANO SANT'ANNA\"]\n"
          ],
          "name": "stdout"
        }
      ]
    },
    {
      "cell_type": "code",
      "metadata": {
        "id": "ye71yTgIToY8",
        "colab": {
          "base_uri": "https://localhost:8080/"
        },
        "outputId": "552db3de-f6dd-4691-9943-319fb307449a"
      },
      "source": [
        "# Verificação de nomes duplicados no dataframe concatenação_2008\n",
        "\n",
        "lista = [x for x in concatenação_2008['NO_CAND'] if list(concatenação_2008['NO_CAND']).count(x) > 1]\n",
        "print(lista)"
      ],
      "execution_count": 96,
      "outputs": [
        {
          "output_type": "stream",
          "text": [
            "['JOÃO BATISTA DE ANDRADE', 'JOÃO BATISTA DE ANDRADE']\n"
          ],
          "name": "stdout"
        }
      ]
    },
    {
      "cell_type": "code",
      "metadata": {
        "colab": {
          "base_uri": "https://localhost:8080/",
          "height": 111
        },
        "id": "sU38E44k7zbr",
        "outputId": "1e5c7270-3718-4e2f-9d87-f9c3905ea4f7"
      },
      "source": [
        "# Verificação dos resultados duplicados\n",
        "\n",
        "concatenação_2008[concatenação_2008['NO_CAND'] == 'JOÃO BATISTA DE ANDRADE']"
      ],
      "execution_count": 97,
      "outputs": [
        {
          "output_type": "execute_result",
          "data": {
            "text/html": [
              "<div>\n",
              "<style scoped>\n",
              "    .dataframe tbody tr th:only-of-type {\n",
              "        vertical-align: middle;\n",
              "    }\n",
              "\n",
              "    .dataframe tbody tr th {\n",
              "        vertical-align: top;\n",
              "    }\n",
              "\n",
              "    .dataframe thead th {\n",
              "        text-align: right;\n",
              "    }\n",
              "</style>\n",
              "<table border=\"1\" class=\"dataframe\">\n",
              "  <thead>\n",
              "    <tr style=\"text-align: right;\">\n",
              "      <th></th>\n",
              "      <th>POPULAÇÃO ESTIMADA</th>\n",
              "      <th>NO_CAND</th>\n",
              "      <th>VR_DESPESA</th>\n",
              "    </tr>\n",
              "  </thead>\n",
              "  <tbody>\n",
              "    <tr>\n",
              "      <th>JACUPIRANGA</th>\n",
              "      <td>16403.0</td>\n",
              "      <td>JOÃO BATISTA DE ANDRADE</td>\n",
              "      <td>68465.26</td>\n",
              "    </tr>\n",
              "    <tr>\n",
              "      <th>PITANGUEIRAS</th>\n",
              "      <td>35070.0</td>\n",
              "      <td>JOÃO BATISTA DE ANDRADE</td>\n",
              "      <td>217206.49</td>\n",
              "    </tr>\n",
              "  </tbody>\n",
              "</table>\n",
              "</div>"
            ],
            "text/plain": [
              "             POPULAÇÃO ESTIMADA                  NO_CAND  VR_DESPESA\n",
              "JACUPIRANGA             16403.0  JOÃO BATISTA DE ANDRADE    68465.26\n",
              "PITANGUEIRAS            35070.0  JOÃO BATISTA DE ANDRADE   217206.49"
            ]
          },
          "metadata": {
            "tags": []
          },
          "execution_count": 97
        }
      ]
    },
    {
      "cell_type": "code",
      "metadata": {
        "id": "hwxIob3OToZC"
      },
      "source": [
        "# Verificação e adição ao dataframe se o candidato foi o mais votado ou não \n",
        "\n",
        "concatenação_2008 = concatenação_2008.reset_index()\n",
        "mais_votado = []\n",
        "for x in range(len(concatenação_2008['NO_CAND'])):\n",
        "    if concatenação_2008['NO_CAND'][x] in list(resultados_2008['NOME_CANDIDATO']):\n",
        "        mais_votado.append('SIM')\n",
        "    else:\n",
        "        mais_votado.append('NÃO')\n",
        "\n",
        "concatenação_2008['MAIS VOTADO'] = mais_votado\n",
        "\n",
        "# Adição do gênero de cada candidato\n",
        "\n",
        "genero = []\n",
        "candidato = []\n",
        "for x, val1 in enumerate(concatenação_2008['NO_CAND']):\n",
        "    if val1 == \"WANDERLEY JOSÉ CASSIANO SANT'ANNA\" :\n",
        "        candidato.append(val1)\n",
        "        genero.append('Não Identificado')\n",
        "    for y, val2 in enumerate(candidatos_2008['NOME_CANDIDATO']):\n",
        "        if val1 == val2:\n",
        "            if val1 not in candidato:\n",
        "                candidato.append(candidatos_2008['NOME_CANDIDATO'][y])\n",
        "                genero.append(candidatos_2008['DESCRICAO_SEXO'][y])\n",
        "                if val1 == 'JOÃO BATISTA DE ANDRADE' :\n",
        "                    candidato.append(val1)\n",
        "                    genero.append(candidatos_2008['DESCRICAO_SEXO'][y])\n",
        "\n",
        "concatenação_2008['DS_GENERO'] = genero"
      ],
      "execution_count": 98,
      "outputs": []
    },
    {
      "cell_type": "code",
      "metadata": {
        "id": "eMHnUwnOToZE"
      },
      "source": [
        "# Tratamento do dado \n",
        "\n",
        "concatenação_2008['POPULAÇÃO ESTIMADA'] = concatenação_2008['POPULAÇÃO ESTIMADA'].apply(lambda x: pd.to_numeric(x.replace(',','.'), errors='coerce'))"
      ],
      "execution_count": 99,
      "outputs": []
    },
    {
      "cell_type": "code",
      "metadata": {
        "id": "UTR30KY1ToZG"
      },
      "source": [
        "# Filtragem por tamanho de população\n",
        "\n",
        "ate1mil_2008 = concatenação_2008[concatenação_2008['POPULAÇÃO ESTIMADA'] <= 1000]\n",
        "\n",
        "ate10mil_2008 = concatenação_2008[(concatenação_2008['POPULAÇÃO ESTIMADA'] > 1000) & (concatenação_2008['POPULAÇÃO ESTIMADA'] <= 10000)]\n",
        "\n",
        "ate100mil_2008 = concatenação_2008[(concatenação_2008['POPULAÇÃO ESTIMADA'] > 10000) & (concatenação_2008['POPULAÇÃO ESTIMADA'] <= 100000)]\n",
        "\n",
        "ate1milhao_2008 = concatenação_2008[(concatenação_2008['POPULAÇÃO ESTIMADA'] > 100000) & (concatenação_2008['POPULAÇÃO ESTIMADA'] <= 1000000)]\n",
        "\n",
        "maior1milhao_2008 = concatenação_2008[concatenação_2008['POPULAÇÃO ESTIMADA'] > 1000000]\n"
      ],
      "execution_count": 100,
      "outputs": []
    },
    {
      "cell_type": "code",
      "metadata": {
        "id": "BsVq11KLu3gV"
      },
      "source": [
        "# Realizando leitura do arquivo despesas_candidatos_2012_SP.txt com delimitação de leitura de colunas\n",
        "\n",
        "fields = ['Município', 'Nome candidato', 'Cargo', 'Valor despesa']\n",
        "despesas_2012 = pd.read_csv('drive/My Drive/Colab Notebooks/Estudo_Campanha_Eleitoral_e_Resultados/despesas_candidatos_2012_SP.txt', delimiter=';', error_bad_lines=False, encoding=\"ISO-8859-1\", engine=\"python\", usecols=fields, warn_bad_lines=False)\n"
      ],
      "execution_count": 101,
      "outputs": []
    },
    {
      "cell_type": "code",
      "metadata": {
        "id": "X59B4wsNu3gY",
        "colab": {
          "base_uri": "https://localhost:8080/",
          "height": 419
        },
        "outputId": "426e0074-b24b-4e10-c146-788497185be5"
      },
      "source": [
        "# Tratamento e filtragem dos dados\n",
        "\n",
        "despesas_2012['Valor despesa'] = despesas_2012['Valor despesa'].apply(lambda x: pd.to_numeric(x.replace(',','.'), errors='coerce'))\n",
        "despesas_2012 = despesas_2012[despesas_2012['Cargo'] =='Prefeito']\n",
        "despesas_2012 = despesas_2012.groupby(['Município', 'Nome candidato']).sum()\n",
        "despesas_2012 = despesas_2012[despesas_2012['Valor despesa'] == despesas_2012.groupby('Município')['Valor despesa'].transform('max')]\n",
        "despesas_2012 = despesas_2012.reset_index()\n",
        "despesas_2012"
      ],
      "execution_count": 102,
      "outputs": [
        {
          "output_type": "execute_result",
          "data": {
            "text/html": [
              "<div>\n",
              "<style scoped>\n",
              "    .dataframe tbody tr th:only-of-type {\n",
              "        vertical-align: middle;\n",
              "    }\n",
              "\n",
              "    .dataframe tbody tr th {\n",
              "        vertical-align: top;\n",
              "    }\n",
              "\n",
              "    .dataframe thead th {\n",
              "        text-align: right;\n",
              "    }\n",
              "</style>\n",
              "<table border=\"1\" class=\"dataframe\">\n",
              "  <thead>\n",
              "    <tr style=\"text-align: right;\">\n",
              "      <th></th>\n",
              "      <th>Município</th>\n",
              "      <th>Nome candidato</th>\n",
              "      <th>Valor despesa</th>\n",
              "    </tr>\n",
              "  </thead>\n",
              "  <tbody>\n",
              "    <tr>\n",
              "      <th>0</th>\n",
              "      <td>ADAMANTINA</td>\n",
              "      <td>JOSÉ ROBERTO FERREIRA</td>\n",
              "      <td>47561.20</td>\n",
              "    </tr>\n",
              "    <tr>\n",
              "      <th>1</th>\n",
              "      <td>ADOLFO</td>\n",
              "      <td>NELSON GIMENEZ RIBEIRO</td>\n",
              "      <td>49510.60</td>\n",
              "    </tr>\n",
              "    <tr>\n",
              "      <th>2</th>\n",
              "      <td>AGUAÍ</td>\n",
              "      <td>SEBASTIÃO BIAZZO</td>\n",
              "      <td>165803.27</td>\n",
              "    </tr>\n",
              "    <tr>\n",
              "      <th>3</th>\n",
              "      <td>AGUDOS</td>\n",
              "      <td>EVERTON OCTAVIANI</td>\n",
              "      <td>112300.00</td>\n",
              "    </tr>\n",
              "    <tr>\n",
              "      <th>4</th>\n",
              "      <td>ALAMBARI</td>\n",
              "      <td>HUDSON JOSE GOMES</td>\n",
              "      <td>25200.00</td>\n",
              "    </tr>\n",
              "    <tr>\n",
              "      <th>...</th>\n",
              "      <td>...</td>\n",
              "      <td>...</td>\n",
              "      <td>...</td>\n",
              "    </tr>\n",
              "    <tr>\n",
              "      <th>638</th>\n",
              "      <td>ÁGUAS DE SÃO PEDRO</td>\n",
              "      <td>PAULO CESAR BORGES</td>\n",
              "      <td>20742.50</td>\n",
              "    </tr>\n",
              "    <tr>\n",
              "      <th>639</th>\n",
              "      <td>ÁLVARES FLORENCE</td>\n",
              "      <td>CALIMERIO LUIZ CORREA SALES</td>\n",
              "      <td>21166.12</td>\n",
              "    </tr>\n",
              "    <tr>\n",
              "      <th>640</th>\n",
              "      <td>ÁLVARES MACHADO</td>\n",
              "      <td>JULIANO RIBEIRO GARCIA</td>\n",
              "      <td>68349.69</td>\n",
              "    </tr>\n",
              "    <tr>\n",
              "      <th>641</th>\n",
              "      <td>ÁLVARO DE CARVALHO</td>\n",
              "      <td>MARCOS DEL CASTILHO ZORZETO</td>\n",
              "      <td>13078.31</td>\n",
              "    </tr>\n",
              "    <tr>\n",
              "      <th>642</th>\n",
              "      <td>ÓLEO</td>\n",
              "      <td>JORDÃO ANTONIO VIDOTTO</td>\n",
              "      <td>5768.00</td>\n",
              "    </tr>\n",
              "  </tbody>\n",
              "</table>\n",
              "<p>643 rows × 3 columns</p>\n",
              "</div>"
            ],
            "text/plain": [
              "              Município               Nome candidato  Valor despesa\n",
              "0            ADAMANTINA        JOSÉ ROBERTO FERREIRA       47561.20\n",
              "1                ADOLFO       NELSON GIMENEZ RIBEIRO       49510.60\n",
              "2                 AGUAÍ             SEBASTIÃO BIAZZO      165803.27\n",
              "3                AGUDOS            EVERTON OCTAVIANI      112300.00\n",
              "4              ALAMBARI            HUDSON JOSE GOMES       25200.00\n",
              "..                  ...                          ...            ...\n",
              "638  ÁGUAS DE SÃO PEDRO           PAULO CESAR BORGES       20742.50\n",
              "639    ÁLVARES FLORENCE  CALIMERIO LUIZ CORREA SALES       21166.12\n",
              "640     ÁLVARES MACHADO       JULIANO RIBEIRO GARCIA       68349.69\n",
              "641  ÁLVARO DE CARVALHO  MARCOS DEL CASTILHO ZORZETO       13078.31\n",
              "642                ÓLEO       JORDÃO ANTONIO VIDOTTO        5768.00\n",
              "\n",
              "[643 rows x 3 columns]"
            ]
          },
          "metadata": {
            "tags": []
          },
          "execution_count": 102
        }
      ]
    },
    {
      "cell_type": "code",
      "metadata": {
        "id": "aT3Mq7Xyu3gb"
      },
      "source": [
        "# Leitura e tratamento do arquivo consulta_cand_2012_SP.txt\n",
        "\n",
        "candidatos_2012 = pd.read_csv(\"drive/My Drive/Colab Notebooks/Estudo_Campanha_Eleitoral_e_Resultados/consulta_cand_2012_SP.txt\", delimiter=';', error_bad_lines=False, encoding=\"ISO-8859-1\", names=[\"DATA_GERACAO\",\"HORA_GERACAO\",\"ANO_ELEICAO\",\"NUM_TURNO\",\"DESCRICAO_ELEICAO\",\"SIGLA_UF\",\"SIGLA_UE\",\"DESCRICAO_UE\",\"CODIGO_CARGO\",\"DESCRICAO_CARGO\",\"NOME_CANDIDATO\",\"SEQUENCIAL_CANDIDATO\",\"NUMERO_CANDIDATO\",\"CPF_CANDIDATO\",\"NOME_URNA_CANDIDATO\",\"COD_SITUACAO_CANDIDATURA\",\"DES_SITUACAO_CANDIDATURA\",\"NUMERO_PARTIDO\",\"SIGLA_PARTIDO\",\"NOME_PARTIDO\",\"CODIGO_LEGENDA\",\"SIGLA_LEGENDA\",\"COMPOSICAO_LEGENDA\",\"NOME_LEGENDA\",\"CODIGO_OCUPACAO\",\"DESCRICAO_OCUPACAO\",\"DATA_NASCIMENTO\",\"NUM_TITULO_ELEITORAL_CANDIDATO\",\"IDADE_DATA_ELEICAO\",\"CODIGO_SEXO\",\"DESCRICAO_SEXO\",\"COD_GRAU_INSTRUCAO\",\"DESCRICAO_GRAU_INSTRUCAO\",\"CODIGO_ESTADO_CIVIL\",\"DESCRICAO_ESTADO_CIVIL\",\"CODIGO_NACIONALIDADE\",\"DESCRICAO_NACIONALIDADE\",\"SIGLA_UF_NASCIMENTO\",\"CODIGO_MUNICIPIO_NASCIMENTO\",\"NOME_MUNICIPIO_NASCIMENTO\",\"DESPESA_MAX_CAMPANHA\",\"COD_SIT_TOT_TURNO\",\"DESC_SIT_TOT_TURNO\",\"NM_EMAIL\"])"
      ],
      "execution_count": 103,
      "outputs": []
    },
    {
      "cell_type": "code",
      "metadata": {
        "id": "vbLmNuwCu3ge",
        "colab": {
          "base_uri": "https://localhost:8080/",
          "height": 419
        },
        "outputId": "0bfa9a91-2e97-427a-d559-4f0c88b7e3bd"
      },
      "source": [
        "# Filtragem dos resultados das linhas\n",
        "\n",
        "candidatos_2012 = candidatos_2012[['NOME_CANDIDATO', 'DESCRICAO_CARGO', 'DESCRICAO_UE', 'DESCRICAO_SEXO']]\n",
        "candidatos_2012 = candidatos_2012[candidatos_2012.DESCRICAO_CARGO == \"PREFEITO\"]\n",
        "candidatos_2012 = candidatos_2012.reset_index()\n",
        "candidatos_2012"
      ],
      "execution_count": 104,
      "outputs": [
        {
          "output_type": "execute_result",
          "data": {
            "text/html": [
              "<div>\n",
              "<style scoped>\n",
              "    .dataframe tbody tr th:only-of-type {\n",
              "        vertical-align: middle;\n",
              "    }\n",
              "\n",
              "    .dataframe tbody tr th {\n",
              "        vertical-align: top;\n",
              "    }\n",
              "\n",
              "    .dataframe thead th {\n",
              "        text-align: right;\n",
              "    }\n",
              "</style>\n",
              "<table border=\"1\" class=\"dataframe\">\n",
              "  <thead>\n",
              "    <tr style=\"text-align: right;\">\n",
              "      <th></th>\n",
              "      <th>index</th>\n",
              "      <th>NOME_CANDIDATO</th>\n",
              "      <th>DESCRICAO_CARGO</th>\n",
              "      <th>DESCRICAO_UE</th>\n",
              "      <th>DESCRICAO_SEXO</th>\n",
              "    </tr>\n",
              "  </thead>\n",
              "  <tbody>\n",
              "    <tr>\n",
              "      <th>0</th>\n",
              "      <td>1917</td>\n",
              "      <td>ALEXANDRE DE SIQUEIRA BRAGA</td>\n",
              "      <td>PREFEITO</td>\n",
              "      <td>SÃO JOSÉ DO BARREIRO</td>\n",
              "      <td>MASCULINO</td>\n",
              "    </tr>\n",
              "    <tr>\n",
              "      <th>1</th>\n",
              "      <td>1932</td>\n",
              "      <td>MARIA APARECIDA DA SILVA PONTELLI</td>\n",
              "      <td>PREFEITO</td>\n",
              "      <td>SAGRES</td>\n",
              "      <td>FEMININO</td>\n",
              "    </tr>\n",
              "    <tr>\n",
              "      <th>2</th>\n",
              "      <td>1933</td>\n",
              "      <td>JOSE ROBERTO FUMACH</td>\n",
              "      <td>PREFEITO</td>\n",
              "      <td>ITATIBA</td>\n",
              "      <td>MASCULINO</td>\n",
              "    </tr>\n",
              "    <tr>\n",
              "      <th>3</th>\n",
              "      <td>1934</td>\n",
              "      <td>THIAGO RODRIGO ROCHITI</td>\n",
              "      <td>PREFEITO</td>\n",
              "      <td>TORRINHA</td>\n",
              "      <td>MASCULINO</td>\n",
              "    </tr>\n",
              "    <tr>\n",
              "      <th>4</th>\n",
              "      <td>1983</td>\n",
              "      <td>RENATO APARECIDO BENDETTI</td>\n",
              "      <td>PREFEITO</td>\n",
              "      <td>ITU</td>\n",
              "      <td>MASCULINO</td>\n",
              "    </tr>\n",
              "    <tr>\n",
              "      <th>...</th>\n",
              "      <td>...</td>\n",
              "      <td>...</td>\n",
              "      <td>...</td>\n",
              "      <td>...</td>\n",
              "      <td>...</td>\n",
              "    </tr>\n",
              "    <tr>\n",
              "      <th>2178</th>\n",
              "      <td>81740</td>\n",
              "      <td>MARINETE TENÓRIO CAVALCANTE</td>\n",
              "      <td>PREFEITO</td>\n",
              "      <td>BENTO DE ABREU</td>\n",
              "      <td>FEMININO</td>\n",
              "    </tr>\n",
              "    <tr>\n",
              "      <th>2179</th>\n",
              "      <td>81744</td>\n",
              "      <td>JOSE LUIZ DE PAULA CAMANDUCCI</td>\n",
              "      <td>PREFEITO</td>\n",
              "      <td>VARGEM</td>\n",
              "      <td>MASCULINO</td>\n",
              "    </tr>\n",
              "    <tr>\n",
              "      <th>2180</th>\n",
              "      <td>81745</td>\n",
              "      <td>SILAS MARQUES DA ROSA</td>\n",
              "      <td>PREFEITO</td>\n",
              "      <td>VARGEM</td>\n",
              "      <td>MASCULINO</td>\n",
              "    </tr>\n",
              "    <tr>\n",
              "      <th>2181</th>\n",
              "      <td>81746</td>\n",
              "      <td>CLAUDEMIR PEREIRA DA SILVA</td>\n",
              "      <td>PREFEITO</td>\n",
              "      <td>VARGEM</td>\n",
              "      <td>MASCULINO</td>\n",
              "    </tr>\n",
              "    <tr>\n",
              "      <th>2182</th>\n",
              "      <td>81748</td>\n",
              "      <td>DANIEL MARQUES DA ROSA</td>\n",
              "      <td>PREFEITO</td>\n",
              "      <td>VARGEM</td>\n",
              "      <td>MASCULINO</td>\n",
              "    </tr>\n",
              "  </tbody>\n",
              "</table>\n",
              "<p>2183 rows × 5 columns</p>\n",
              "</div>"
            ],
            "text/plain": [
              "      index  ... DESCRICAO_SEXO\n",
              "0      1917  ...      MASCULINO\n",
              "1      1932  ...       FEMININO\n",
              "2      1933  ...      MASCULINO\n",
              "3      1934  ...      MASCULINO\n",
              "4      1983  ...      MASCULINO\n",
              "...     ...  ...            ...\n",
              "2178  81740  ...       FEMININO\n",
              "2179  81744  ...      MASCULINO\n",
              "2180  81745  ...      MASCULINO\n",
              "2181  81746  ...      MASCULINO\n",
              "2182  81748  ...      MASCULINO\n",
              "\n",
              "[2183 rows x 5 columns]"
            ]
          },
          "metadata": {
            "tags": []
          },
          "execution_count": 104
        }
      ]
    },
    {
      "cell_type": "code",
      "metadata": {
        "id": "VxoeORZdu3gl"
      },
      "source": [
        "# Leitura e tratamento do arquivo votacao_candidato_munzona_2012_SP.txt\n",
        "\n",
        "resultados_2012 = pd.read_csv(\"drive/My Drive/Colab Notebooks/Estudo_Campanha_Eleitoral_e_Resultados/votacao_candidato_munzona_2012_SP.txt\", delimiter=';', error_bad_lines=False, encoding=\"ISO-8859-1\", names=[\"DATA_GERACAO\",\"HORA_GERACAO\",\"ANO_ELEICAO\",\"NUM_TURNO\",\"DESCRICAO_ELEICAO\",\"SIGLA_UF\",\"SIGLA_UE\",\"CODIGO_MUNICIPIO\",\"NOME_MUNICIPIO\",\"NUMERO_ZONA\",\"CODIGO_CARGO\",\"NUMERO_CAND\",\"SQ_CANDIDATO\",\"NOME_CANDIDATO\",\"NOME_URNA_CANDIDATO\",\"DESCRICAO_CARGO\",\"COD_SIT_CAND_SUPERIOR\",\"DESC_SIT_CAND_SUPERIOR\",\"CODIGO_SIT_CANDIDATO\",\"DESC_SIT_CANDIDATO\",\"CODIGO_SIT_CAND_TOT\",\"DESC_SIT_CAND_TOT\",\"NUMERO_PARTIDO\",\"SIGLA_PARTIDO\",\"NOME_PARTIDO\",\"SEQUENCIAL_LEGENDA\",\"NOME_COLIGACAO\",\"COMPOSICAO_LEGENDA\",\"TOTAL_VOTOS\"])"
      ],
      "execution_count": 105,
      "outputs": []
    },
    {
      "cell_type": "code",
      "metadata": {
        "id": "cEhdXB-Du3gp",
        "colab": {
          "base_uri": "https://localhost:8080/",
          "height": 419
        },
        "outputId": "9ac5af99-356b-4f1f-f3ac-1f7ec0abf5b4"
      },
      "source": [
        "# Filtragem dos resultados\n",
        "\n",
        "resultados_2012 = resultados_2012[['NOME_MUNICIPIO', 'DESCRICAO_CARGO', 'NOME_CANDIDATO', 'TOTAL_VOTOS']]\n",
        "resultados_2012 = resultados_2012[resultados_2012['TOTAL_VOTOS'] == resultados_2012.groupby('NOME_MUNICIPIO')['TOTAL_VOTOS'].transform('max')]\n",
        "resultados_2012 = resultados_2012.reset_index()\n",
        "resultados_2012"
      ],
      "execution_count": 106,
      "outputs": [
        {
          "output_type": "execute_result",
          "data": {
            "text/html": [
              "<div>\n",
              "<style scoped>\n",
              "    .dataframe tbody tr th:only-of-type {\n",
              "        vertical-align: middle;\n",
              "    }\n",
              "\n",
              "    .dataframe tbody tr th {\n",
              "        vertical-align: top;\n",
              "    }\n",
              "\n",
              "    .dataframe thead th {\n",
              "        text-align: right;\n",
              "    }\n",
              "</style>\n",
              "<table border=\"1\" class=\"dataframe\">\n",
              "  <thead>\n",
              "    <tr style=\"text-align: right;\">\n",
              "      <th></th>\n",
              "      <th>index</th>\n",
              "      <th>NOME_MUNICIPIO</th>\n",
              "      <th>DESCRICAO_CARGO</th>\n",
              "      <th>NOME_CANDIDATO</th>\n",
              "      <th>TOTAL_VOTOS</th>\n",
              "    </tr>\n",
              "  </thead>\n",
              "  <tbody>\n",
              "    <tr>\n",
              "      <th>0</th>\n",
              "      <td>35</td>\n",
              "      <td>CANITAR</td>\n",
              "      <td>PREFEITO</td>\n",
              "      <td>ANIBAL FELICIANO</td>\n",
              "      <td>1571</td>\n",
              "    </tr>\n",
              "    <tr>\n",
              "      <th>1</th>\n",
              "      <td>61</td>\n",
              "      <td>VOTORANTIM</td>\n",
              "      <td>PREFEITO</td>\n",
              "      <td>ERINALDO ALVES DA SILVA</td>\n",
              "      <td>23534</td>\n",
              "    </tr>\n",
              "    <tr>\n",
              "      <th>2</th>\n",
              "      <td>181</td>\n",
              "      <td>ARAMINA</td>\n",
              "      <td>PREFEITO</td>\n",
              "      <td>LUIZ FERNANDO DOS SANTOS</td>\n",
              "      <td>2125</td>\n",
              "    </tr>\n",
              "    <tr>\n",
              "      <th>3</th>\n",
              "      <td>220</td>\n",
              "      <td>QUINTANA</td>\n",
              "      <td>PREFEITO</td>\n",
              "      <td>FERNANDO BRANCO NUNES</td>\n",
              "      <td>3016</td>\n",
              "    </tr>\n",
              "    <tr>\n",
              "      <th>4</th>\n",
              "      <td>265</td>\n",
              "      <td>POMPÉIA</td>\n",
              "      <td>PREFEITO</td>\n",
              "      <td>OSCAR NORIO YASUDA</td>\n",
              "      <td>6661</td>\n",
              "    </tr>\n",
              "    <tr>\n",
              "      <th>...</th>\n",
              "      <td>...</td>\n",
              "      <td>...</td>\n",
              "      <td>...</td>\n",
              "      <td>...</td>\n",
              "      <td>...</td>\n",
              "    </tr>\n",
              "    <tr>\n",
              "      <th>641</th>\n",
              "      <td>178897</td>\n",
              "      <td>NOVA ALIANÇA</td>\n",
              "      <td>PREFEITO</td>\n",
              "      <td>JURANDIR BARBOSA DE MORAIS</td>\n",
              "      <td>2236</td>\n",
              "    </tr>\n",
              "    <tr>\n",
              "      <th>642</th>\n",
              "      <td>178911</td>\n",
              "      <td>POTIRENDABA</td>\n",
              "      <td>PREFEITO</td>\n",
              "      <td>GISLAINE MONTANARI FRANZOTTI</td>\n",
              "      <td>5216</td>\n",
              "    </tr>\n",
              "    <tr>\n",
              "      <th>643</th>\n",
              "      <td>181737</td>\n",
              "      <td>SANTANA DE PARNAÍBA</td>\n",
              "      <td>PREFEITO</td>\n",
              "      <td>ELVIS LEONARDO CEZAR</td>\n",
              "      <td>36096</td>\n",
              "    </tr>\n",
              "    <tr>\n",
              "      <th>644</th>\n",
              "      <td>182384</td>\n",
              "      <td>BOREBI</td>\n",
              "      <td>PREFEITO</td>\n",
              "      <td>MANOEL FRIAS FILHO</td>\n",
              "      <td>897</td>\n",
              "    </tr>\n",
              "    <tr>\n",
              "      <th>645</th>\n",
              "      <td>182872</td>\n",
              "      <td>ITAQUAQUECETUBA</td>\n",
              "      <td>PREFEITO</td>\n",
              "      <td>MAMORU NAKASHIMA</td>\n",
              "      <td>45587</td>\n",
              "    </tr>\n",
              "  </tbody>\n",
              "</table>\n",
              "<p>646 rows × 5 columns</p>\n",
              "</div>"
            ],
            "text/plain": [
              "      index       NOME_MUNICIPIO  ...                NOME_CANDIDATO TOTAL_VOTOS\n",
              "0        35              CANITAR  ...              ANIBAL FELICIANO        1571\n",
              "1        61           VOTORANTIM  ...       ERINALDO ALVES DA SILVA       23534\n",
              "2       181              ARAMINA  ...      LUIZ FERNANDO DOS SANTOS        2125\n",
              "3       220             QUINTANA  ...         FERNANDO BRANCO NUNES        3016\n",
              "4       265              POMPÉIA  ...            OSCAR NORIO YASUDA        6661\n",
              "..      ...                  ...  ...                           ...         ...\n",
              "641  178897         NOVA ALIANÇA  ...    JURANDIR BARBOSA DE MORAIS        2236\n",
              "642  178911          POTIRENDABA  ...  GISLAINE MONTANARI FRANZOTTI        5216\n",
              "643  181737  SANTANA DE PARNAÍBA  ...          ELVIS LEONARDO CEZAR       36096\n",
              "644  182384               BOREBI  ...            MANOEL FRIAS FILHO         897\n",
              "645  182872      ITAQUAQUECETUBA  ...              MAMORU NAKASHIMA       45587\n",
              "\n",
              "[646 rows x 5 columns]"
            ]
          },
          "metadata": {
            "tags": []
          },
          "execution_count": 106
        }
      ]
    },
    {
      "cell_type": "code",
      "metadata": {
        "id": "9d7A6GNjKpz-"
      },
      "source": [
        "# Leitura e delimitação de colunas do arquivo estimativa_2012_TCU_20170614.xls\n",
        "\n",
        "fields = ['UF', 'NOME DO MUNICÍPIO', 'POPULAÇÃO ESTIMADA']\n",
        "est_pop_2012 = pd.read_excel('drive/My Drive/Colab Notebooks/Estudo_Campanha_Eleitoral_e_Resultados/estimativa_2012_TCU_20170614.xls', sheet_name=\"Municípios\", skiprows=1, nrows=5570, usecols=fields)\n",
        "est_pop_2012 = est_pop_2012.apply(lambda x: x.astype(str).str.upper())"
      ],
      "execution_count": 107,
      "outputs": []
    },
    {
      "cell_type": "code",
      "metadata": {
        "id": "52CvdalrLZwc"
      },
      "source": [
        "# Filtragem das linhas do estado de São Paulo\n",
        "\n",
        "est_pop_2012 = est_pop_2012[est_pop_2012.UF == \"SP\"]\n",
        "est_pop_2012 = est_pop_2012.reset_index()"
      ],
      "execution_count": 108,
      "outputs": []
    },
    {
      "cell_type": "code",
      "metadata": {
        "id": "sxsL_ZD2Ljue",
        "colab": {
          "base_uri": "https://localhost:8080/"
        },
        "outputId": "67bc0449-2154-4092-b575-187936539125"
      },
      "source": [
        "# Verificação da existencia dos nomes das cidades\n",
        "\n",
        "lista = [x for x in despesas_2012['Município'] if x not in list(est_pop_2012['NOME DO MUNICÍPIO'])]\n",
        "print(lista)"
      ],
      "execution_count": 109,
      "outputs": [
        {
          "output_type": "stream",
          "text": [
            "['BIRITIBA MIRIM', 'EMBU DAS ARTES', 'FLORÍNEA', 'GUAIMBÉ', 'ITAOCA', 'MOGI MIRIM']\n"
          ],
          "name": "stdout"
        }
      ]
    },
    {
      "cell_type": "code",
      "metadata": {
        "id": "MoX8MSFtMDaP",
        "colab": {
          "base_uri": "https://localhost:8080/"
        },
        "outputId": "8317247a-9bbf-442c-c569-be48d24dca48"
      },
      "source": [
        "# Impressão dos nomes das cidades \n",
        "\n",
        "lista = [x for x in est_pop_2012['NOME DO MUNICÍPIO']]\n",
        "print(lista)"
      ],
      "execution_count": 110,
      "outputs": [
        {
          "output_type": "stream",
          "text": [
            "['ADAMANTINA', 'ADOLFO', 'AGUAÍ', 'ÁGUAS DA PRATA', 'ÁGUAS DE LINDÓIA', 'ÁGUAS DE SANTA BÁRBARA', 'ÁGUAS DE SÃO PEDRO', 'AGUDOS', 'ALAMBARI', 'ALFREDO MARCONDES', 'ALTAIR', 'ALTINÓPOLIS', 'ALTO ALEGRE', 'ALUMÍNIO', 'ÁLVARES FLORENCE', 'ÁLVARES MACHADO', 'ÁLVARO DE CARVALHO', 'ALVINLÂNDIA', 'AMERICANA', 'AMÉRICO BRASILIENSE', 'AMÉRICO DE CAMPOS', 'AMPARO', 'ANALÂNDIA', 'ANDRADINA', 'ANGATUBA', 'ANHEMBI', 'ANHUMAS', 'APARECIDA', \"APARECIDA D'OESTE\", 'APIAÍ', 'ARAÇARIGUAMA', 'ARAÇATUBA', 'ARAÇOIABA DA SERRA', 'ARAMINA', 'ARANDU', 'ARAPEÍ', 'ARARAQUARA', 'ARARAS', 'ARCO-ÍRIS', 'AREALVA', 'AREIAS', 'AREIÓPOLIS', 'ARIRANHA', 'ARTUR NOGUEIRA', 'ARUJÁ', 'ASPÁSIA', 'ASSIS', 'ATIBAIA', 'AURIFLAMA', 'AVAÍ', 'AVANHANDAVA', 'AVARÉ', 'BADY BASSITT', 'BALBINOS', 'BÁLSAMO', 'BANANAL', 'BARÃO DE ANTONINA', 'BARBOSA', 'BARIRI', 'BARRA BONITA', 'BARRA DO CHAPÉU', 'BARRA DO TURVO', 'BARRETOS', 'BARRINHA', 'BARUERI', 'BASTOS', 'BATATAIS', 'BAURU', 'BEBEDOURO', 'BENTO DE ABREU', 'BERNARDINO DE CAMPOS', 'BERTIOGA', 'BILAC', 'BIRIGUI', 'BIRITIBA-MIRIM', 'BOA ESPERANÇA DO SUL', 'BOCAINA', 'BOFETE', 'BOITUVA', 'BOM JESUS DOS PERDÕES', 'BOM SUCESSO DE ITARARÉ', 'BORÁ', 'BORACÉIA', 'BORBOREMA', 'BOREBI', 'BOTUCATU', 'BRAGANÇA PAULISTA', 'BRAÚNA', 'BREJO ALEGRE', 'BRODOWSKI', 'BROTAS', 'BURI', 'BURITAMA', 'BURITIZAL', 'CABRÁLIA PAULISTA', 'CABREÚVA', 'CAÇAPAVA', 'CACHOEIRA PAULISTA', 'CACONDE', 'CAFELÂNDIA', 'CAIABU', 'CAIEIRAS', 'CAIUÁ', 'CAJAMAR', 'CAJATI', 'CAJOBI', 'CAJURU', 'CAMPINA DO MONTE ALEGRE', 'CAMPINAS', 'CAMPO LIMPO PAULISTA', 'CAMPOS DO JORDÃO', 'CAMPOS NOVOS PAULISTA', 'CANANÉIA', 'CANAS', 'CÂNDIDO MOTA', 'CÂNDIDO RODRIGUES', 'CANITAR', 'CAPÃO BONITO', 'CAPELA DO ALTO', 'CAPIVARI', 'CARAGUATATUBA', 'CARAPICUÍBA', 'CARDOSO', 'CASA BRANCA', 'CÁSSIA DOS COQUEIROS', 'CASTILHO', 'CATANDUVA', 'CATIGUÁ', 'CEDRAL', 'CERQUEIRA CÉSAR', 'CERQUILHO', 'CESÁRIO LANGE', 'CHARQUEADA', 'CHAVANTES', 'CLEMENTINA', 'COLINA', 'COLÔMBIA', 'CONCHAL', 'CONCHAS', 'CORDEIRÓPOLIS', 'COROADOS', 'CORONEL MACEDO', 'CORUMBATAÍ', 'COSMÓPOLIS', 'COSMORAMA', 'COTIA', 'CRAVINHOS', 'CRISTAIS PAULISTA', 'CRUZÁLIA', 'CRUZEIRO', 'CUBATÃO', 'CUNHA', 'DESCALVADO', 'DIADEMA', 'DIRCE REIS', 'DIVINOLÂNDIA', 'DOBRADA', 'DOIS CÓRREGOS', 'DOLCINÓPOLIS', 'DOURADO', 'DRACENA', 'DUARTINA', 'DUMONT', 'ECHAPORÃ', 'ELDORADO', 'ELIAS FAUSTO', 'ELISIÁRIO', 'EMBAÚBA', 'EMBU', 'EMBU-GUAÇU', 'EMILIANÓPOLIS', 'ENGENHEIRO COELHO', 'ESPÍRITO SANTO DO PINHAL', 'ESPÍRITO SANTO DO TURVO', 'ESTIVA GERBI', 'ESTRELA DO NORTE', \"ESTRELA D'OESTE\", 'EUCLIDES DA CUNHA PAULISTA', 'FARTURA', 'FERNANDO PRESTES', 'FERNANDÓPOLIS', 'FERNÃO', 'FERRAZ DE VASCONCELOS', 'FLORA RICA', 'FLOREAL', 'FLÓRIDA PAULISTA', 'FLORÍNIA', 'FRANCA', 'FRANCISCO MORATO', 'FRANCO DA ROCHA', 'GABRIEL MONTEIRO', 'GÁLIA', 'GARÇA', 'GASTÃO VIDIGAL', 'GAVIÃO PEIXOTO', 'GENERAL SALGADO', 'GETULINA', 'GLICÉRIO', 'GUAIÇARA', 'GUAIMBÊ', 'GUAÍRA', 'GUAPIAÇU', 'GUAPIARA', 'GUARÁ', 'GUARAÇAÍ', 'GUARACI', \"GUARANI D'OESTE\", 'GUARANTÃ', 'GUARARAPES', 'GUARAREMA', 'GUARATINGUETÁ', 'GUAREÍ', 'GUARIBA', 'GUARUJÁ', 'GUARULHOS', 'GUATAPARÁ', 'GUZOLÂNDIA', 'HERCULÂNDIA', 'HOLAMBRA', 'HORTOLÂNDIA', 'IACANGA', 'IACRI', 'IARAS', 'IBATÉ', 'IBIRÁ', 'IBIRAREMA', 'IBITINGA', 'IBIÚNA', 'ICÉM', 'IEPÊ', 'IGARAÇU DO TIETÊ', 'IGARAPAVA', 'IGARATÁ', 'IGUAPE', 'ILHA COMPRIDA', 'ILHA SOLTEIRA', 'ILHABELA', 'INDAIATUBA', 'INDIANA', 'INDIAPORÃ', 'INÚBIA PAULISTA', 'IPAUSSU', 'IPERÓ', 'IPEÚNA', 'IPIGUÁ', 'IPORANGA', 'IPUÃ', 'IRACEMÁPOLIS', 'IRAPUÃ', 'IRAPURU', 'ITABERÁ', 'ITAÍ', 'ITAJOBI', 'ITAJU', 'ITANHAÉM', 'ITAÓCA', 'ITAPECERICA DA SERRA', 'ITAPETININGA', 'ITAPEVA', 'ITAPEVI', 'ITAPIRA', 'ITAPIRAPUÃ PAULISTA', 'ITÁPOLIS', 'ITAPORANGA', 'ITAPUÍ', 'ITAPURA', 'ITAQUAQUECETUBA', 'ITARARÉ', 'ITARIRI', 'ITATIBA', 'ITATINGA', 'ITIRAPINA', 'ITIRAPUÃ', 'ITOBI', 'ITU', 'ITUPEVA', 'ITUVERAVA', 'JABORANDI', 'JABOTICABAL', 'JACAREÍ', 'JACI', 'JACUPIRANGA', 'JAGUARIÚNA', 'JALES', 'JAMBEIRO', 'JANDIRA', 'JARDINÓPOLIS', 'JARINU', 'JAÚ', 'JERIQUARA', 'JOANÓPOLIS', 'JOÃO RAMALHO', 'JOSÉ BONIFÁCIO', 'JÚLIO MESQUITA', 'JUMIRIM', 'JUNDIAÍ', 'JUNQUEIRÓPOLIS', 'JUQUIÁ', 'JUQUITIBA', 'LAGOINHA', 'LARANJAL PAULISTA', 'LAVÍNIA', 'LAVRINHAS', 'LEME', 'LENÇÓIS PAULISTA', 'LIMEIRA', 'LINDÓIA', 'LINS', 'LORENA', 'LOURDES', 'LOUVEIRA', 'LUCÉLIA', 'LUCIANÓPOLIS', 'LUÍS ANTÔNIO', 'LUIZIÂNIA', 'LUPÉRCIO', 'LUTÉCIA', 'MACATUBA', 'MACAUBAL', 'MACEDÔNIA', 'MAGDA', 'MAIRINQUE', 'MAIRIPORÃ', 'MANDURI', 'MARABÁ PAULISTA', 'MARACAÍ', 'MARAPOAMA', 'MARIÁPOLIS', 'MARÍLIA', 'MARINÓPOLIS', 'MARTINÓPOLIS', 'MATÃO', 'MAUÁ', 'MENDONÇA', 'MERIDIANO', 'MESÓPOLIS', 'MIGUELÓPOLIS', 'MINEIROS DO TIETÊ', 'MIRA ESTRELA', 'MIRACATU', 'MIRANDÓPOLIS', 'MIRANTE DO PARANAPANEMA', 'MIRASSOL', 'MIRASSOLÂNDIA', 'MOCOCA', 'MOGI DAS CRUZES', 'MOGI GUAÇU', 'MOJI MIRIM', 'MOMBUCA', 'MONÇÕES', 'MONGAGUÁ', 'MONTE ALEGRE DO SUL', 'MONTE ALTO', 'MONTE APRAZÍVEL', 'MONTE AZUL PAULISTA', 'MONTE CASTELO', 'MONTE MOR', 'MONTEIRO LOBATO', 'MORRO AGUDO', 'MORUNGABA', 'MOTUCA', 'MURUTINGA DO SUL', 'NANTES', 'NARANDIBA', 'NATIVIDADE DA SERRA', 'NAZARÉ PAULISTA', 'NEVES PAULISTA', 'NHANDEARA', 'NIPOÃ', 'NOVA ALIANÇA', 'NOVA CAMPINA', 'NOVA CANAÃ PAULISTA', 'NOVA CASTILHO', 'NOVA EUROPA', 'NOVA GRANADA', 'NOVA GUATAPORANGA', 'NOVA INDEPENDÊNCIA', 'NOVA LUZITÂNIA', 'NOVA ODESSA', 'NOVAIS', 'NOVO HORIZONTE', 'NUPORANGA', 'OCAUÇU', 'ÓLEO', 'OLÍMPIA', 'ONDA VERDE', 'ORIENTE', 'ORINDIÚVA', 'ORLÂNDIA', 'OSASCO', 'OSCAR BRESSANE', 'OSVALDO CRUZ', 'OURINHOS', 'OURO VERDE', 'OUROESTE', 'PACAEMBU', 'PALESTINA', 'PALMARES PAULISTA', \"PALMEIRA D'OESTE\", 'PALMITAL', 'PANORAMA', 'PARAGUAÇU PAULISTA', 'PARAIBUNA', 'PARAÍSO', 'PARANAPANEMA', 'PARANAPUÃ', 'PARAPUÃ', 'PARDINHO', 'PARIQUERA-AÇU', 'PARISI', 'PATROCÍNIO PAULISTA', 'PAULICÉIA', 'PAULÍNIA', 'PAULISTÂNIA', 'PAULO DE FARIA', 'PEDERNEIRAS', 'PEDRA BELA', 'PEDRANÓPOLIS', 'PEDREGULHO', 'PEDREIRA', 'PEDRINHAS PAULISTA', 'PEDRO DE TOLEDO', 'PENÁPOLIS', 'PEREIRA BARRETO', 'PEREIRAS', 'PERUÍBE', 'PIACATU', 'PIEDADE', 'PILAR DO SUL', 'PINDAMONHANGABA', 'PINDORAMA', 'PINHALZINHO', 'PIQUEROBI', 'PIQUETE', 'PIRACAIA', 'PIRACICABA', 'PIRAJU', 'PIRAJUÍ', 'PIRANGI', 'PIRAPORA DO BOM JESUS', 'PIRAPOZINHO', 'PIRASSUNUNGA', 'PIRATININGA', 'PITANGUEIRAS', 'PLANALTO', 'PLATINA', 'POÁ', 'POLONI', 'POMPÉIA', 'PONGAÍ', 'PONTAL', 'PONTALINDA', 'PONTES GESTAL', 'POPULINA', 'PORANGABA', 'PORTO FELIZ', 'PORTO FERREIRA', 'POTIM', 'POTIRENDABA', 'PRACINHA', 'PRADÓPOLIS', 'PRAIA GRANDE', 'PRATÂNIA', 'PRESIDENTE ALVES', 'PRESIDENTE BERNARDES', 'PRESIDENTE EPITÁCIO', 'PRESIDENTE PRUDENTE', 'PRESIDENTE VENCESLAU', 'PROMISSÃO', 'QUADRA', 'QUATÁ', 'QUEIROZ', 'QUELUZ', 'QUINTANA', 'RAFARD', 'RANCHARIA', 'REDENÇÃO DA SERRA', 'REGENTE FEIJÓ', 'REGINÓPOLIS', 'REGISTRO', 'RESTINGA', 'RIBEIRA', 'RIBEIRÃO BONITO', 'RIBEIRÃO BRANCO', 'RIBEIRÃO CORRENTE', 'RIBEIRÃO DO SUL', 'RIBEIRÃO DOS ÍNDIOS', 'RIBEIRÃO GRANDE', 'RIBEIRÃO PIRES', 'RIBEIRÃO PRETO', 'RIFAINA', 'RINCÃO', 'RINÓPOLIS', 'RIO CLARO', 'RIO DAS PEDRAS', 'RIO GRANDE DA SERRA', 'RIOLÂNDIA', 'RIVERSUL', 'ROSANA', 'ROSEIRA', 'RUBIÁCEA', 'RUBINÉIA', 'SABINO', 'SAGRES', 'SALES', 'SALES OLIVEIRA', 'SALESÓPOLIS', 'SALMOURÃO', 'SALTINHO', 'SALTO', 'SALTO DE PIRAPORA', 'SALTO GRANDE', 'SANDOVALINA', 'SANTA ADÉLIA', 'SANTA ALBERTINA', \"SANTA BÁRBARA D'OESTE\", 'SANTA BRANCA', \"SANTA CLARA D'OESTE\", 'SANTA CRUZ DA CONCEIÇÃO', 'SANTA CRUZ DA ESPERANÇA', 'SANTA CRUZ DAS PALMEIRAS', 'SANTA CRUZ DO RIO PARDO', 'SANTA ERNESTINA', 'SANTA FÉ DO SUL', 'SANTA GERTRUDES', 'SANTA ISABEL', 'SANTA LÚCIA', 'SANTA MARIA DA SERRA', 'SANTA MERCEDES', 'SANTA RITA DO PASSA QUATRO', \"SANTA RITA D'OESTE\", 'SANTA ROSA DE VITERBO', 'SANTA SALETE', 'SANTANA DA PONTE PENSA', 'SANTANA DE PARNAÍBA', 'SANTO ANASTÁCIO', 'SANTO ANDRÉ', 'SANTO ANTÔNIO DA ALEGRIA', 'SANTO ANTÔNIO DE POSSE', 'SANTO ANTÔNIO DO ARACANGUÁ', 'SANTO ANTÔNIO DO JARDIM', 'SANTO ANTÔNIO DO PINHAL', 'SANTO EXPEDITO', 'SANTÓPOLIS DO AGUAPEÍ', 'SANTOS', 'SÃO BENTO DO SAPUCAÍ', 'SÃO BERNARDO DO CAMPO', 'SÃO CAETANO DO SUL', 'SÃO CARLOS', 'SÃO FRANCISCO', 'SÃO JOÃO DA BOA VISTA', 'SÃO JOÃO DAS DUAS PONTES', 'SÃO JOÃO DE IRACEMA', \"SÃO JOÃO DO PAU D'ALHO\", 'SÃO JOAQUIM DA BARRA', 'SÃO JOSÉ DA BELA VISTA', 'SÃO JOSÉ DO BARREIRO', 'SÃO JOSÉ DO RIO PARDO', 'SÃO JOSÉ DO RIO PRETO', 'SÃO JOSÉ DOS CAMPOS', 'SÃO LOURENÇO DA SERRA', 'SÃO LUÍS DO PARAITINGA', 'SÃO MANUEL', 'SÃO MIGUEL ARCANJO', 'SÃO PAULO', 'SÃO PEDRO', 'SÃO PEDRO DO TURVO', 'SÃO ROQUE', 'SÃO SEBASTIÃO', 'SÃO SEBASTIÃO DA GRAMA', 'SÃO SIMÃO', 'SÃO VICENTE', 'SARAPUÍ', 'SARUTAIÁ', 'SEBASTIANÓPOLIS DO SUL', 'SERRA AZUL', 'SERRA NEGRA', 'SERRANA', 'SERTÃOZINHO', 'SETE BARRAS', 'SEVERÍNIA', 'SILVEIRAS', 'SOCORRO', 'SOROCABA', 'SUD MENNUCCI', 'SUMARÉ', 'SUZANÁPOLIS', 'SUZANO', 'TABAPUÃ', 'TABATINGA', 'TABOÃO DA SERRA', 'TACIBA', 'TAGUAÍ', 'TAIAÇU', 'TAIÚVA', 'TAMBAÚ', 'TANABI', 'TAPIRAÍ', 'TAPIRATIBA', 'TAQUARAL', 'TAQUARITINGA', 'TAQUARITUBA', 'TAQUARIVAÍ', 'TARABAI', 'TARUMÃ', 'TATUÍ', 'TAUBATÉ', 'TEJUPÁ', 'TEODORO SAMPAIO', 'TERRA ROXA', 'TIETÊ', 'TIMBURI', 'TORRE DE PEDRA', 'TORRINHA', 'TRABIJU', 'TREMEMBÉ', 'TRÊS FRONTEIRAS', 'TUIUTI', 'TUPÃ', 'TUPI PAULISTA', 'TURIÚBA', 'TURMALINA', 'UBARANA', 'UBATUBA', 'UBIRAJARA', 'UCHOA', 'UNIÃO PAULISTA', 'URÂNIA', 'URU', 'URUPÊS', 'VALENTIM GENTIL', 'VALINHOS', 'VALPARAÍSO', 'VARGEM', 'VARGEM GRANDE DO SUL', 'VARGEM GRANDE PAULISTA', 'VÁRZEA PAULISTA', 'VERA CRUZ', 'VINHEDO', 'VIRADOURO', 'VISTA ALEGRE DO ALTO', 'VITÓRIA BRASIL', 'VOTORANTIM', 'VOTUPORANGA', 'ZACARIAS']\n"
          ],
          "name": "stdout"
        }
      ]
    },
    {
      "cell_type": "code",
      "metadata": {
        "id": "MUfGUZXdMST3"
      },
      "source": [
        "# Correção dos nomes das cidades em disparidade\n",
        "\n",
        "lista = ['NOME DO MUNICÍPIO']\n",
        "\n",
        "for col in lista:\n",
        "  est_pop_2012[col] = est_pop_2012[col].str.replace('BIRITIBA-MIRIM', 'BIRITIBA MIRIM')\n",
        "  est_pop_2012[col] = est_pop_2012[col].str.replace('FLORÍNIA', 'FLORÍNEA')\n",
        "  est_pop_2012[col] = est_pop_2012[col].str.replace('GUAIMBÊ', 'GUAIMBÉ')\n",
        "  est_pop_2012[col] = est_pop_2012[col].str.replace('ITAÓCA', 'ITAOCA')\n",
        "  est_pop_2012[col] = est_pop_2012[col].str.replace('EMBU', 'EMBU DAS ARTES')\n",
        "  est_pop_2012[col] = est_pop_2012[col].str.replace('MOJI MIRIM', 'MOGI MIRIM')"
      ],
      "execution_count": 111,
      "outputs": []
    },
    {
      "cell_type": "code",
      "metadata": {
        "id": "oLR_YuJvSv9R",
        "colab": {
          "base_uri": "https://localhost:8080/"
        },
        "outputId": "13ff397a-05f6-4dba-bcd6-9650d0d23585"
      },
      "source": [
        "# Nova verificação dos nomes das cidades \n",
        "\n",
        "lista = [x for x in est_pop_2012['NOME DO MUNICÍPIO']]\n",
        "print(lista)"
      ],
      "execution_count": 112,
      "outputs": [
        {
          "output_type": "stream",
          "text": [
            "['ADAMANTINA', 'ADOLFO', 'AGUAÍ', 'ÁGUAS DA PRATA', 'ÁGUAS DE LINDÓIA', 'ÁGUAS DE SANTA BÁRBARA', 'ÁGUAS DE SÃO PEDRO', 'AGUDOS', 'ALAMBARI', 'ALFREDO MARCONDES', 'ALTAIR', 'ALTINÓPOLIS', 'ALTO ALEGRE', 'ALUMÍNIO', 'ÁLVARES FLORENCE', 'ÁLVARES MACHADO', 'ÁLVARO DE CARVALHO', 'ALVINLÂNDIA', 'AMERICANA', 'AMÉRICO BRASILIENSE', 'AMÉRICO DE CAMPOS', 'AMPARO', 'ANALÂNDIA', 'ANDRADINA', 'ANGATUBA', 'ANHEMBI', 'ANHUMAS', 'APARECIDA', \"APARECIDA D'OESTE\", 'APIAÍ', 'ARAÇARIGUAMA', 'ARAÇATUBA', 'ARAÇOIABA DA SERRA', 'ARAMINA', 'ARANDU', 'ARAPEÍ', 'ARARAQUARA', 'ARARAS', 'ARCO-ÍRIS', 'AREALVA', 'AREIAS', 'AREIÓPOLIS', 'ARIRANHA', 'ARTUR NOGUEIRA', 'ARUJÁ', 'ASPÁSIA', 'ASSIS', 'ATIBAIA', 'AURIFLAMA', 'AVAÍ', 'AVANHANDAVA', 'AVARÉ', 'BADY BASSITT', 'BALBINOS', 'BÁLSAMO', 'BANANAL', 'BARÃO DE ANTONINA', 'BARBOSA', 'BARIRI', 'BARRA BONITA', 'BARRA DO CHAPÉU', 'BARRA DO TURVO', 'BARRETOS', 'BARRINHA', 'BARUERI', 'BASTOS', 'BATATAIS', 'BAURU', 'BEBEDOURO', 'BENTO DE ABREU', 'BERNARDINO DE CAMPOS', 'BERTIOGA', 'BILAC', 'BIRIGUI', 'BIRITIBA MIRIM', 'BOA ESPERANÇA DO SUL', 'BOCAINA', 'BOFETE', 'BOITUVA', 'BOM JESUS DOS PERDÕES', 'BOM SUCESSO DE ITARARÉ', 'BORÁ', 'BORACÉIA', 'BORBOREMA', 'BOREBI', 'BOTUCATU', 'BRAGANÇA PAULISTA', 'BRAÚNA', 'BREJO ALEGRE', 'BRODOWSKI', 'BROTAS', 'BURI', 'BURITAMA', 'BURITIZAL', 'CABRÁLIA PAULISTA', 'CABREÚVA', 'CAÇAPAVA', 'CACHOEIRA PAULISTA', 'CACONDE', 'CAFELÂNDIA', 'CAIABU', 'CAIEIRAS', 'CAIUÁ', 'CAJAMAR', 'CAJATI', 'CAJOBI', 'CAJURU', 'CAMPINA DO MONTE ALEGRE', 'CAMPINAS', 'CAMPO LIMPO PAULISTA', 'CAMPOS DO JORDÃO', 'CAMPOS NOVOS PAULISTA', 'CANANÉIA', 'CANAS', 'CÂNDIDO MOTA', 'CÂNDIDO RODRIGUES', 'CANITAR', 'CAPÃO BONITO', 'CAPELA DO ALTO', 'CAPIVARI', 'CARAGUATATUBA', 'CARAPICUÍBA', 'CARDOSO', 'CASA BRANCA', 'CÁSSIA DOS COQUEIROS', 'CASTILHO', 'CATANDUVA', 'CATIGUÁ', 'CEDRAL', 'CERQUEIRA CÉSAR', 'CERQUILHO', 'CESÁRIO LANGE', 'CHARQUEADA', 'CHAVANTES', 'CLEMENTINA', 'COLINA', 'COLÔMBIA', 'CONCHAL', 'CONCHAS', 'CORDEIRÓPOLIS', 'COROADOS', 'CORONEL MACEDO', 'CORUMBATAÍ', 'COSMÓPOLIS', 'COSMORAMA', 'COTIA', 'CRAVINHOS', 'CRISTAIS PAULISTA', 'CRUZÁLIA', 'CRUZEIRO', 'CUBATÃO', 'CUNHA', 'DESCALVADO', 'DIADEMA', 'DIRCE REIS', 'DIVINOLÂNDIA', 'DOBRADA', 'DOIS CÓRREGOS', 'DOLCINÓPOLIS', 'DOURADO', 'DRACENA', 'DUARTINA', 'DUMONT', 'ECHAPORÃ', 'ELDORADO', 'ELIAS FAUSTO', 'ELISIÁRIO', 'EMBAÚBA', 'EMBU DAS ARTES', 'EMBU DAS ARTES-GUAÇU', 'EMILIANÓPOLIS', 'ENGENHEIRO COELHO', 'ESPÍRITO SANTO DO PINHAL', 'ESPÍRITO SANTO DO TURVO', 'ESTIVA GERBI', 'ESTRELA DO NORTE', \"ESTRELA D'OESTE\", 'EUCLIDES DA CUNHA PAULISTA', 'FARTURA', 'FERNANDO PRESTES', 'FERNANDÓPOLIS', 'FERNÃO', 'FERRAZ DE VASCONCELOS', 'FLORA RICA', 'FLOREAL', 'FLÓRIDA PAULISTA', 'FLORÍNEA', 'FRANCA', 'FRANCISCO MORATO', 'FRANCO DA ROCHA', 'GABRIEL MONTEIRO', 'GÁLIA', 'GARÇA', 'GASTÃO VIDIGAL', 'GAVIÃO PEIXOTO', 'GENERAL SALGADO', 'GETULINA', 'GLICÉRIO', 'GUAIÇARA', 'GUAIMBÉ', 'GUAÍRA', 'GUAPIAÇU', 'GUAPIARA', 'GUARÁ', 'GUARAÇAÍ', 'GUARACI', \"GUARANI D'OESTE\", 'GUARANTÃ', 'GUARARAPES', 'GUARAREMA', 'GUARATINGUETÁ', 'GUAREÍ', 'GUARIBA', 'GUARUJÁ', 'GUARULHOS', 'GUATAPARÁ', 'GUZOLÂNDIA', 'HERCULÂNDIA', 'HOLAMBRA', 'HORTOLÂNDIA', 'IACANGA', 'IACRI', 'IARAS', 'IBATÉ', 'IBIRÁ', 'IBIRAREMA', 'IBITINGA', 'IBIÚNA', 'ICÉM', 'IEPÊ', 'IGARAÇU DO TIETÊ', 'IGARAPAVA', 'IGARATÁ', 'IGUAPE', 'ILHA COMPRIDA', 'ILHA SOLTEIRA', 'ILHABELA', 'INDAIATUBA', 'INDIANA', 'INDIAPORÃ', 'INÚBIA PAULISTA', 'IPAUSSU', 'IPERÓ', 'IPEÚNA', 'IPIGUÁ', 'IPORANGA', 'IPUÃ', 'IRACEMÁPOLIS', 'IRAPUÃ', 'IRAPURU', 'ITABERÁ', 'ITAÍ', 'ITAJOBI', 'ITAJU', 'ITANHAÉM', 'ITAOCA', 'ITAPECERICA DA SERRA', 'ITAPETININGA', 'ITAPEVA', 'ITAPEVI', 'ITAPIRA', 'ITAPIRAPUÃ PAULISTA', 'ITÁPOLIS', 'ITAPORANGA', 'ITAPUÍ', 'ITAPURA', 'ITAQUAQUECETUBA', 'ITARARÉ', 'ITARIRI', 'ITATIBA', 'ITATINGA', 'ITIRAPINA', 'ITIRAPUÃ', 'ITOBI', 'ITU', 'ITUPEVA', 'ITUVERAVA', 'JABORANDI', 'JABOTICABAL', 'JACAREÍ', 'JACI', 'JACUPIRANGA', 'JAGUARIÚNA', 'JALES', 'JAMBEIRO', 'JANDIRA', 'JARDINÓPOLIS', 'JARINU', 'JAÚ', 'JERIQUARA', 'JOANÓPOLIS', 'JOÃO RAMALHO', 'JOSÉ BONIFÁCIO', 'JÚLIO MESQUITA', 'JUMIRIM', 'JUNDIAÍ', 'JUNQUEIRÓPOLIS', 'JUQUIÁ', 'JUQUITIBA', 'LAGOINHA', 'LARANJAL PAULISTA', 'LAVÍNIA', 'LAVRINHAS', 'LEME', 'LENÇÓIS PAULISTA', 'LIMEIRA', 'LINDÓIA', 'LINS', 'LORENA', 'LOURDES', 'LOUVEIRA', 'LUCÉLIA', 'LUCIANÓPOLIS', 'LUÍS ANTÔNIO', 'LUIZIÂNIA', 'LUPÉRCIO', 'LUTÉCIA', 'MACATUBA', 'MACAUBAL', 'MACEDÔNIA', 'MAGDA', 'MAIRINQUE', 'MAIRIPORÃ', 'MANDURI', 'MARABÁ PAULISTA', 'MARACAÍ', 'MARAPOAMA', 'MARIÁPOLIS', 'MARÍLIA', 'MARINÓPOLIS', 'MARTINÓPOLIS', 'MATÃO', 'MAUÁ', 'MENDONÇA', 'MERIDIANO', 'MESÓPOLIS', 'MIGUELÓPOLIS', 'MINEIROS DO TIETÊ', 'MIRA ESTRELA', 'MIRACATU', 'MIRANDÓPOLIS', 'MIRANTE DO PARANAPANEMA', 'MIRASSOL', 'MIRASSOLÂNDIA', 'MOCOCA', 'MOGI DAS CRUZES', 'MOGI GUAÇU', 'MOGI MIRIM', 'MOMBUCA', 'MONÇÕES', 'MONGAGUÁ', 'MONTE ALEGRE DO SUL', 'MONTE ALTO', 'MONTE APRAZÍVEL', 'MONTE AZUL PAULISTA', 'MONTE CASTELO', 'MONTE MOR', 'MONTEIRO LOBATO', 'MORRO AGUDO', 'MORUNGABA', 'MOTUCA', 'MURUTINGA DO SUL', 'NANTES', 'NARANDIBA', 'NATIVIDADE DA SERRA', 'NAZARÉ PAULISTA', 'NEVES PAULISTA', 'NHANDEARA', 'NIPOÃ', 'NOVA ALIANÇA', 'NOVA CAMPINA', 'NOVA CANAÃ PAULISTA', 'NOVA CASTILHO', 'NOVA EUROPA', 'NOVA GRANADA', 'NOVA GUATAPORANGA', 'NOVA INDEPENDÊNCIA', 'NOVA LUZITÂNIA', 'NOVA ODESSA', 'NOVAIS', 'NOVO HORIZONTE', 'NUPORANGA', 'OCAUÇU', 'ÓLEO', 'OLÍMPIA', 'ONDA VERDE', 'ORIENTE', 'ORINDIÚVA', 'ORLÂNDIA', 'OSASCO', 'OSCAR BRESSANE', 'OSVALDO CRUZ', 'OURINHOS', 'OURO VERDE', 'OUROESTE', 'PACAEMBU DAS ARTES', 'PALESTINA', 'PALMARES PAULISTA', \"PALMEIRA D'OESTE\", 'PALMITAL', 'PANORAMA', 'PARAGUAÇU PAULISTA', 'PARAIBUNA', 'PARAÍSO', 'PARANAPANEMA', 'PARANAPUÃ', 'PARAPUÃ', 'PARDINHO', 'PARIQUERA-AÇU', 'PARISI', 'PATROCÍNIO PAULISTA', 'PAULICÉIA', 'PAULÍNIA', 'PAULISTÂNIA', 'PAULO DE FARIA', 'PEDERNEIRAS', 'PEDRA BELA', 'PEDRANÓPOLIS', 'PEDREGULHO', 'PEDREIRA', 'PEDRINHAS PAULISTA', 'PEDRO DE TOLEDO', 'PENÁPOLIS', 'PEREIRA BARRETO', 'PEREIRAS', 'PERUÍBE', 'PIACATU', 'PIEDADE', 'PILAR DO SUL', 'PINDAMONHANGABA', 'PINDORAMA', 'PINHALZINHO', 'PIQUEROBI', 'PIQUETE', 'PIRACAIA', 'PIRACICABA', 'PIRAJU', 'PIRAJUÍ', 'PIRANGI', 'PIRAPORA DO BOM JESUS', 'PIRAPOZINHO', 'PIRASSUNUNGA', 'PIRATININGA', 'PITANGUEIRAS', 'PLANALTO', 'PLATINA', 'POÁ', 'POLONI', 'POMPÉIA', 'PONGAÍ', 'PONTAL', 'PONTALINDA', 'PONTES GESTAL', 'POPULINA', 'PORANGABA', 'PORTO FELIZ', 'PORTO FERREIRA', 'POTIM', 'POTIRENDABA', 'PRACINHA', 'PRADÓPOLIS', 'PRAIA GRANDE', 'PRATÂNIA', 'PRESIDENTE ALVES', 'PRESIDENTE BERNARDES', 'PRESIDENTE EPITÁCIO', 'PRESIDENTE PRUDENTE', 'PRESIDENTE VENCESLAU', 'PROMISSÃO', 'QUADRA', 'QUATÁ', 'QUEIROZ', 'QUELUZ', 'QUINTANA', 'RAFARD', 'RANCHARIA', 'REDENÇÃO DA SERRA', 'REGENTE FEIJÓ', 'REGINÓPOLIS', 'REGISTRO', 'RESTINGA', 'RIBEIRA', 'RIBEIRÃO BONITO', 'RIBEIRÃO BRANCO', 'RIBEIRÃO CORRENTE', 'RIBEIRÃO DO SUL', 'RIBEIRÃO DOS ÍNDIOS', 'RIBEIRÃO GRANDE', 'RIBEIRÃO PIRES', 'RIBEIRÃO PRETO', 'RIFAINA', 'RINCÃO', 'RINÓPOLIS', 'RIO CLARO', 'RIO DAS PEDRAS', 'RIO GRANDE DA SERRA', 'RIOLÂNDIA', 'RIVERSUL', 'ROSANA', 'ROSEIRA', 'RUBIÁCEA', 'RUBINÉIA', 'SABINO', 'SAGRES', 'SALES', 'SALES OLIVEIRA', 'SALESÓPOLIS', 'SALMOURÃO', 'SALTINHO', 'SALTO', 'SALTO DE PIRAPORA', 'SALTO GRANDE', 'SANDOVALINA', 'SANTA ADÉLIA', 'SANTA ALBERTINA', \"SANTA BÁRBARA D'OESTE\", 'SANTA BRANCA', \"SANTA CLARA D'OESTE\", 'SANTA CRUZ DA CONCEIÇÃO', 'SANTA CRUZ DA ESPERANÇA', 'SANTA CRUZ DAS PALMEIRAS', 'SANTA CRUZ DO RIO PARDO', 'SANTA ERNESTINA', 'SANTA FÉ DO SUL', 'SANTA GERTRUDES', 'SANTA ISABEL', 'SANTA LÚCIA', 'SANTA MARIA DA SERRA', 'SANTA MERCEDES', 'SANTA RITA DO PASSA QUATRO', \"SANTA RITA D'OESTE\", 'SANTA ROSA DE VITERBO', 'SANTA SALETE', 'SANTANA DA PONTE PENSA', 'SANTANA DE PARNAÍBA', 'SANTO ANASTÁCIO', 'SANTO ANDRÉ', 'SANTO ANTÔNIO DA ALEGRIA', 'SANTO ANTÔNIO DE POSSE', 'SANTO ANTÔNIO DO ARACANGUÁ', 'SANTO ANTÔNIO DO JARDIM', 'SANTO ANTÔNIO DO PINHAL', 'SANTO EXPEDITO', 'SANTÓPOLIS DO AGUAPEÍ', 'SANTOS', 'SÃO BENTO DO SAPUCAÍ', 'SÃO BERNARDO DO CAMPO', 'SÃO CAETANO DO SUL', 'SÃO CARLOS', 'SÃO FRANCISCO', 'SÃO JOÃO DA BOA VISTA', 'SÃO JOÃO DAS DUAS PONTES', 'SÃO JOÃO DE IRACEMA', \"SÃO JOÃO DO PAU D'ALHO\", 'SÃO JOAQUIM DA BARRA', 'SÃO JOSÉ DA BELA VISTA', 'SÃO JOSÉ DO BARREIRO', 'SÃO JOSÉ DO RIO PARDO', 'SÃO JOSÉ DO RIO PRETO', 'SÃO JOSÉ DOS CAMPOS', 'SÃO LOURENÇO DA SERRA', 'SÃO LUÍS DO PARAITINGA', 'SÃO MANUEL', 'SÃO MIGUEL ARCANJO', 'SÃO PAULO', 'SÃO PEDRO', 'SÃO PEDRO DO TURVO', 'SÃO ROQUE', 'SÃO SEBASTIÃO', 'SÃO SEBASTIÃO DA GRAMA', 'SÃO SIMÃO', 'SÃO VICENTE', 'SARAPUÍ', 'SARUTAIÁ', 'SEBASTIANÓPOLIS DO SUL', 'SERRA AZUL', 'SERRA NEGRA', 'SERRANA', 'SERTÃOZINHO', 'SETE BARRAS', 'SEVERÍNIA', 'SILVEIRAS', 'SOCORRO', 'SOROCABA', 'SUD MENNUCCI', 'SUMARÉ', 'SUZANÁPOLIS', 'SUZANO', 'TABAPUÃ', 'TABATINGA', 'TABOÃO DA SERRA', 'TACIBA', 'TAGUAÍ', 'TAIAÇU', 'TAIÚVA', 'TAMBAÚ', 'TANABI', 'TAPIRAÍ', 'TAPIRATIBA', 'TAQUARAL', 'TAQUARITINGA', 'TAQUARITUBA', 'TAQUARIVAÍ', 'TARABAI', 'TARUMÃ', 'TATUÍ', 'TAUBATÉ', 'TEJUPÁ', 'TEODORO SAMPAIO', 'TERRA ROXA', 'TIETÊ', 'TIMBURI', 'TORRE DE PEDRA', 'TORRINHA', 'TRABIJU', 'TREMEMBÉ', 'TRÊS FRONTEIRAS', 'TUIUTI', 'TUPÃ', 'TUPI PAULISTA', 'TURIÚBA', 'TURMALINA', 'UBARANA', 'UBATUBA', 'UBIRAJARA', 'UCHOA', 'UNIÃO PAULISTA', 'URÂNIA', 'URU', 'URUPÊS', 'VALENTIM GENTIL', 'VALINHOS', 'VALPARAÍSO', 'VARGEM', 'VARGEM GRANDE DO SUL', 'VARGEM GRANDE PAULISTA', 'VÁRZEA PAULISTA', 'VERA CRUZ', 'VINHEDO', 'VIRADOURO', 'VISTA ALEGRE DO ALTO', 'VITÓRIA BRASIL', 'VOTORANTIM', 'VOTUPORANGA', 'ZACARIAS']\n"
          ],
          "name": "stdout"
        }
      ]
    },
    {
      "cell_type": "code",
      "metadata": {
        "id": "u4ocGmNvTMHE"
      },
      "source": [
        "# Nova correção dos nomes que apresentaram erro\n",
        "\n",
        "lista = ['NOME DO MUNICÍPIO']\n",
        "\n",
        "for col in lista:\n",
        "  est_pop_2012[col] = est_pop_2012[col].str.replace('EMBU DAS ARTES-GUAÇU', 'EMBU-GUAÇU')"
      ],
      "execution_count": 113,
      "outputs": []
    },
    {
      "cell_type": "code",
      "metadata": {
        "colab": {
          "base_uri": "https://localhost:8080/",
          "height": 419
        },
        "id": "NCILKFLdF3mo",
        "outputId": "af52e13b-28f9-4010-f8b6-d03096190d27"
      },
      "source": [
        "# Exibindo dataframe\n",
        "\n",
        "est_pop_2012"
      ],
      "execution_count": 114,
      "outputs": [
        {
          "output_type": "execute_result",
          "data": {
            "text/html": [
              "<div>\n",
              "<style scoped>\n",
              "    .dataframe tbody tr th:only-of-type {\n",
              "        vertical-align: middle;\n",
              "    }\n",
              "\n",
              "    .dataframe tbody tr th {\n",
              "        vertical-align: top;\n",
              "    }\n",
              "\n",
              "    .dataframe thead th {\n",
              "        text-align: right;\n",
              "    }\n",
              "</style>\n",
              "<table border=\"1\" class=\"dataframe\">\n",
              "  <thead>\n",
              "    <tr style=\"text-align: right;\">\n",
              "      <th></th>\n",
              "      <th>index</th>\n",
              "      <th>UF</th>\n",
              "      <th>NOME DO MUNICÍPIO</th>\n",
              "      <th>POPULAÇÃO ESTIMADA</th>\n",
              "    </tr>\n",
              "  </thead>\n",
              "  <tbody>\n",
              "    <tr>\n",
              "      <th>0</th>\n",
              "      <td>3267</td>\n",
              "      <td>SP</td>\n",
              "      <td>ADAMANTINA</td>\n",
              "      <td>33843</td>\n",
              "    </tr>\n",
              "    <tr>\n",
              "      <th>1</th>\n",
              "      <td>3268</td>\n",
              "      <td>SP</td>\n",
              "      <td>ADOLFO</td>\n",
              "      <td>3538</td>\n",
              "    </tr>\n",
              "    <tr>\n",
              "      <th>2</th>\n",
              "      <td>3269</td>\n",
              "      <td>SP</td>\n",
              "      <td>AGUAÍ</td>\n",
              "      <td>32745</td>\n",
              "    </tr>\n",
              "    <tr>\n",
              "      <th>3</th>\n",
              "      <td>3270</td>\n",
              "      <td>SP</td>\n",
              "      <td>ÁGUAS DA PRATA</td>\n",
              "      <td>7653</td>\n",
              "    </tr>\n",
              "    <tr>\n",
              "      <th>4</th>\n",
              "      <td>3271</td>\n",
              "      <td>SP</td>\n",
              "      <td>ÁGUAS DE LINDÓIA</td>\n",
              "      <td>17438</td>\n",
              "    </tr>\n",
              "    <tr>\n",
              "      <th>...</th>\n",
              "      <td>...</td>\n",
              "      <td>...</td>\n",
              "      <td>...</td>\n",
              "      <td>...</td>\n",
              "    </tr>\n",
              "    <tr>\n",
              "      <th>640</th>\n",
              "      <td>3907</td>\n",
              "      <td>SP</td>\n",
              "      <td>VISTA ALEGRE DO ALTO</td>\n",
              "      <td>7208</td>\n",
              "    </tr>\n",
              "    <tr>\n",
              "      <th>641</th>\n",
              "      <td>3908</td>\n",
              "      <td>SP</td>\n",
              "      <td>VITÓRIA BRASIL</td>\n",
              "      <td>1747</td>\n",
              "    </tr>\n",
              "    <tr>\n",
              "      <th>642</th>\n",
              "      <td>3909</td>\n",
              "      <td>SP</td>\n",
              "      <td>VOTORANTIM</td>\n",
              "      <td>110755</td>\n",
              "    </tr>\n",
              "    <tr>\n",
              "      <th>643</th>\n",
              "      <td>3910</td>\n",
              "      <td>SP</td>\n",
              "      <td>VOTUPORANGA</td>\n",
              "      <td>86059</td>\n",
              "    </tr>\n",
              "    <tr>\n",
              "      <th>644</th>\n",
              "      <td>3911</td>\n",
              "      <td>SP</td>\n",
              "      <td>ZACARIAS</td>\n",
              "      <td>2394</td>\n",
              "    </tr>\n",
              "  </tbody>\n",
              "</table>\n",
              "<p>645 rows × 4 columns</p>\n",
              "</div>"
            ],
            "text/plain": [
              "     index  UF     NOME DO MUNICÍPIO POPULAÇÃO ESTIMADA\n",
              "0     3267  SP            ADAMANTINA              33843\n",
              "1     3268  SP                ADOLFO               3538\n",
              "2     3269  SP                 AGUAÍ              32745\n",
              "3     3270  SP        ÁGUAS DA PRATA               7653\n",
              "4     3271  SP      ÁGUAS DE LINDÓIA              17438\n",
              "..     ...  ..                   ...                ...\n",
              "640   3907  SP  VISTA ALEGRE DO ALTO               7208\n",
              "641   3908  SP        VITÓRIA BRASIL               1747\n",
              "642   3909  SP            VOTORANTIM             110755\n",
              "643   3910  SP           VOTUPORANGA              86059\n",
              "644   3911  SP              ZACARIAS               2394\n",
              "\n",
              "[645 rows x 4 columns]"
            ]
          },
          "metadata": {
            "tags": []
          },
          "execution_count": 114
        }
      ]
    },
    {
      "cell_type": "code",
      "metadata": {
        "id": "wUGwOcqLNUaN"
      },
      "source": [
        "# Criação de nova dataframe com filtragem do dataframe est_pop_2012 com despesas_2012\n",
        "\n",
        "concatenacao_2012 = pd.concat([despesas_2012.set_index('Município'),est_pop_2012.set_index('NOME DO MUNICÍPIO')], axis=1, join='inner')"
      ],
      "execution_count": 115,
      "outputs": []
    },
    {
      "cell_type": "code",
      "metadata": {
        "id": "90gXKx3RNm6P"
      },
      "source": [
        "# Verificação e adição ao dataframe se o candidato foi o mais votado ou não\n",
        "\n",
        "concatenacao_2012 = concatenacao_2012.reset_index()\n",
        "mais_votado = []\n",
        "for x in range(len(concatenacao_2012['Nome candidato'])):\n",
        "    if concatenacao_2012['Nome candidato'][x] in list(resultados_2012['NOME_CANDIDATO']):\n",
        "        mais_votado.append('SIM')\n",
        "    else:\n",
        "        mais_votado.append('NÃO')\n",
        "\n",
        "concatenacao_2012['MAIS VOTADO'] = mais_votado\n",
        "\n",
        "# Adição do gênero de cada candidato\n",
        "\n",
        "genero = []\n",
        "candidato = []\n",
        "for x, val1 in enumerate(concatenacao_2012['Nome candidato']):\n",
        "    for y, val2 in enumerate(candidatos_2012['NOME_CANDIDATO']):\n",
        "        if val1 == val2:\n",
        "            if val1 not in candidato:\n",
        "                candidato.append(candidatos_2012['NOME_CANDIDATO'][y])\n",
        "                genero.append(candidatos_2012['DESCRICAO_SEXO'][y])\n",
        "\n",
        "concatenacao_2012['DS_GENERO'] = genero"
      ],
      "execution_count": 116,
      "outputs": []
    },
    {
      "cell_type": "code",
      "metadata": {
        "id": "a18tSZojQhIM"
      },
      "source": [
        "# Tratamento do dataframe concatenacao_2012\n",
        "\n",
        "concatenacao_2012['POPULAÇÃO ESTIMADA'] = concatenacao_2012['POPULAÇÃO ESTIMADA'].apply(lambda x: pd.to_numeric(x.replace(',','.'), errors='coerce'))"
      ],
      "execution_count": 117,
      "outputs": []
    },
    {
      "cell_type": "code",
      "metadata": {
        "id": "2fbpyTlXU2ml",
        "colab": {
          "base_uri": "https://localhost:8080/"
        },
        "outputId": "f9b7e7ce-c235-40a7-dbda-042c490fd067"
      },
      "source": [
        "# Verificação da ocorrencia dos nomes da cidades do estado de São Paulo\n",
        "\n",
        "for x in despesas_2012['Município']:\n",
        "  if x not in list(concatenacao_2012['level_0']):\n",
        "    print (x)"
      ],
      "execution_count": 118,
      "outputs": [
        {
          "output_type": "stream",
          "text": [
            "PACAEMBU\n"
          ],
          "name": "stdout"
        }
      ]
    },
    {
      "cell_type": "code",
      "metadata": {
        "id": "WYeTGSh1U9co"
      },
      "source": [
        "# despesas_2012[despesas_2012['Município'] == 'GUZOLÂNDIA']"
      ],
      "execution_count": 119,
      "outputs": []
    },
    {
      "cell_type": "code",
      "metadata": {
        "id": "1vQTKdhqVMlG",
        "colab": {
          "base_uri": "https://localhost:8080/",
          "height": 80
        },
        "outputId": "bfff2ce2-718e-4b5a-e093-f1c9a5845046"
      },
      "source": [
        "# Verificação da candidata não encontrada no dataframe concatenacao_2012\n",
        "\n",
        "despesas_2012[despesas_2012['Município'] == \"PACAEMBU\"]"
      ],
      "execution_count": 120,
      "outputs": [
        {
          "output_type": "execute_result",
          "data": {
            "text/html": [
              "<div>\n",
              "<style scoped>\n",
              "    .dataframe tbody tr th:only-of-type {\n",
              "        vertical-align: middle;\n",
              "    }\n",
              "\n",
              "    .dataframe tbody tr th {\n",
              "        vertical-align: top;\n",
              "    }\n",
              "\n",
              "    .dataframe thead th {\n",
              "        text-align: right;\n",
              "    }\n",
              "</style>\n",
              "<table border=\"1\" class=\"dataframe\">\n",
              "  <thead>\n",
              "    <tr style=\"text-align: right;\">\n",
              "      <th></th>\n",
              "      <th>Município</th>\n",
              "      <th>Nome candidato</th>\n",
              "      <th>Valor despesa</th>\n",
              "    </tr>\n",
              "  </thead>\n",
              "  <tbody>\n",
              "    <tr>\n",
              "      <th>385</th>\n",
              "      <td>PACAEMBU</td>\n",
              "      <td>SIOMARA BERLANGA MUGANAI NEVES</td>\n",
              "      <td>46037.29</td>\n",
              "    </tr>\n",
              "  </tbody>\n",
              "</table>\n",
              "</div>"
            ],
            "text/plain": [
              "    Município                  Nome candidato  Valor despesa\n",
              "385  PACAEMBU  SIOMARA BERLANGA MUGANAI NEVES       46037.29"
            ]
          },
          "metadata": {
            "tags": []
          },
          "execution_count": 120
        }
      ]
    },
    {
      "cell_type": "code",
      "metadata": {
        "colab": {
          "base_uri": "https://localhost:8080/",
          "height": 80
        },
        "id": "OS4Dsg92Bklj",
        "outputId": "776118c8-2aef-497a-f452-05c175ddeb39"
      },
      "source": [
        "# Verificação da quantidade de votos que a candidata recebeu\n",
        "\n",
        "resultados_2012[resultados_2012['NOME_MUNICIPIO'] == \"PACAEMBU\"]"
      ],
      "execution_count": 121,
      "outputs": [
        {
          "output_type": "execute_result",
          "data": {
            "text/html": [
              "<div>\n",
              "<style scoped>\n",
              "    .dataframe tbody tr th:only-of-type {\n",
              "        vertical-align: middle;\n",
              "    }\n",
              "\n",
              "    .dataframe tbody tr th {\n",
              "        vertical-align: top;\n",
              "    }\n",
              "\n",
              "    .dataframe thead th {\n",
              "        text-align: right;\n",
              "    }\n",
              "</style>\n",
              "<table border=\"1\" class=\"dataframe\">\n",
              "  <thead>\n",
              "    <tr style=\"text-align: right;\">\n",
              "      <th></th>\n",
              "      <th>index</th>\n",
              "      <th>NOME_MUNICIPIO</th>\n",
              "      <th>DESCRICAO_CARGO</th>\n",
              "      <th>NOME_CANDIDATO</th>\n",
              "      <th>TOTAL_VOTOS</th>\n",
              "    </tr>\n",
              "  </thead>\n",
              "  <tbody>\n",
              "    <tr>\n",
              "      <th>159</th>\n",
              "      <td>24814</td>\n",
              "      <td>PACAEMBU</td>\n",
              "      <td>PREFEITO</td>\n",
              "      <td>MACIEL DO CARMO COLPAS</td>\n",
              "      <td>3843</td>\n",
              "    </tr>\n",
              "  </tbody>\n",
              "</table>\n",
              "</div>"
            ],
            "text/plain": [
              "     index NOME_MUNICIPIO DESCRICAO_CARGO          NOME_CANDIDATO  TOTAL_VOTOS\n",
              "159  24814       PACAEMBU        PREFEITO  MACIEL DO CARMO COLPAS         3843"
            ]
          },
          "metadata": {
            "tags": []
          },
          "execution_count": 121
        }
      ]
    },
    {
      "cell_type": "code",
      "metadata": {
        "id": "AOOwAh8HRnG1",
        "colab": {
          "base_uri": "https://localhost:8080/"
        },
        "outputId": "fb7927ed-36fe-4919-b26c-ee0c284c29f3"
      },
      "source": [
        "# Verificação das cidades que não estão presentes no dataframe concatenacao_2012\n",
        "\n",
        "for x in resultados_2012['NOME_MUNICIPIO']:\n",
        "  if x not in list(concatenacao_2012['level_0']):\n",
        "    print (x)"
      ],
      "execution_count": 122,
      "outputs": [
        {
          "output_type": "stream",
          "text": [
            "JUNQUEIRÓPOLIS\n",
            "PACAEMBU\n",
            "GUZOLÂNDIA\n"
          ],
          "name": "stdout"
        }
      ]
    },
    {
      "cell_type": "code",
      "metadata": {
        "id": "7BPkEos6aDjA"
      },
      "source": [
        "# Delimitação de leitura de colunas do dataframe concatenacao_2012\n",
        "\n",
        "concatenacao_2012 = concatenacao_2012[['level_0','Nome candidato','Valor despesa','UF','POPULAÇÃO ESTIMADA','MAIS VOTADO','DS_GENERO']]"
      ],
      "execution_count": 123,
      "outputs": []
    },
    {
      "cell_type": "code",
      "metadata": {
        "id": "iCLKIuaTXfLv"
      },
      "source": [
        "# Adição da candidata omitida no dataframe concatenacao_2012\n",
        "\n",
        "concatenacao_2012=concatenacao_2012.append(dict(zip(concatenacao_2012.columns,['PACAEMBU','SIOMARA BERLANGA MUGANAI NEVES',46037.29,'SP',13333,'NÃO','FEMININO'])),ignore_index=True)"
      ],
      "execution_count": 124,
      "outputs": []
    },
    {
      "cell_type": "code",
      "metadata": {
        "id": "-GgzgbvqZjg1",
        "colab": {
          "base_uri": "https://localhost:8080/",
          "height": 80
        },
        "outputId": "46a8d058-6eb9-42bb-ef1c-6960ff8f18c5"
      },
      "source": [
        "# Verificação da inserção da candidata no dataframe concatenacao_2012\n",
        "\n",
        "concatenacao_2012[concatenacao_2012['Nome candidato'] == \"SIOMARA BERLANGA MUGANAI NEVES\"]"
      ],
      "execution_count": 125,
      "outputs": [
        {
          "output_type": "execute_result",
          "data": {
            "text/html": [
              "<div>\n",
              "<style scoped>\n",
              "    .dataframe tbody tr th:only-of-type {\n",
              "        vertical-align: middle;\n",
              "    }\n",
              "\n",
              "    .dataframe tbody tr th {\n",
              "        vertical-align: top;\n",
              "    }\n",
              "\n",
              "    .dataframe thead th {\n",
              "        text-align: right;\n",
              "    }\n",
              "</style>\n",
              "<table border=\"1\" class=\"dataframe\">\n",
              "  <thead>\n",
              "    <tr style=\"text-align: right;\">\n",
              "      <th></th>\n",
              "      <th>level_0</th>\n",
              "      <th>Nome candidato</th>\n",
              "      <th>Valor despesa</th>\n",
              "      <th>UF</th>\n",
              "      <th>POPULAÇÃO ESTIMADA</th>\n",
              "      <th>MAIS VOTADO</th>\n",
              "      <th>DS_GENERO</th>\n",
              "    </tr>\n",
              "  </thead>\n",
              "  <tbody>\n",
              "    <tr>\n",
              "      <th>642</th>\n",
              "      <td>PACAEMBU</td>\n",
              "      <td>SIOMARA BERLANGA MUGANAI NEVES</td>\n",
              "      <td>46037.29</td>\n",
              "      <td>SP</td>\n",
              "      <td>13333</td>\n",
              "      <td>NÃO</td>\n",
              "      <td>FEMININO</td>\n",
              "    </tr>\n",
              "  </tbody>\n",
              "</table>\n",
              "</div>"
            ],
            "text/plain": [
              "      level_0                  Nome candidato  ...  MAIS VOTADO DS_GENERO\n",
              "642  PACAEMBU  SIOMARA BERLANGA MUGANAI NEVES  ...          NÃO  FEMININO\n",
              "\n",
              "[1 rows x 7 columns]"
            ]
          },
          "metadata": {
            "tags": []
          },
          "execution_count": 125
        }
      ]
    },
    {
      "cell_type": "code",
      "metadata": {
        "id": "Mt_atMbqQumZ"
      },
      "source": [
        "# Filtragem por tamanho de população\n",
        "\n",
        "ate1mil_2012 = concatenacao_2012[concatenacao_2012['POPULAÇÃO ESTIMADA'] <= 1000]\n",
        "\n",
        "ate10mil_2012 = concatenacao_2012[(concatenacao_2012['POPULAÇÃO ESTIMADA'] > 1000) & (concatenacao_2012['POPULAÇÃO ESTIMADA'] <= 10000)]\n",
        "\n",
        "ate100mil_2012 = concatenacao_2012[(concatenacao_2012['POPULAÇÃO ESTIMADA'] > 10000) & (concatenacao_2012['POPULAÇÃO ESTIMADA'] <= 100000)]\n",
        "\n",
        "ate1milhao_2012 = concatenacao_2012[(concatenacao_2012['POPULAÇÃO ESTIMADA'] > 100000) & (concatenacao_2012['POPULAÇÃO ESTIMADA'] <= 1000000)]\n",
        "\n",
        "maior1milhao_2012 = concatenacao_2012[concatenacao_2012['POPULAÇÃO ESTIMADA'] > 1000000]"
      ],
      "execution_count": 126,
      "outputs": []
    },
    {
      "cell_type": "code",
      "metadata": {
        "id": "xTtDE3K-u3g0"
      },
      "source": [
        "# Leitura e delimitação por colunas do arquivo despesas_candidatos_prestacao_contas_final_2016_SP.txt\n",
        "\n",
        "fields=['Nome da UE', 'Nome candidato', 'Cargo', 'Valor despesa']\n",
        "despesas_2016 = pd.read_csv(\"drive/My Drive/Colab Notebooks/Estudo_Campanha_Eleitoral_e_Resultados/despesas_candidatos_prestacao_contas_final_2016_SP.txt\", delimiter=';', error_bad_lines=False, encoding=\"ISO-8859-1\", usecols=fields)"
      ],
      "execution_count": 127,
      "outputs": []
    },
    {
      "cell_type": "code",
      "metadata": {
        "id": "vR760t62u3g2",
        "colab": {
          "base_uri": "https://localhost:8080/",
          "height": 419
        },
        "outputId": "b2f3dba5-a937-4cc2-ae27-dccaad736488"
      },
      "source": [
        "# Tratamento e filtragem dos resultados\n",
        "\n",
        "despesas_2016['Valor despesa'] = despesas_2016['Valor despesa'].apply(lambda x: pd.to_numeric(x.replace(',','.'), errors='coerce'))\n",
        "despesas_2016 = despesas_2016[despesas_2016['Cargo'] =='Prefeito']\n",
        "despesas_2016 = despesas_2016.groupby(['Nome da UE', 'Nome candidato']).sum()\n",
        "despesas_2016 = despesas_2016[despesas_2016['Valor despesa'] == despesas_2016.groupby('Nome da UE')['Valor despesa'].transform('max')]\n",
        "despesas_2016 = despesas_2016.reset_index()\n",
        "despesas_2016"
      ],
      "execution_count": 128,
      "outputs": [
        {
          "output_type": "execute_result",
          "data": {
            "text/html": [
              "<div>\n",
              "<style scoped>\n",
              "    .dataframe tbody tr th:only-of-type {\n",
              "        vertical-align: middle;\n",
              "    }\n",
              "\n",
              "    .dataframe tbody tr th {\n",
              "        vertical-align: top;\n",
              "    }\n",
              "\n",
              "    .dataframe thead th {\n",
              "        text-align: right;\n",
              "    }\n",
              "</style>\n",
              "<table border=\"1\" class=\"dataframe\">\n",
              "  <thead>\n",
              "    <tr style=\"text-align: right;\">\n",
              "      <th></th>\n",
              "      <th>Nome da UE</th>\n",
              "      <th>Nome candidato</th>\n",
              "      <th>Valor despesa</th>\n",
              "    </tr>\n",
              "  </thead>\n",
              "  <tbody>\n",
              "    <tr>\n",
              "      <th>0</th>\n",
              "      <td>ADAMANTINA</td>\n",
              "      <td>MÁRCIO CARDIM</td>\n",
              "      <td>54400.00</td>\n",
              "    </tr>\n",
              "    <tr>\n",
              "      <th>1</th>\n",
              "      <td>ADOLFO</td>\n",
              "      <td>IZAEL ANTONIO FERNANDES</td>\n",
              "      <td>33498.29</td>\n",
              "    </tr>\n",
              "    <tr>\n",
              "      <th>2</th>\n",
              "      <td>AGUAÍ</td>\n",
              "      <td>JOSÉ ALEXANDRE PEREIRA DE ARAÚJO</td>\n",
              "      <td>140805.33</td>\n",
              "    </tr>\n",
              "    <tr>\n",
              "      <th>3</th>\n",
              "      <td>AGUDOS</td>\n",
              "      <td>JOSÉ CARLOS OCTAVIANI</td>\n",
              "      <td>79475.00</td>\n",
              "    </tr>\n",
              "    <tr>\n",
              "      <th>4</th>\n",
              "      <td>ALAMBARI</td>\n",
              "      <td>HUDSON JOSE GOMES</td>\n",
              "      <td>45400.00</td>\n",
              "    </tr>\n",
              "    <tr>\n",
              "      <th>...</th>\n",
              "      <td>...</td>\n",
              "      <td>...</td>\n",
              "      <td>...</td>\n",
              "    </tr>\n",
              "    <tr>\n",
              "      <th>640</th>\n",
              "      <td>ÁGUAS DE SÃO PEDRO</td>\n",
              "      <td>MARIA ELY DE LIMA BUENO</td>\n",
              "      <td>36808.50</td>\n",
              "    </tr>\n",
              "    <tr>\n",
              "      <th>641</th>\n",
              "      <td>ÁLVARES FLORENCE</td>\n",
              "      <td>CALIMÉRIO LUIZ CORREA SALES</td>\n",
              "      <td>16440.97</td>\n",
              "    </tr>\n",
              "    <tr>\n",
              "      <th>642</th>\n",
              "      <td>ÁLVARES MACHADO</td>\n",
              "      <td>FRANCISANGELA FERNANDES DE SÃO JOSÉ POLICATE</td>\n",
              "      <td>35635.70</td>\n",
              "    </tr>\n",
              "    <tr>\n",
              "      <th>643</th>\n",
              "      <td>ÁLVARO DE CARVALHO</td>\n",
              "      <td>ADILSON DE OLIVEIRA LOPES</td>\n",
              "      <td>52745.94</td>\n",
              "    </tr>\n",
              "    <tr>\n",
              "      <th>644</th>\n",
              "      <td>ÓLEO</td>\n",
              "      <td>PEDRO GERALDO DUARTE</td>\n",
              "      <td>5430.01</td>\n",
              "    </tr>\n",
              "  </tbody>\n",
              "</table>\n",
              "<p>645 rows × 3 columns</p>\n",
              "</div>"
            ],
            "text/plain": [
              "             Nome da UE  ... Valor despesa\n",
              "0            ADAMANTINA  ...      54400.00\n",
              "1                ADOLFO  ...      33498.29\n",
              "2                 AGUAÍ  ...     140805.33\n",
              "3                AGUDOS  ...      79475.00\n",
              "4              ALAMBARI  ...      45400.00\n",
              "..                  ...  ...           ...\n",
              "640  ÁGUAS DE SÃO PEDRO  ...      36808.50\n",
              "641    ÁLVARES FLORENCE  ...      16440.97\n",
              "642     ÁLVARES MACHADO  ...      35635.70\n",
              "643  ÁLVARO DE CARVALHO  ...      52745.94\n",
              "644                ÓLEO  ...       5430.01\n",
              "\n",
              "[645 rows x 3 columns]"
            ]
          },
          "metadata": {
            "tags": []
          },
          "execution_count": 128
        }
      ]
    },
    {
      "cell_type": "code",
      "metadata": {
        "id": "x7P-H89-u3g5"
      },
      "source": [
        "# Leitura dos resultados do arquivo consulta_cand_2016_SP.csv\n",
        "\n",
        "candidatos_2016 = pd.read_csv(\"drive/My Drive/Colab Notebooks/Estudo_Campanha_Eleitoral_e_Resultados/consulta_cand_2016_SP.csv\", delimiter=';', error_bad_lines=False, encoding=\"ISO-8859-1\")"
      ],
      "execution_count": 129,
      "outputs": []
    },
    {
      "cell_type": "code",
      "metadata": {
        "id": "GTZsfZM3u3g8",
        "colab": {
          "base_uri": "https://localhost:8080/",
          "height": 419
        },
        "outputId": "afe04cd2-b748-45a6-eda6-cb4762564dcb"
      },
      "source": [
        "# Filtragem dos resultados\n",
        "\n",
        "candidatos_2016 = candidatos_2016[['NM_CANDIDATO', 'DS_CARGO', 'NM_UE', 'DS_GENERO']]\n",
        "candidatos_2016 = candidatos_2016[candidatos_2016.DS_CARGO == \"PREFEITO\"]\n",
        "candidatos_2016 = candidatos_2016.reset_index()\n",
        "candidatos_2016"
      ],
      "execution_count": 130,
      "outputs": [
        {
          "output_type": "execute_result",
          "data": {
            "text/html": [
              "<div>\n",
              "<style scoped>\n",
              "    .dataframe tbody tr th:only-of-type {\n",
              "        vertical-align: middle;\n",
              "    }\n",
              "\n",
              "    .dataframe tbody tr th {\n",
              "        vertical-align: top;\n",
              "    }\n",
              "\n",
              "    .dataframe thead th {\n",
              "        text-align: right;\n",
              "    }\n",
              "</style>\n",
              "<table border=\"1\" class=\"dataframe\">\n",
              "  <thead>\n",
              "    <tr style=\"text-align: right;\">\n",
              "      <th></th>\n",
              "      <th>index</th>\n",
              "      <th>NM_CANDIDATO</th>\n",
              "      <th>DS_CARGO</th>\n",
              "      <th>NM_UE</th>\n",
              "      <th>DS_GENERO</th>\n",
              "    </tr>\n",
              "  </thead>\n",
              "  <tbody>\n",
              "    <tr>\n",
              "      <th>0</th>\n",
              "      <td>1</td>\n",
              "      <td>RAFAEL MASCHERIN MONTOURO</td>\n",
              "      <td>PREFEITO</td>\n",
              "      <td>SÃO SEBASTIÃO DA GRAMA</td>\n",
              "      <td>MASCULINO</td>\n",
              "    </tr>\n",
              "    <tr>\n",
              "      <th>1</th>\n",
              "      <td>17</td>\n",
              "      <td>LEANDRO AMARO DE ANDRADE</td>\n",
              "      <td>PREFEITO</td>\n",
              "      <td>ARAÇARIGUAMA</td>\n",
              "      <td>MASCULINO</td>\n",
              "    </tr>\n",
              "    <tr>\n",
              "      <th>2</th>\n",
              "      <td>42</td>\n",
              "      <td>FELIQUES HENRIQUE DE OLIVEIRA</td>\n",
              "      <td>PREFEITO</td>\n",
              "      <td>ITIRAPINA</td>\n",
              "      <td>MASCULINO</td>\n",
              "    </tr>\n",
              "    <tr>\n",
              "      <th>3</th>\n",
              "      <td>73</td>\n",
              "      <td>ANTONIO EDILSON BRESSAN</td>\n",
              "      <td>PREFEITO</td>\n",
              "      <td>SALTINHO</td>\n",
              "      <td>MASCULINO</td>\n",
              "    </tr>\n",
              "    <tr>\n",
              "      <th>4</th>\n",
              "      <td>81</td>\n",
              "      <td>FÁBIA DA SILVA PORTO ROSSETTI</td>\n",
              "      <td>PREFEITO</td>\n",
              "      <td>SANTA ISABEL</td>\n",
              "      <td>FEMININO</td>\n",
              "    </tr>\n",
              "    <tr>\n",
              "      <th>...</th>\n",
              "      <td>...</td>\n",
              "      <td>...</td>\n",
              "      <td>...</td>\n",
              "      <td>...</td>\n",
              "      <td>...</td>\n",
              "    </tr>\n",
              "    <tr>\n",
              "      <th>2324</th>\n",
              "      <td>86542</td>\n",
              "      <td>ARILDO CARDOSO</td>\n",
              "      <td>PREFEITO</td>\n",
              "      <td>ÓLEO</td>\n",
              "      <td>MASCULINO</td>\n",
              "    </tr>\n",
              "    <tr>\n",
              "      <th>2325</th>\n",
              "      <td>86595</td>\n",
              "      <td>JOSE ANTONIO FERNANDES</td>\n",
              "      <td>PREFEITO</td>\n",
              "      <td>ÁLVARO DE CARVALHO</td>\n",
              "      <td>MASCULINO</td>\n",
              "    </tr>\n",
              "    <tr>\n",
              "      <th>2326</th>\n",
              "      <td>86698</td>\n",
              "      <td>VALDEZ LOPES DA SILVA</td>\n",
              "      <td>PREFEITO</td>\n",
              "      <td>PERUÍBE</td>\n",
              "      <td>MASCULINO</td>\n",
              "    </tr>\n",
              "    <tr>\n",
              "      <th>2327</th>\n",
              "      <td>86700</td>\n",
              "      <td>AILTON CRISPIM</td>\n",
              "      <td>PREFEITO</td>\n",
              "      <td>JABORANDI</td>\n",
              "      <td>MASCULINO</td>\n",
              "    </tr>\n",
              "    <tr>\n",
              "      <th>2328</th>\n",
              "      <td>86775</td>\n",
              "      <td>MAURÍCIO DIMAS COMISSO</td>\n",
              "      <td>PREFEITO</td>\n",
              "      <td>SANTO ANTÔNIO DE POSSE</td>\n",
              "      <td>MASCULINO</td>\n",
              "    </tr>\n",
              "  </tbody>\n",
              "</table>\n",
              "<p>2329 rows × 5 columns</p>\n",
              "</div>"
            ],
            "text/plain": [
              "      index                   NM_CANDIDATO  ...                   NM_UE  DS_GENERO\n",
              "0         1      RAFAEL MASCHERIN MONTOURO  ...  SÃO SEBASTIÃO DA GRAMA  MASCULINO\n",
              "1        17       LEANDRO AMARO DE ANDRADE  ...            ARAÇARIGUAMA  MASCULINO\n",
              "2        42  FELIQUES HENRIQUE DE OLIVEIRA  ...               ITIRAPINA  MASCULINO\n",
              "3        73        ANTONIO EDILSON BRESSAN  ...                SALTINHO  MASCULINO\n",
              "4        81  FÁBIA DA SILVA PORTO ROSSETTI  ...            SANTA ISABEL   FEMININO\n",
              "...     ...                            ...  ...                     ...        ...\n",
              "2324  86542                 ARILDO CARDOSO  ...                    ÓLEO  MASCULINO\n",
              "2325  86595         JOSE ANTONIO FERNANDES  ...      ÁLVARO DE CARVALHO  MASCULINO\n",
              "2326  86698          VALDEZ LOPES DA SILVA  ...                 PERUÍBE  MASCULINO\n",
              "2327  86700                 AILTON CRISPIM  ...               JABORANDI  MASCULINO\n",
              "2328  86775         MAURÍCIO DIMAS COMISSO  ...  SANTO ANTÔNIO DE POSSE  MASCULINO\n",
              "\n",
              "[2329 rows x 5 columns]"
            ]
          },
          "metadata": {
            "tags": []
          },
          "execution_count": 130
        }
      ]
    },
    {
      "cell_type": "code",
      "metadata": {
        "id": "JPr9JyCFu3g_"
      },
      "source": [
        "# Leitura dos resultados do arquivo votacao_candidato_munzona_2016_SP.csv\n",
        "\n",
        "resultados_2016 = pd.read_csv('drive/My Drive/Colab Notebooks/Estudo_Campanha_Eleitoral_e_Resultados/votacao_candidato_munzona_2016_SP.csv', delimiter=';', error_bad_lines=False, encoding=\"ISO-8859-1\")"
      ],
      "execution_count": 131,
      "outputs": []
    },
    {
      "cell_type": "code",
      "metadata": {
        "id": "yEGxMQOTu3hD",
        "colab": {
          "base_uri": "https://localhost:8080/",
          "height": 419
        },
        "outputId": "8b2c222b-cf59-422d-b613-0c35c27c9ee5"
      },
      "source": [
        "# Filtragem \n",
        "\n",
        "resultados_2016 = resultados_2016[['NM_MUNICIPIO', 'DS_CARGO', 'NM_CANDIDATO', 'QT_VOTOS_NOMINAIS']]\n",
        "resultados_2016 = resultados_2016[resultados_2016.DS_CARGO == \"Prefeito\"]\n",
        "resultados_2016 = resultados_2016[resultados_2016['QT_VOTOS_NOMINAIS'] == resultados_2016.groupby('NM_MUNICIPIO')['QT_VOTOS_NOMINAIS'].transform('max')]\n",
        "resultados_2016 = resultados_2016.reset_index()\n",
        "resultados_2016"
      ],
      "execution_count": 132,
      "outputs": [
        {
          "output_type": "execute_result",
          "data": {
            "text/html": [
              "<div>\n",
              "<style scoped>\n",
              "    .dataframe tbody tr th:only-of-type {\n",
              "        vertical-align: middle;\n",
              "    }\n",
              "\n",
              "    .dataframe tbody tr th {\n",
              "        vertical-align: top;\n",
              "    }\n",
              "\n",
              "    .dataframe thead th {\n",
              "        text-align: right;\n",
              "    }\n",
              "</style>\n",
              "<table border=\"1\" class=\"dataframe\">\n",
              "  <thead>\n",
              "    <tr style=\"text-align: right;\">\n",
              "      <th></th>\n",
              "      <th>index</th>\n",
              "      <th>NM_MUNICIPIO</th>\n",
              "      <th>DS_CARGO</th>\n",
              "      <th>NM_CANDIDATO</th>\n",
              "      <th>QT_VOTOS_NOMINAIS</th>\n",
              "    </tr>\n",
              "  </thead>\n",
              "  <tbody>\n",
              "    <tr>\n",
              "      <th>0</th>\n",
              "      <td>88</td>\n",
              "      <td>ÁGUAS DA PRATA</td>\n",
              "      <td>Prefeito</td>\n",
              "      <td>CARLOS HENRIQUE FORTES DEZENA</td>\n",
              "      <td>2138</td>\n",
              "    </tr>\n",
              "    <tr>\n",
              "      <th>1</th>\n",
              "      <td>678</td>\n",
              "      <td>ALUMÍNIO</td>\n",
              "      <td>Prefeito</td>\n",
              "      <td>ANTONIO PIASSENTINI</td>\n",
              "      <td>5662</td>\n",
              "    </tr>\n",
              "    <tr>\n",
              "      <th>2</th>\n",
              "      <td>681</td>\n",
              "      <td>ÁLVARES MACHADO</td>\n",
              "      <td>Prefeito</td>\n",
              "      <td>JOSÉ CARLOS CABRERA PARRA</td>\n",
              "      <td>5788</td>\n",
              "    </tr>\n",
              "    <tr>\n",
              "      <th>3</th>\n",
              "      <td>919</td>\n",
              "      <td>ÁLVARO DE CARVALHO</td>\n",
              "      <td>Prefeito</td>\n",
              "      <td>CÍCERO MARTINS DOS SANTOS</td>\n",
              "      <td>1337</td>\n",
              "    </tr>\n",
              "    <tr>\n",
              "      <th>4</th>\n",
              "      <td>1077</td>\n",
              "      <td>ARAÇATUBA</td>\n",
              "      <td>Prefeito</td>\n",
              "      <td>DILADOR BORGES DAMASCENO</td>\n",
              "      <td>29367</td>\n",
              "    </tr>\n",
              "    <tr>\n",
              "      <th>...</th>\n",
              "      <td>...</td>\n",
              "      <td>...</td>\n",
              "      <td>...</td>\n",
              "      <td>...</td>\n",
              "      <td>...</td>\n",
              "    </tr>\n",
              "    <tr>\n",
              "      <th>640</th>\n",
              "      <td>198735</td>\n",
              "      <td>PEDRA BELA</td>\n",
              "      <td>Prefeito</td>\n",
              "      <td>ALVARO JESIEL DE LIMA</td>\n",
              "      <td>2472</td>\n",
              "    </tr>\n",
              "    <tr>\n",
              "      <th>641</th>\n",
              "      <td>198745</td>\n",
              "      <td>PEDREIRA</td>\n",
              "      <td>Prefeito</td>\n",
              "      <td>HAMILTON BERNARDES JUNIOR</td>\n",
              "      <td>15729</td>\n",
              "    </tr>\n",
              "    <tr>\n",
              "      <th>642</th>\n",
              "      <td>199510</td>\n",
              "      <td>ASSIS</td>\n",
              "      <td>Prefeito</td>\n",
              "      <td>JOSÉ APARECIDO FERNANDES</td>\n",
              "      <td>11686</td>\n",
              "    </tr>\n",
              "    <tr>\n",
              "      <th>643</th>\n",
              "      <td>199655</td>\n",
              "      <td>CAPELA DO ALTO</td>\n",
              "      <td>Prefeito</td>\n",
              "      <td>PERICLES GONÇALVES</td>\n",
              "      <td>4806</td>\n",
              "    </tr>\n",
              "    <tr>\n",
              "      <th>644</th>\n",
              "      <td>200741</td>\n",
              "      <td>SANTÓPOLIS DO AGUAPEÍ</td>\n",
              "      <td>Prefeito</td>\n",
              "      <td>HAROLDO ALVES PIO</td>\n",
              "      <td>2343</td>\n",
              "    </tr>\n",
              "  </tbody>\n",
              "</table>\n",
              "<p>645 rows × 5 columns</p>\n",
              "</div>"
            ],
            "text/plain": [
              "      index  ... QT_VOTOS_NOMINAIS\n",
              "0        88  ...              2138\n",
              "1       678  ...              5662\n",
              "2       681  ...              5788\n",
              "3       919  ...              1337\n",
              "4      1077  ...             29367\n",
              "..      ...  ...               ...\n",
              "640  198735  ...              2472\n",
              "641  198745  ...             15729\n",
              "642  199510  ...             11686\n",
              "643  199655  ...              4806\n",
              "644  200741  ...              2343\n",
              "\n",
              "[645 rows x 5 columns]"
            ]
          },
          "metadata": {
            "tags": []
          },
          "execution_count": 132
        }
      ]
    },
    {
      "cell_type": "code",
      "metadata": {
        "id": "-jUgayqMu3hL"
      },
      "source": [
        "# Leitura e delimitação por colunas do arquivo estimativa_TCU_2016_20170614.xls\n",
        "\n",
        "fields = ['UF', 'NOME DO MUNICÍPIO', 'POPULAÇÃO ESTIMADA']\n",
        "est_pop_2016 = pd.read_excel('drive/My Drive/Colab Notebooks/Estudo_Campanha_Eleitoral_e_Resultados/estimativa_TCU_2016_20170614.xls', sheet_name=\"Municípios\", skiprows=1, nrows=5570, usecols=fields)\n",
        "est_pop_2016 = est_pop_2016.apply(lambda x: x.astype(str).str.upper())"
      ],
      "execution_count": 133,
      "outputs": []
    },
    {
      "cell_type": "code",
      "metadata": {
        "id": "X9tZ2F7gu3hO"
      },
      "source": [
        "# Filtragem dos resultados do estado de São Paulo\n",
        "\n",
        "est_pop_2016 = est_pop_2016[est_pop_2016.UF == \"SP\"]\n",
        "est_pop_2016 = est_pop_2016.reset_index()"
      ],
      "execution_count": 134,
      "outputs": []
    },
    {
      "cell_type": "code",
      "metadata": {
        "id": "YQlUD41yu3hS",
        "colab": {
          "base_uri": "https://localhost:8080/"
        },
        "outputId": "3caa926f-9858-48a6-d341-462da1ceb432"
      },
      "source": [
        "# Verificação dos nomes das cidades em disparidade\n",
        "\n",
        "lista = [x for x in despesas_2016['Nome da UE'] if x not in list(est_pop_2016['NOME DO MUNICÍPIO'])]\n",
        "print(lista)"
      ],
      "execution_count": 135,
      "outputs": [
        {
          "output_type": "stream",
          "text": [
            "['BIRITIBA MIRIM', 'FLORÍNEA', 'GUAIMBÉ', 'ITAOCA']\n"
          ],
          "name": "stdout"
        }
      ]
    },
    {
      "cell_type": "code",
      "metadata": {
        "id": "83kW1QPmu3hW",
        "scrolled": true,
        "colab": {
          "base_uri": "https://localhost:8080/"
        },
        "outputId": "83ebbe59-7e02-4ccf-a8c8-b9758c3ec54c"
      },
      "source": [
        "# Impressão dos nomes das cidades\n",
        "\n",
        "lista = [x for x in est_pop_2016['NOME DO MUNICÍPIO']]\n",
        "print(lista)"
      ],
      "execution_count": 136,
      "outputs": [
        {
          "output_type": "stream",
          "text": [
            "['ADAMANTINA', 'ADOLFO', 'AGUAÍ', 'ÁGUAS DA PRATA', 'ÁGUAS DE LINDÓIA', 'ÁGUAS DE SANTA BÁRBARA', 'ÁGUAS DE SÃO PEDRO', 'AGUDOS', 'ALAMBARI', 'ALFREDO MARCONDES', 'ALTAIR', 'ALTINÓPOLIS', 'ALTO ALEGRE', 'ALUMÍNIO', 'ÁLVARES FLORENCE', 'ÁLVARES MACHADO', 'ÁLVARO DE CARVALHO', 'ALVINLÂNDIA', 'AMERICANA', 'AMÉRICO BRASILIENSE', 'AMÉRICO DE CAMPOS', 'AMPARO', 'ANALÂNDIA', 'ANDRADINA', 'ANGATUBA', 'ANHEMBI', 'ANHUMAS', 'APARECIDA', \"APARECIDA D'OESTE\", 'APIAÍ', 'ARAÇARIGUAMA', 'ARAÇATUBA', 'ARAÇOIABA DA SERRA', 'ARAMINA', 'ARANDU', 'ARAPEÍ', 'ARARAQUARA', 'ARARAS', 'ARCO-ÍRIS', 'AREALVA', 'AREIAS', 'AREIÓPOLIS', 'ARIRANHA', 'ARTUR NOGUEIRA', 'ARUJÁ', 'ASPÁSIA', 'ASSIS', 'ATIBAIA', 'AURIFLAMA', 'AVAÍ', 'AVANHANDAVA', 'AVARÉ', 'BADY BASSITT', 'BALBINOS', 'BÁLSAMO', 'BANANAL', 'BARÃO DE ANTONINA', 'BARBOSA', 'BARIRI', 'BARRA BONITA', 'BARRA DO CHAPÉU', 'BARRA DO TURVO', 'BARRETOS', 'BARRINHA', 'BARUERI', 'BASTOS', 'BATATAIS', 'BAURU', 'BEBEDOURO', 'BENTO DE ABREU', 'BERNARDINO DE CAMPOS', 'BERTIOGA', 'BILAC', 'BIRIGUI', 'BIRITIBA-MIRIM', 'BOA ESPERANÇA DO SUL', 'BOCAINA', 'BOFETE', 'BOITUVA', 'BOM JESUS DOS PERDÕES', 'BOM SUCESSO DE ITARARÉ', 'BORÁ', 'BORACÉIA', 'BORBOREMA', 'BOREBI', 'BOTUCATU', 'BRAGANÇA PAULISTA', 'BRAÚNA', 'BREJO ALEGRE', 'BRODOWSKI', 'BROTAS', 'BURI', 'BURITAMA', 'BURITIZAL', 'CABRÁLIA PAULISTA', 'CABREÚVA', 'CAÇAPAVA', 'CACHOEIRA PAULISTA', 'CACONDE', 'CAFELÂNDIA', 'CAIABU', 'CAIEIRAS', 'CAIUÁ', 'CAJAMAR', 'CAJATI', 'CAJOBI', 'CAJURU', 'CAMPINA DO MONTE ALEGRE', 'CAMPINAS', 'CAMPO LIMPO PAULISTA', 'CAMPOS DO JORDÃO', 'CAMPOS NOVOS PAULISTA', 'CANANÉIA', 'CANAS', 'CÂNDIDO MOTA', 'CÂNDIDO RODRIGUES', 'CANITAR', 'CAPÃO BONITO', 'CAPELA DO ALTO', 'CAPIVARI', 'CARAGUATATUBA', 'CARAPICUÍBA', 'CARDOSO', 'CASA BRANCA', 'CÁSSIA DOS COQUEIROS', 'CASTILHO', 'CATANDUVA', 'CATIGUÁ', 'CEDRAL', 'CERQUEIRA CÉSAR', 'CERQUILHO', 'CESÁRIO LANGE', 'CHARQUEADA', 'CLEMENTINA', 'COLINA', 'COLÔMBIA', 'CONCHAL', 'CONCHAS', 'CORDEIRÓPOLIS', 'COROADOS', 'CORONEL MACEDO', 'CORUMBATAÍ', 'COSMÓPOLIS', 'COSMORAMA', 'COTIA', 'CRAVINHOS', 'CRISTAIS PAULISTA', 'CRUZÁLIA', 'CRUZEIRO', 'CUBATÃO', 'CUNHA', 'DESCALVADO', 'DIADEMA', 'DIRCE REIS', 'DIVINOLÂNDIA', 'DOBRADA', 'DOIS CÓRREGOS', 'DOLCINÓPOLIS', 'DOURADO', 'DRACENA', 'DUARTINA', 'DUMONT', 'ECHAPORÃ', 'ELDORADO', 'ELIAS FAUSTO', 'ELISIÁRIO', 'EMBAÚBA', 'EMBU DAS ARTES', 'EMBU-GUAÇU', 'EMILIANÓPOLIS', 'ENGENHEIRO COELHO', 'ESPÍRITO SANTO DO PINHAL', 'ESPÍRITO SANTO DO TURVO', \"ESTRELA D'OESTE\", 'ESTRELA DO NORTE', 'EUCLIDES DA CUNHA PAULISTA', 'FARTURA', 'FERNANDÓPOLIS', 'FERNANDO PRESTES', 'FERNÃO', 'FERRAZ DE VASCONCELOS', 'FLORA RICA', 'FLOREAL', 'FLÓRIDA PAULISTA', 'FLORÍNIA', 'FRANCA', 'FRANCISCO MORATO', 'FRANCO DA ROCHA', 'GABRIEL MONTEIRO', 'GÁLIA', 'GARÇA', 'GASTÃO VIDIGAL', 'GAVIÃO PEIXOTO', 'GENERAL SALGADO', 'GETULINA', 'GLICÉRIO', 'GUAIÇARA', 'GUAIMBÊ', 'GUAÍRA', 'GUAPIAÇU', 'GUAPIARA', 'GUARÁ', 'GUARAÇAÍ', 'GUARACI', \"GUARANI D'OESTE\", 'GUARANTÃ', 'GUARARAPES', 'GUARAREMA', 'GUARATINGUETÁ', 'GUAREÍ', 'GUARIBA', 'GUARUJÁ', 'GUARULHOS', 'GUATAPARÁ', 'GUZOLÂNDIA', 'HERCULÂNDIA', 'HOLAMBRA', 'HORTOLÂNDIA', 'IACANGA', 'IACRI', 'IARAS', 'IBATÉ', 'IBIRÁ', 'IBIRAREMA', 'IBITINGA', 'IBIÚNA', 'ICÉM', 'IEPÊ', 'IGARAÇU DO TIETÊ', 'IGARAPAVA', 'IGARATÁ', 'IGUAPE', 'ILHABELA', 'ILHA COMPRIDA', 'ILHA SOLTEIRA', 'INDAIATUBA', 'INDIANA', 'INDIAPORÃ', 'INÚBIA PAULISTA', 'IPAUSSU', 'IPERÓ', 'IPEÚNA', 'IPIGUÁ', 'IPORANGA', 'IPUÃ', 'IRACEMÁPOLIS', 'IRAPUÃ', 'IRAPURU', 'ITABERÁ', 'ITAÍ', 'ITAJOBI', 'ITAJU', 'ITANHAÉM', 'ITAÓCA', 'ITAPECERICA DA SERRA', 'ITAPETININGA', 'ITAPEVA', 'ITAPEVI', 'ITAPIRA', 'ITAPIRAPUÃ PAULISTA', 'ITÁPOLIS', 'ITAPORANGA', 'ITAPUÍ', 'ITAPURA', 'ITAQUAQUECETUBA', 'ITARARÉ', 'ITARIRI', 'ITATIBA', 'ITATINGA', 'ITIRAPINA', 'ITIRAPUÃ', 'ITOBI', 'ITU', 'ITUPEVA', 'ITUVERAVA', 'JABORANDI', 'JABOTICABAL', 'JACAREÍ', 'JACI', 'JACUPIRANGA', 'JAGUARIÚNA', 'JALES', 'JAMBEIRO', 'JANDIRA', 'JARDINÓPOLIS', 'JARINU', 'JAÚ', 'JERIQUARA', 'JOANÓPOLIS', 'JOÃO RAMALHO', 'JOSÉ BONIFÁCIO', 'JÚLIO MESQUITA', 'JUMIRIM', 'JUNDIAÍ', 'JUNQUEIRÓPOLIS', 'JUQUIÁ', 'JUQUITIBA', 'LAGOINHA', 'LARANJAL PAULISTA', 'LAVÍNIA', 'LAVRINHAS', 'LEME', 'LENÇÓIS PAULISTA', 'LIMEIRA', 'LINDÓIA', 'LINS', 'LORENA', 'LOURDES', 'LOUVEIRA', 'LUCÉLIA', 'LUCIANÓPOLIS', 'LUÍS ANTÔNIO', 'LUIZIÂNIA', 'LUPÉRCIO', 'LUTÉCIA', 'MACATUBA', 'MACAUBAL', 'MACEDÔNIA', 'MAGDA', 'MAIRINQUE', 'MAIRIPORÃ', 'MANDURI', 'MARABÁ PAULISTA', 'MARACAÍ', 'MARAPOAMA', 'MARIÁPOLIS', 'MARÍLIA', 'MARINÓPOLIS', 'MARTINÓPOLIS', 'MATÃO', 'MAUÁ', 'MENDONÇA', 'MERIDIANO', 'MESÓPOLIS', 'MIGUELÓPOLIS', 'MINEIROS DO TIETÊ', 'MIRACATU', 'MIRA ESTRELA', 'MIRANDÓPOLIS', 'MIRANTE DO PARANAPANEMA', 'MIRASSOL', 'MIRASSOLÂNDIA', 'MOCOCA', 'MOGI DAS CRUZES', 'MOGI GUAÇU', 'MOGI MIRIM', 'MOMBUCA', 'MONÇÕES', 'MONGAGUÁ', 'MONTE ALEGRE DO SUL', 'MONTE ALTO', 'MONTE APRAZÍVEL', 'MONTE AZUL PAULISTA', 'MONTE CASTELO', 'MONTEIRO LOBATO', 'MONTE MOR', 'MORRO AGUDO', 'MORUNGABA', 'MOTUCA', 'MURUTINGA DO SUL', 'NANTES', 'NARANDIBA', 'NATIVIDADE DA SERRA', 'NAZARÉ PAULISTA', 'NEVES PAULISTA', 'NHANDEARA', 'NIPOÃ', 'NOVA ALIANÇA', 'NOVA CAMPINA', 'NOVA CANAÃ PAULISTA', 'NOVA CASTILHO', 'NOVA EUROPA', 'NOVA GRANADA', 'NOVA GUATAPORANGA', 'NOVA INDEPENDÊNCIA', 'NOVAIS', 'NOVA LUZITÂNIA', 'NOVA ODESSA', 'NOVO HORIZONTE', 'NUPORANGA', 'OCAUÇU', 'ÓLEO', 'OLÍMPIA', 'ONDA VERDE', 'ORIENTE', 'ORINDIÚVA', 'ORLÂNDIA', 'OSASCO', 'OSCAR BRESSANE', 'OSVALDO CRUZ', 'OURINHOS', 'OUROESTE', 'OURO VERDE', 'PACAEMBU', 'PALESTINA', 'PALMARES PAULISTA', \"PALMEIRA D'OESTE\", 'PALMITAL', 'PANORAMA', 'PARAGUAÇU PAULISTA', 'PARAIBUNA', 'PARAÍSO', 'PARANAPANEMA', 'PARANAPUÃ', 'PARAPUÃ', 'PARDINHO', 'PARIQUERA-AÇU', 'PARISI', 'PATROCÍNIO PAULISTA', 'PAULICÉIA', 'PAULÍNIA', 'PAULISTÂNIA', 'PAULO DE FARIA', 'PEDERNEIRAS', 'PEDRA BELA', 'PEDRANÓPOLIS', 'PEDREGULHO', 'PEDREIRA', 'PEDRINHAS PAULISTA', 'PEDRO DE TOLEDO', 'PENÁPOLIS', 'PEREIRA BARRETO', 'PEREIRAS', 'PERUÍBE', 'PIACATU', 'PIEDADE', 'PILAR DO SUL', 'PINDAMONHANGABA', 'PINDORAMA', 'PINHALZINHO', 'PIQUEROBI', 'PIQUETE', 'PIRACAIA', 'PIRACICABA', 'PIRAJU', 'PIRAJUÍ', 'PIRANGI', 'PIRAPORA DO BOM JESUS', 'PIRAPOZINHO', 'PIRASSUNUNGA', 'PIRATININGA', 'PITANGUEIRAS', 'PLANALTO', 'PLATINA', 'POÁ', 'POLONI', 'POMPÉIA', 'PONGAÍ', 'PONTAL', 'PONTALINDA', 'PONTES GESTAL', 'POPULINA', 'PORANGABA', 'PORTO FELIZ', 'PORTO FERREIRA', 'POTIM', 'POTIRENDABA', 'PRACINHA', 'PRADÓPOLIS', 'PRAIA GRANDE', 'PRATÂNIA', 'PRESIDENTE ALVES', 'PRESIDENTE BERNARDES', 'PRESIDENTE EPITÁCIO', 'PRESIDENTE PRUDENTE', 'PRESIDENTE VENCESLAU', 'PROMISSÃO', 'QUADRA', 'QUATÁ', 'QUEIROZ', 'QUELUZ', 'QUINTANA', 'RAFARD', 'RANCHARIA', 'REDENÇÃO DA SERRA', 'REGENTE FEIJÓ', 'REGINÓPOLIS', 'REGISTRO', 'RESTINGA', 'RIBEIRA', 'RIBEIRÃO BONITO', 'RIBEIRÃO BRANCO', 'RIBEIRÃO CORRENTE', 'RIBEIRÃO DO SUL', 'RIBEIRÃO DOS ÍNDIOS', 'RIBEIRÃO GRANDE', 'RIBEIRÃO PIRES', 'RIBEIRÃO PRETO', 'RIVERSUL', 'RIFAINA', 'RINCÃO', 'RINÓPOLIS', 'RIO CLARO', 'RIO DAS PEDRAS', 'RIO GRANDE DA SERRA', 'RIOLÂNDIA', 'ROSANA', 'ROSEIRA', 'RUBIÁCEA', 'RUBINÉIA', 'SABINO', 'SAGRES', 'SALES', 'SALES OLIVEIRA', 'SALESÓPOLIS', 'SALMOURÃO', 'SALTINHO', 'SALTO', 'SALTO DE PIRAPORA', 'SALTO GRANDE', 'SANDOVALINA', 'SANTA ADÉLIA', 'SANTA ALBERTINA', \"SANTA BÁRBARA D'OESTE\", 'SANTA BRANCA', \"SANTA CLARA D'OESTE\", 'SANTA CRUZ DA CONCEIÇÃO', 'SANTA CRUZ DA ESPERANÇA', 'SANTA CRUZ DAS PALMEIRAS', 'SANTA CRUZ DO RIO PARDO', 'SANTA ERNESTINA', 'SANTA FÉ DO SUL', 'SANTA GERTRUDES', 'SANTA ISABEL', 'SANTA LÚCIA', 'SANTA MARIA DA SERRA', 'SANTA MERCEDES', 'SANTANA DA PONTE PENSA', 'SANTANA DE PARNAÍBA', \"SANTA RITA D'OESTE\", 'SANTA RITA DO PASSA QUATRO', 'SANTA ROSA DE VITERBO', 'SANTA SALETE', 'SANTO ANASTÁCIO', 'SANTO ANDRÉ', 'SANTO ANTÔNIO DA ALEGRIA', 'SANTO ANTÔNIO DE POSSE', 'SANTO ANTÔNIO DO ARACANGUÁ', 'SANTO ANTÔNIO DO JARDIM', 'SANTO ANTÔNIO DO PINHAL', 'SANTO EXPEDITO', 'SANTÓPOLIS DO AGUAPEÍ', 'SANTOS', 'SÃO BENTO DO SAPUCAÍ', 'SÃO BERNARDO DO CAMPO', 'SÃO CAETANO DO SUL', 'SÃO CARLOS', 'SÃO FRANCISCO', 'SÃO JOÃO DA BOA VISTA', 'SÃO JOÃO DAS DUAS PONTES', 'SÃO JOÃO DE IRACEMA', \"SÃO JOÃO DO PAU D'ALHO\", 'SÃO JOAQUIM DA BARRA', 'SÃO JOSÉ DA BELA VISTA', 'SÃO JOSÉ DO BARREIRO', 'SÃO JOSÉ DO RIO PARDO', 'SÃO JOSÉ DO RIO PRETO', 'SÃO JOSÉ DOS CAMPOS', 'SÃO LOURENÇO DA SERRA', 'SÃO LUÍS DO PARAITINGA', 'SÃO MANUEL', 'SÃO MIGUEL ARCANJO', 'SÃO PAULO', 'SÃO PEDRO', 'SÃO PEDRO DO TURVO', 'SÃO ROQUE', 'SÃO SEBASTIÃO', 'SÃO SEBASTIÃO DA GRAMA', 'SÃO SIMÃO', 'SÃO VICENTE', 'SARAPUÍ', 'SARUTAIÁ', 'SEBASTIANÓPOLIS DO SUL', 'SERRA AZUL', 'SERRANA', 'SERRA NEGRA', 'SERTÃOZINHO', 'SETE BARRAS', 'SEVERÍNIA', 'SILVEIRAS', 'SOCORRO', 'SOROCABA', 'SUD MENNUCCI', 'SUMARÉ', 'SUZANO', 'SUZANÁPOLIS', 'TABAPUÃ', 'TABATINGA', 'TABOÃO DA SERRA', 'TACIBA', 'TAGUAÍ', 'TAIAÇU', 'TAIÚVA', 'TAMBAÚ', 'TANABI', 'TAPIRAÍ', 'TAPIRATIBA', 'TAQUARAL', 'TAQUARITINGA', 'TAQUARITUBA', 'TAQUARIVAÍ', 'TARABAI', 'TARUMÃ', 'TATUÍ', 'TAUBATÉ', 'TEJUPÁ', 'TEODORO SAMPAIO', 'TERRA ROXA', 'TIETÊ', 'TIMBURI', 'TORRE DE PEDRA', 'TORRINHA', 'TRABIJU', 'TREMEMBÉ', 'TRÊS FRONTEIRAS', 'TUIUTI', 'TUPÃ', 'TUPI PAULISTA', 'TURIÚBA', 'TURMALINA', 'UBARANA', 'UBATUBA', 'UBIRAJARA', 'UCHOA', 'UNIÃO PAULISTA', 'URÂNIA', 'URU', 'URUPÊS', 'VALENTIM GENTIL', 'VALINHOS', 'VALPARAÍSO', 'VARGEM', 'VARGEM GRANDE DO SUL', 'VARGEM GRANDE PAULISTA', 'VÁRZEA PAULISTA', 'VERA CRUZ', 'VINHEDO', 'VIRADOURO', 'VISTA ALEGRE DO ALTO', 'VITÓRIA BRASIL', 'VOTORANTIM', 'VOTUPORANGA', 'ZACARIAS', 'CHAVANTES', 'ESTIVA GERBI']\n"
          ],
          "name": "stdout"
        }
      ]
    },
    {
      "cell_type": "code",
      "metadata": {
        "id": "09z8X42_jDPa"
      },
      "source": [
        "# Correção dos nomes da cidades em disparidade\n",
        "\n",
        "lista = ['NOME DO MUNICÍPIO']\n",
        "\n",
        "for col in lista:\n",
        "  est_pop_2016[col] = est_pop_2016[col].str.replace('BIRITIBA-MIRIM', 'BIRITIBA MIRIM')\n",
        "  est_pop_2016[col] = est_pop_2016[col].str.replace('FLORÍNIA', 'FLORÍNEA')\n",
        "  est_pop_2016[col] = est_pop_2016[col].str.replace('GUAIMBÊ', 'GUAIMBÉ')\n",
        "  est_pop_2016[col] = est_pop_2016[col].str.replace('ITAÓCA', 'ITAOCA')"
      ],
      "execution_count": 137,
      "outputs": []
    },
    {
      "cell_type": "code",
      "metadata": {
        "colab": {
          "base_uri": "https://localhost:8080/",
          "height": 419
        },
        "id": "zJFMRk9NGQj_",
        "outputId": "6d0adac2-9bba-456a-a02e-64c9ab572288"
      },
      "source": [
        "# Exibindo dataframe\n",
        "\n",
        "est_pop_2016"
      ],
      "execution_count": 138,
      "outputs": [
        {
          "output_type": "execute_result",
          "data": {
            "text/html": [
              "<div>\n",
              "<style scoped>\n",
              "    .dataframe tbody tr th:only-of-type {\n",
              "        vertical-align: middle;\n",
              "    }\n",
              "\n",
              "    .dataframe tbody tr th {\n",
              "        vertical-align: top;\n",
              "    }\n",
              "\n",
              "    .dataframe thead th {\n",
              "        text-align: right;\n",
              "    }\n",
              "</style>\n",
              "<table border=\"1\" class=\"dataframe\">\n",
              "  <thead>\n",
              "    <tr style=\"text-align: right;\">\n",
              "      <th></th>\n",
              "      <th>index</th>\n",
              "      <th>UF</th>\n",
              "      <th>NOME DO MUNICÍPIO</th>\n",
              "      <th>POPULAÇÃO ESTIMADA</th>\n",
              "    </tr>\n",
              "  </thead>\n",
              "  <tbody>\n",
              "    <tr>\n",
              "      <th>0</th>\n",
              "      <td>3267</td>\n",
              "      <td>SP</td>\n",
              "      <td>ADAMANTINA</td>\n",
              "      <td>35094</td>\n",
              "    </tr>\n",
              "    <tr>\n",
              "      <th>1</th>\n",
              "      <td>3268</td>\n",
              "      <td>SP</td>\n",
              "      <td>ADOLFO</td>\n",
              "      <td>3616</td>\n",
              "    </tr>\n",
              "    <tr>\n",
              "      <th>2</th>\n",
              "      <td>3269</td>\n",
              "      <td>SP</td>\n",
              "      <td>AGUAÍ</td>\n",
              "      <td>35189</td>\n",
              "    </tr>\n",
              "    <tr>\n",
              "      <th>3</th>\n",
              "      <td>3270</td>\n",
              "      <td>SP</td>\n",
              "      <td>ÁGUAS DA PRATA</td>\n",
              "      <td>8065</td>\n",
              "    </tr>\n",
              "    <tr>\n",
              "      <th>4</th>\n",
              "      <td>3271</td>\n",
              "      <td>SP</td>\n",
              "      <td>ÁGUAS DE LINDÓIA</td>\n",
              "      <td>18412</td>\n",
              "    </tr>\n",
              "    <tr>\n",
              "      <th>...</th>\n",
              "      <td>...</td>\n",
              "      <td>...</td>\n",
              "      <td>...</td>\n",
              "      <td>...</td>\n",
              "    </tr>\n",
              "    <tr>\n",
              "      <th>640</th>\n",
              "      <td>3907</td>\n",
              "      <td>SP</td>\n",
              "      <td>VOTORANTIM</td>\n",
              "      <td>118858</td>\n",
              "    </tr>\n",
              "    <tr>\n",
              "      <th>641</th>\n",
              "      <td>3908</td>\n",
              "      <td>SP</td>\n",
              "      <td>VOTUPORANGA</td>\n",
              "      <td>92032</td>\n",
              "    </tr>\n",
              "    <tr>\n",
              "      <th>642</th>\n",
              "      <td>3909</td>\n",
              "      <td>SP</td>\n",
              "      <td>ZACARIAS</td>\n",
              "      <td>2605</td>\n",
              "    </tr>\n",
              "    <tr>\n",
              "      <th>643</th>\n",
              "      <td>3910</td>\n",
              "      <td>SP</td>\n",
              "      <td>CHAVANTES</td>\n",
              "      <td>12486</td>\n",
              "    </tr>\n",
              "    <tr>\n",
              "      <th>644</th>\n",
              "      <td>3911</td>\n",
              "      <td>SP</td>\n",
              "      <td>ESTIVA GERBI</td>\n",
              "      <td>10971</td>\n",
              "    </tr>\n",
              "  </tbody>\n",
              "</table>\n",
              "<p>645 rows × 4 columns</p>\n",
              "</div>"
            ],
            "text/plain": [
              "     index  UF NOME DO MUNICÍPIO POPULAÇÃO ESTIMADA\n",
              "0     3267  SP        ADAMANTINA              35094\n",
              "1     3268  SP            ADOLFO               3616\n",
              "2     3269  SP             AGUAÍ              35189\n",
              "3     3270  SP    ÁGUAS DA PRATA               8065\n",
              "4     3271  SP  ÁGUAS DE LINDÓIA              18412\n",
              "..     ...  ..               ...                ...\n",
              "640   3907  SP        VOTORANTIM             118858\n",
              "641   3908  SP       VOTUPORANGA              92032\n",
              "642   3909  SP          ZACARIAS               2605\n",
              "643   3910  SP         CHAVANTES              12486\n",
              "644   3911  SP      ESTIVA GERBI              10971\n",
              "\n",
              "[645 rows x 4 columns]"
            ]
          },
          "metadata": {
            "tags": []
          },
          "execution_count": 138
        }
      ]
    },
    {
      "cell_type": "code",
      "metadata": {
        "id": "OZC0lSmJu3hb"
      },
      "source": [
        "# Criação do dataframe concatenacao_2016\n",
        "\n",
        "concatenacao_2016 = pd.concat([despesas_2016.set_index('Nome da UE'),est_pop_2016.set_index('NOME DO MUNICÍPIO')], axis=1, join='inner')"
      ],
      "execution_count": 139,
      "outputs": []
    },
    {
      "cell_type": "code",
      "metadata": {
        "id": "uIkVrBXNu3he"
      },
      "source": [
        "# Verificação e adição ao dataframe se o candidato foi o mais votado ou não\n",
        "\n",
        "concatenacao_2016 = concatenacao_2016.reset_index()\n",
        "mais_votado = []\n",
        "for x in range(len(concatenacao_2016['Nome candidato'])):\n",
        "    if concatenacao_2016['Nome candidato'][x] in list(resultados_2016['NM_CANDIDATO']):\n",
        "        mais_votado.append('SIM')\n",
        "    else:\n",
        "        mais_votado.append('NÃO')\n",
        "\n",
        "concatenacao_2016['MAIS VOTADO'] = mais_votado\n",
        "\n",
        "# Adição do gênero de cada candidato\n",
        "\n",
        "genero = []\n",
        "candidato = []\n",
        "for x, val1 in enumerate(concatenacao_2016['Nome candidato']):\n",
        "    for y, val2 in enumerate(candidatos_2016['NM_CANDIDATO']):\n",
        "        if val1 == val2:\n",
        "            if val1 not in candidato:\n",
        "                candidato.append(candidatos_2016['NM_CANDIDATO'][y])\n",
        "                genero.append(candidatos_2016['DS_GENERO'][y])\n",
        "\n",
        "concatenacao_2016['DS_GENERO'] = genero"
      ],
      "execution_count": 140,
      "outputs": []
    },
    {
      "cell_type": "code",
      "metadata": {
        "id": "ej7sj39Ru3hg"
      },
      "source": [
        "# Tratamento do dataframe concatenacao_2016\n",
        "\n",
        "concatenacao_2016['POPULAÇÃO ESTIMADA'] = concatenacao_2016['POPULAÇÃO ESTIMADA'].apply(lambda x: pd.to_numeric(x.replace(',','.'), errors='coerce'))"
      ],
      "execution_count": 141,
      "outputs": []
    },
    {
      "cell_type": "code",
      "metadata": {
        "id": "qI3yfDekYuI3",
        "colab": {
          "base_uri": "https://localhost:8080/",
          "height": 419
        },
        "outputId": "fa42a912-1d53-4067-b226-a6e2719f5236"
      },
      "source": [
        "concatenacao_2016"
      ],
      "execution_count": 142,
      "outputs": [
        {
          "output_type": "execute_result",
          "data": {
            "text/html": [
              "<div>\n",
              "<style scoped>\n",
              "    .dataframe tbody tr th:only-of-type {\n",
              "        vertical-align: middle;\n",
              "    }\n",
              "\n",
              "    .dataframe tbody tr th {\n",
              "        vertical-align: top;\n",
              "    }\n",
              "\n",
              "    .dataframe thead th {\n",
              "        text-align: right;\n",
              "    }\n",
              "</style>\n",
              "<table border=\"1\" class=\"dataframe\">\n",
              "  <thead>\n",
              "    <tr style=\"text-align: right;\">\n",
              "      <th></th>\n",
              "      <th>level_0</th>\n",
              "      <th>Nome candidato</th>\n",
              "      <th>Valor despesa</th>\n",
              "      <th>index</th>\n",
              "      <th>UF</th>\n",
              "      <th>POPULAÇÃO ESTIMADA</th>\n",
              "      <th>MAIS VOTADO</th>\n",
              "      <th>DS_GENERO</th>\n",
              "    </tr>\n",
              "  </thead>\n",
              "  <tbody>\n",
              "    <tr>\n",
              "      <th>0</th>\n",
              "      <td>ADAMANTINA</td>\n",
              "      <td>MÁRCIO CARDIM</td>\n",
              "      <td>54400.00</td>\n",
              "      <td>3267</td>\n",
              "      <td>SP</td>\n",
              "      <td>35094</td>\n",
              "      <td>SIM</td>\n",
              "      <td>MASCULINO</td>\n",
              "    </tr>\n",
              "    <tr>\n",
              "      <th>1</th>\n",
              "      <td>ADOLFO</td>\n",
              "      <td>IZAEL ANTONIO FERNANDES</td>\n",
              "      <td>33498.29</td>\n",
              "      <td>3268</td>\n",
              "      <td>SP</td>\n",
              "      <td>3616</td>\n",
              "      <td>SIM</td>\n",
              "      <td>MASCULINO</td>\n",
              "    </tr>\n",
              "    <tr>\n",
              "      <th>2</th>\n",
              "      <td>AGUAÍ</td>\n",
              "      <td>JOSÉ ALEXANDRE PEREIRA DE ARAÚJO</td>\n",
              "      <td>140805.33</td>\n",
              "      <td>3269</td>\n",
              "      <td>SP</td>\n",
              "      <td>35189</td>\n",
              "      <td>SIM</td>\n",
              "      <td>MASCULINO</td>\n",
              "    </tr>\n",
              "    <tr>\n",
              "      <th>3</th>\n",
              "      <td>AGUDOS</td>\n",
              "      <td>JOSÉ CARLOS OCTAVIANI</td>\n",
              "      <td>79475.00</td>\n",
              "      <td>3274</td>\n",
              "      <td>SP</td>\n",
              "      <td>36704</td>\n",
              "      <td>NÃO</td>\n",
              "      <td>MASCULINO</td>\n",
              "    </tr>\n",
              "    <tr>\n",
              "      <th>4</th>\n",
              "      <td>ALAMBARI</td>\n",
              "      <td>HUDSON JOSE GOMES</td>\n",
              "      <td>45400.00</td>\n",
              "      <td>3275</td>\n",
              "      <td>SP</td>\n",
              "      <td>5658</td>\n",
              "      <td>SIM</td>\n",
              "      <td>MASCULINO</td>\n",
              "    </tr>\n",
              "    <tr>\n",
              "      <th>...</th>\n",
              "      <td>...</td>\n",
              "      <td>...</td>\n",
              "      <td>...</td>\n",
              "      <td>...</td>\n",
              "      <td>...</td>\n",
              "      <td>...</td>\n",
              "      <td>...</td>\n",
              "      <td>...</td>\n",
              "    </tr>\n",
              "    <tr>\n",
              "      <th>640</th>\n",
              "      <td>ÁGUAS DE SÃO PEDRO</td>\n",
              "      <td>MARIA ELY DE LIMA BUENO</td>\n",
              "      <td>36808.50</td>\n",
              "      <td>3273</td>\n",
              "      <td>SP</td>\n",
              "      <td>3205</td>\n",
              "      <td>NÃO</td>\n",
              "      <td>FEMININO</td>\n",
              "    </tr>\n",
              "    <tr>\n",
              "      <th>641</th>\n",
              "      <td>ÁLVARES FLORENCE</td>\n",
              "      <td>CALIMÉRIO LUIZ CORREA SALES</td>\n",
              "      <td>16440.97</td>\n",
              "      <td>3281</td>\n",
              "      <td>SP</td>\n",
              "      <td>3824</td>\n",
              "      <td>SIM</td>\n",
              "      <td>MASCULINO</td>\n",
              "    </tr>\n",
              "    <tr>\n",
              "      <th>642</th>\n",
              "      <td>ÁLVARES MACHADO</td>\n",
              "      <td>FRANCISANGELA FERNANDES DE SÃO JOSÉ POLICATE</td>\n",
              "      <td>35635.70</td>\n",
              "      <td>3282</td>\n",
              "      <td>SP</td>\n",
              "      <td>24733</td>\n",
              "      <td>NÃO</td>\n",
              "      <td>FEMININO</td>\n",
              "    </tr>\n",
              "    <tr>\n",
              "      <th>643</th>\n",
              "      <td>ÁLVARO DE CARVALHO</td>\n",
              "      <td>ADILSON DE OLIVEIRA LOPES</td>\n",
              "      <td>52745.94</td>\n",
              "      <td>3283</td>\n",
              "      <td>SP</td>\n",
              "      <td>5075</td>\n",
              "      <td>NÃO</td>\n",
              "      <td>MASCULINO</td>\n",
              "    </tr>\n",
              "    <tr>\n",
              "      <th>644</th>\n",
              "      <td>ÓLEO</td>\n",
              "      <td>PEDRO GERALDO DUARTE</td>\n",
              "      <td>5430.01</td>\n",
              "      <td>3648</td>\n",
              "      <td>SP</td>\n",
              "      <td>2605</td>\n",
              "      <td>NÃO</td>\n",
              "      <td>MASCULINO</td>\n",
              "    </tr>\n",
              "  </tbody>\n",
              "</table>\n",
              "<p>645 rows × 8 columns</p>\n",
              "</div>"
            ],
            "text/plain": [
              "                level_0  ...  DS_GENERO\n",
              "0            ADAMANTINA  ...  MASCULINO\n",
              "1                ADOLFO  ...  MASCULINO\n",
              "2                 AGUAÍ  ...  MASCULINO\n",
              "3                AGUDOS  ...  MASCULINO\n",
              "4              ALAMBARI  ...  MASCULINO\n",
              "..                  ...  ...        ...\n",
              "640  ÁGUAS DE SÃO PEDRO  ...   FEMININO\n",
              "641    ÁLVARES FLORENCE  ...  MASCULINO\n",
              "642     ÁLVARES MACHADO  ...   FEMININO\n",
              "643  ÁLVARO DE CARVALHO  ...  MASCULINO\n",
              "644                ÓLEO  ...  MASCULINO\n",
              "\n",
              "[645 rows x 8 columns]"
            ]
          },
          "metadata": {
            "tags": []
          },
          "execution_count": 142
        }
      ]
    },
    {
      "cell_type": "code",
      "metadata": {
        "id": "YKCs0Rwiu3hu"
      },
      "source": [
        "# Filtragem por tamanho de população\n",
        "\n",
        "ate1mil_2016 = concatenacao_2016[concatenacao_2016['POPULAÇÃO ESTIMADA'] <= 1000]\n",
        "\n",
        "ate10mil_2016 = concatenacao_2016[(concatenacao_2016['POPULAÇÃO ESTIMADA'] > 1000) & (concatenacao_2016['POPULAÇÃO ESTIMADA'] <= 10000)]\n",
        "\n",
        "ate100mil_2016 = concatenacao_2016[(concatenacao_2016['POPULAÇÃO ESTIMADA'] > 10000) & (concatenacao_2016['POPULAÇÃO ESTIMADA'] <= 100000)]\n",
        "\n",
        "ate1milhao_2016 = concatenacao_2016[(concatenacao_2016['POPULAÇÃO ESTIMADA'] > 100000) & (concatenacao_2016['POPULAÇÃO ESTIMADA'] <= 1000000)]\n",
        "\n",
        "maior1milhao_2016 = concatenacao_2016[concatenacao_2016['POPULAÇÃO ESTIMADA'] > 1000000]\n"
      ],
      "execution_count": 143,
      "outputs": []
    },
    {
      "cell_type": "code",
      "metadata": {
        "colab": {
          "base_uri": "https://localhost:8080/",
          "height": 419
        },
        "id": "M5Sp5i20v01u",
        "outputId": "38fec966-8641-474f-93c3-e7088f84eaa7"
      },
      "source": [
        "# Tratamento do dataframe concatenacao_2008\n",
        "\n",
        "concatenação_2008 = concatenação_2008.rename(columns={'index':'MUNICIPIOS'})\n",
        "concatenação_2008"
      ],
      "execution_count": 144,
      "outputs": [
        {
          "output_type": "execute_result",
          "data": {
            "text/html": [
              "<div>\n",
              "<style scoped>\n",
              "    .dataframe tbody tr th:only-of-type {\n",
              "        vertical-align: middle;\n",
              "    }\n",
              "\n",
              "    .dataframe tbody tr th {\n",
              "        vertical-align: top;\n",
              "    }\n",
              "\n",
              "    .dataframe thead th {\n",
              "        text-align: right;\n",
              "    }\n",
              "</style>\n",
              "<table border=\"1\" class=\"dataframe\">\n",
              "  <thead>\n",
              "    <tr style=\"text-align: right;\">\n",
              "      <th></th>\n",
              "      <th>MUNICIPIOS</th>\n",
              "      <th>POPULAÇÃO ESTIMADA</th>\n",
              "      <th>NO_CAND</th>\n",
              "      <th>VR_DESPESA</th>\n",
              "      <th>MAIS VOTADO</th>\n",
              "      <th>DS_GENERO</th>\n",
              "    </tr>\n",
              "  </thead>\n",
              "  <tbody>\n",
              "    <tr>\n",
              "      <th>0</th>\n",
              "      <td>ADAMANTINA</td>\n",
              "      <td>34366.0</td>\n",
              "      <td>JOSE FRANCISCO FIGUEIREDO MICHELONI</td>\n",
              "      <td>37707.01</td>\n",
              "      <td>SIM</td>\n",
              "      <td>MASCULINO</td>\n",
              "    </tr>\n",
              "    <tr>\n",
              "      <th>1</th>\n",
              "      <td>ADOLFO</td>\n",
              "      <td>3711.0</td>\n",
              "      <td>JOÃO DONIZETTE THEODORO</td>\n",
              "      <td>54472.20</td>\n",
              "      <td>SIM</td>\n",
              "      <td>MASCULINO</td>\n",
              "    </tr>\n",
              "    <tr>\n",
              "      <th>2</th>\n",
              "      <td>AGUAÍ</td>\n",
              "      <td>31763.0</td>\n",
              "      <td>SEBASTIÃO BIAZZO</td>\n",
              "      <td>474333.30</td>\n",
              "      <td>NÃO</td>\n",
              "      <td>MASCULINO</td>\n",
              "    </tr>\n",
              "    <tr>\n",
              "      <th>3</th>\n",
              "      <td>ÁGUAS DA PRATA</td>\n",
              "      <td>7684.0</td>\n",
              "      <td>CARLOS HENRIQUE FORTES DEZENA</td>\n",
              "      <td>18575.00</td>\n",
              "      <td>NÃO</td>\n",
              "      <td>MASCULINO</td>\n",
              "    </tr>\n",
              "    <tr>\n",
              "      <th>4</th>\n",
              "      <td>ÁGUAS DE LINDÓIA</td>\n",
              "      <td>16335.0</td>\n",
              "      <td>MARTINHO ANTONIO MARIANO</td>\n",
              "      <td>109237.44</td>\n",
              "      <td>SIM</td>\n",
              "      <td>MASCULINO</td>\n",
              "    </tr>\n",
              "    <tr>\n",
              "      <th>...</th>\n",
              "      <td>...</td>\n",
              "      <td>...</td>\n",
              "      <td>...</td>\n",
              "      <td>...</td>\n",
              "      <td>...</td>\n",
              "      <td>...</td>\n",
              "    </tr>\n",
              "    <tr>\n",
              "      <th>640</th>\n",
              "      <td>VISTA ALEGRE DO ALTO</td>\n",
              "      <td>6682.0</td>\n",
              "      <td>ANTONIO APPARECIDO FIORANI</td>\n",
              "      <td>8107.50</td>\n",
              "      <td>SIM</td>\n",
              "      <td>MASCULINO</td>\n",
              "    </tr>\n",
              "    <tr>\n",
              "      <th>641</th>\n",
              "      <td>VITÓRIA BRASIL</td>\n",
              "      <td>1664.0</td>\n",
              "      <td>ELISEU ALVES DA COSTA</td>\n",
              "      <td>4760.00</td>\n",
              "      <td>SIM</td>\n",
              "      <td>MASCULINO</td>\n",
              "    </tr>\n",
              "    <tr>\n",
              "      <th>642</th>\n",
              "      <td>VOTORANTIM</td>\n",
              "      <td>104413.0</td>\n",
              "      <td>CARLOS AUGUSTO PIVETTA</td>\n",
              "      <td>885239.18</td>\n",
              "      <td>SIM</td>\n",
              "      <td>MASCULINO</td>\n",
              "    </tr>\n",
              "    <tr>\n",
              "      <th>643</th>\n",
              "      <td>VOTUPORANGA</td>\n",
              "      <td>80819.0</td>\n",
              "      <td>NASSER MARÃO FILHO</td>\n",
              "      <td>381851.57</td>\n",
              "      <td>SIM</td>\n",
              "      <td>MASCULINO</td>\n",
              "    </tr>\n",
              "    <tr>\n",
              "      <th>644</th>\n",
              "      <td>ZACARIAS</td>\n",
              "      <td>2384.0</td>\n",
              "      <td>NILSON POLIZEL</td>\n",
              "      <td>11993.83</td>\n",
              "      <td>NÃO</td>\n",
              "      <td>MASCULINO</td>\n",
              "    </tr>\n",
              "  </tbody>\n",
              "</table>\n",
              "<p>645 rows × 6 columns</p>\n",
              "</div>"
            ],
            "text/plain": [
              "               MUNICIPIOS  POPULAÇÃO ESTIMADA  ... MAIS VOTADO  DS_GENERO\n",
              "0              ADAMANTINA             34366.0  ...         SIM  MASCULINO\n",
              "1                  ADOLFO              3711.0  ...         SIM  MASCULINO\n",
              "2                   AGUAÍ             31763.0  ...         NÃO  MASCULINO\n",
              "3          ÁGUAS DA PRATA              7684.0  ...         NÃO  MASCULINO\n",
              "4        ÁGUAS DE LINDÓIA             16335.0  ...         SIM  MASCULINO\n",
              "..                    ...                 ...  ...         ...        ...\n",
              "640  VISTA ALEGRE DO ALTO              6682.0  ...         SIM  MASCULINO\n",
              "641        VITÓRIA BRASIL              1664.0  ...         SIM  MASCULINO\n",
              "642            VOTORANTIM            104413.0  ...         SIM  MASCULINO\n",
              "643           VOTUPORANGA             80819.0  ...         SIM  MASCULINO\n",
              "644              ZACARIAS              2384.0  ...         NÃO  MASCULINO\n",
              "\n",
              "[645 rows x 6 columns]"
            ]
          },
          "metadata": {
            "tags": []
          },
          "execution_count": 144
        }
      ]
    },
    {
      "cell_type": "code",
      "metadata": {
        "colab": {
          "base_uri": "https://localhost:8080/",
          "height": 419
        },
        "id": "7jrUvAa_v0n6",
        "outputId": "2a60e41a-d4cb-4013-c1f5-c6193056dece"
      },
      "source": [
        "# Tratamento do dataframe concatenacao_2012\n",
        "\n",
        "concatenacao_2012 = concatenacao_2012.rename(columns={'level_0':'MUNICIPIOS'})\n",
        "concatenacao_2012.columns = concatenacao_2012.columns.str.upper()\n",
        "concatenacao_2012"
      ],
      "execution_count": 145,
      "outputs": [
        {
          "output_type": "execute_result",
          "data": {
            "text/html": [
              "<div>\n",
              "<style scoped>\n",
              "    .dataframe tbody tr th:only-of-type {\n",
              "        vertical-align: middle;\n",
              "    }\n",
              "\n",
              "    .dataframe tbody tr th {\n",
              "        vertical-align: top;\n",
              "    }\n",
              "\n",
              "    .dataframe thead th {\n",
              "        text-align: right;\n",
              "    }\n",
              "</style>\n",
              "<table border=\"1\" class=\"dataframe\">\n",
              "  <thead>\n",
              "    <tr style=\"text-align: right;\">\n",
              "      <th></th>\n",
              "      <th>MUNICIPIOS</th>\n",
              "      <th>NOME CANDIDATO</th>\n",
              "      <th>VALOR DESPESA</th>\n",
              "      <th>UF</th>\n",
              "      <th>POPULAÇÃO ESTIMADA</th>\n",
              "      <th>MAIS VOTADO</th>\n",
              "      <th>DS_GENERO</th>\n",
              "    </tr>\n",
              "  </thead>\n",
              "  <tbody>\n",
              "    <tr>\n",
              "      <th>0</th>\n",
              "      <td>ADAMANTINA</td>\n",
              "      <td>JOSÉ ROBERTO FERREIRA</td>\n",
              "      <td>47561.20</td>\n",
              "      <td>SP</td>\n",
              "      <td>33843</td>\n",
              "      <td>NÃO</td>\n",
              "      <td>MASCULINO</td>\n",
              "    </tr>\n",
              "    <tr>\n",
              "      <th>1</th>\n",
              "      <td>ADOLFO</td>\n",
              "      <td>NELSON GIMENEZ RIBEIRO</td>\n",
              "      <td>49510.60</td>\n",
              "      <td>SP</td>\n",
              "      <td>3538</td>\n",
              "      <td>NÃO</td>\n",
              "      <td>MASCULINO</td>\n",
              "    </tr>\n",
              "    <tr>\n",
              "      <th>2</th>\n",
              "      <td>AGUAÍ</td>\n",
              "      <td>SEBASTIÃO BIAZZO</td>\n",
              "      <td>165803.27</td>\n",
              "      <td>SP</td>\n",
              "      <td>32745</td>\n",
              "      <td>SIM</td>\n",
              "      <td>MASCULINO</td>\n",
              "    </tr>\n",
              "    <tr>\n",
              "      <th>3</th>\n",
              "      <td>AGUDOS</td>\n",
              "      <td>EVERTON OCTAVIANI</td>\n",
              "      <td>112300.00</td>\n",
              "      <td>SP</td>\n",
              "      <td>34833</td>\n",
              "      <td>SIM</td>\n",
              "      <td>MASCULINO</td>\n",
              "    </tr>\n",
              "    <tr>\n",
              "      <th>4</th>\n",
              "      <td>ALAMBARI</td>\n",
              "      <td>HUDSON JOSE GOMES</td>\n",
              "      <td>25200.00</td>\n",
              "      <td>SP</td>\n",
              "      <td>5071</td>\n",
              "      <td>SIM</td>\n",
              "      <td>MASCULINO</td>\n",
              "    </tr>\n",
              "    <tr>\n",
              "      <th>...</th>\n",
              "      <td>...</td>\n",
              "      <td>...</td>\n",
              "      <td>...</td>\n",
              "      <td>...</td>\n",
              "      <td>...</td>\n",
              "      <td>...</td>\n",
              "      <td>...</td>\n",
              "    </tr>\n",
              "    <tr>\n",
              "      <th>638</th>\n",
              "      <td>ÁLVARES FLORENCE</td>\n",
              "      <td>CALIMERIO LUIZ CORREA SALES</td>\n",
              "      <td>21166.12</td>\n",
              "      <td>SP</td>\n",
              "      <td>3834</td>\n",
              "      <td>SIM</td>\n",
              "      <td>MASCULINO</td>\n",
              "    </tr>\n",
              "    <tr>\n",
              "      <th>639</th>\n",
              "      <td>ÁLVARES MACHADO</td>\n",
              "      <td>JULIANO RIBEIRO GARCIA</td>\n",
              "      <td>68349.69</td>\n",
              "      <td>SP</td>\n",
              "      <td>23642</td>\n",
              "      <td>NÃO</td>\n",
              "      <td>MASCULINO</td>\n",
              "    </tr>\n",
              "    <tr>\n",
              "      <th>640</th>\n",
              "      <td>ÁLVARO DE CARVALHO</td>\n",
              "      <td>MARCOS DEL CASTILHO ZORZETO</td>\n",
              "      <td>13078.31</td>\n",
              "      <td>SP</td>\n",
              "      <td>4732</td>\n",
              "      <td>SIM</td>\n",
              "      <td>MASCULINO</td>\n",
              "    </tr>\n",
              "    <tr>\n",
              "      <th>641</th>\n",
              "      <td>ÓLEO</td>\n",
              "      <td>JORDÃO ANTONIO VIDOTTO</td>\n",
              "      <td>5768.00</td>\n",
              "      <td>SP</td>\n",
              "      <td>2625</td>\n",
              "      <td>SIM</td>\n",
              "      <td>MASCULINO</td>\n",
              "    </tr>\n",
              "    <tr>\n",
              "      <th>642</th>\n",
              "      <td>PACAEMBU</td>\n",
              "      <td>SIOMARA BERLANGA MUGANAI NEVES</td>\n",
              "      <td>46037.29</td>\n",
              "      <td>SP</td>\n",
              "      <td>13333</td>\n",
              "      <td>NÃO</td>\n",
              "      <td>FEMININO</td>\n",
              "    </tr>\n",
              "  </tbody>\n",
              "</table>\n",
              "<p>643 rows × 7 columns</p>\n",
              "</div>"
            ],
            "text/plain": [
              "             MUNICIPIOS                  NOME CANDIDATO  ...  MAIS VOTADO  DS_GENERO\n",
              "0            ADAMANTINA           JOSÉ ROBERTO FERREIRA  ...          NÃO  MASCULINO\n",
              "1                ADOLFO          NELSON GIMENEZ RIBEIRO  ...          NÃO  MASCULINO\n",
              "2                 AGUAÍ                SEBASTIÃO BIAZZO  ...          SIM  MASCULINO\n",
              "3                AGUDOS               EVERTON OCTAVIANI  ...          SIM  MASCULINO\n",
              "4              ALAMBARI               HUDSON JOSE GOMES  ...          SIM  MASCULINO\n",
              "..                  ...                             ...  ...          ...        ...\n",
              "638    ÁLVARES FLORENCE     CALIMERIO LUIZ CORREA SALES  ...          SIM  MASCULINO\n",
              "639     ÁLVARES MACHADO          JULIANO RIBEIRO GARCIA  ...          NÃO  MASCULINO\n",
              "640  ÁLVARO DE CARVALHO     MARCOS DEL CASTILHO ZORZETO  ...          SIM  MASCULINO\n",
              "641                ÓLEO          JORDÃO ANTONIO VIDOTTO  ...          SIM  MASCULINO\n",
              "642            PACAEMBU  SIOMARA BERLANGA MUGANAI NEVES  ...          NÃO   FEMININO\n",
              "\n",
              "[643 rows x 7 columns]"
            ]
          },
          "metadata": {
            "tags": []
          },
          "execution_count": 145
        }
      ]
    },
    {
      "cell_type": "code",
      "metadata": {
        "colab": {
          "base_uri": "https://localhost:8080/",
          "height": 419
        },
        "id": "d33-f9rHv0VW",
        "outputId": "730af5f6-208d-4c03-de04-64995a391f01"
      },
      "source": [
        "# Tratamento do dataframe concatenacao_2016\n",
        "\n",
        "concatenacao_2016 = concatenacao_2016.rename(columns={'level_0':'MUNICIPIOS'})\n",
        "concatenacao_2016.columns = concatenacao_2016.columns.str.upper()\n",
        "concatenacao_2016"
      ],
      "execution_count": 146,
      "outputs": [
        {
          "output_type": "execute_result",
          "data": {
            "text/html": [
              "<div>\n",
              "<style scoped>\n",
              "    .dataframe tbody tr th:only-of-type {\n",
              "        vertical-align: middle;\n",
              "    }\n",
              "\n",
              "    .dataframe tbody tr th {\n",
              "        vertical-align: top;\n",
              "    }\n",
              "\n",
              "    .dataframe thead th {\n",
              "        text-align: right;\n",
              "    }\n",
              "</style>\n",
              "<table border=\"1\" class=\"dataframe\">\n",
              "  <thead>\n",
              "    <tr style=\"text-align: right;\">\n",
              "      <th></th>\n",
              "      <th>MUNICIPIOS</th>\n",
              "      <th>NOME CANDIDATO</th>\n",
              "      <th>VALOR DESPESA</th>\n",
              "      <th>INDEX</th>\n",
              "      <th>UF</th>\n",
              "      <th>POPULAÇÃO ESTIMADA</th>\n",
              "      <th>MAIS VOTADO</th>\n",
              "      <th>DS_GENERO</th>\n",
              "    </tr>\n",
              "  </thead>\n",
              "  <tbody>\n",
              "    <tr>\n",
              "      <th>0</th>\n",
              "      <td>ADAMANTINA</td>\n",
              "      <td>MÁRCIO CARDIM</td>\n",
              "      <td>54400.00</td>\n",
              "      <td>3267</td>\n",
              "      <td>SP</td>\n",
              "      <td>35094</td>\n",
              "      <td>SIM</td>\n",
              "      <td>MASCULINO</td>\n",
              "    </tr>\n",
              "    <tr>\n",
              "      <th>1</th>\n",
              "      <td>ADOLFO</td>\n",
              "      <td>IZAEL ANTONIO FERNANDES</td>\n",
              "      <td>33498.29</td>\n",
              "      <td>3268</td>\n",
              "      <td>SP</td>\n",
              "      <td>3616</td>\n",
              "      <td>SIM</td>\n",
              "      <td>MASCULINO</td>\n",
              "    </tr>\n",
              "    <tr>\n",
              "      <th>2</th>\n",
              "      <td>AGUAÍ</td>\n",
              "      <td>JOSÉ ALEXANDRE PEREIRA DE ARAÚJO</td>\n",
              "      <td>140805.33</td>\n",
              "      <td>3269</td>\n",
              "      <td>SP</td>\n",
              "      <td>35189</td>\n",
              "      <td>SIM</td>\n",
              "      <td>MASCULINO</td>\n",
              "    </tr>\n",
              "    <tr>\n",
              "      <th>3</th>\n",
              "      <td>AGUDOS</td>\n",
              "      <td>JOSÉ CARLOS OCTAVIANI</td>\n",
              "      <td>79475.00</td>\n",
              "      <td>3274</td>\n",
              "      <td>SP</td>\n",
              "      <td>36704</td>\n",
              "      <td>NÃO</td>\n",
              "      <td>MASCULINO</td>\n",
              "    </tr>\n",
              "    <tr>\n",
              "      <th>4</th>\n",
              "      <td>ALAMBARI</td>\n",
              "      <td>HUDSON JOSE GOMES</td>\n",
              "      <td>45400.00</td>\n",
              "      <td>3275</td>\n",
              "      <td>SP</td>\n",
              "      <td>5658</td>\n",
              "      <td>SIM</td>\n",
              "      <td>MASCULINO</td>\n",
              "    </tr>\n",
              "    <tr>\n",
              "      <th>...</th>\n",
              "      <td>...</td>\n",
              "      <td>...</td>\n",
              "      <td>...</td>\n",
              "      <td>...</td>\n",
              "      <td>...</td>\n",
              "      <td>...</td>\n",
              "      <td>...</td>\n",
              "      <td>...</td>\n",
              "    </tr>\n",
              "    <tr>\n",
              "      <th>640</th>\n",
              "      <td>ÁGUAS DE SÃO PEDRO</td>\n",
              "      <td>MARIA ELY DE LIMA BUENO</td>\n",
              "      <td>36808.50</td>\n",
              "      <td>3273</td>\n",
              "      <td>SP</td>\n",
              "      <td>3205</td>\n",
              "      <td>NÃO</td>\n",
              "      <td>FEMININO</td>\n",
              "    </tr>\n",
              "    <tr>\n",
              "      <th>641</th>\n",
              "      <td>ÁLVARES FLORENCE</td>\n",
              "      <td>CALIMÉRIO LUIZ CORREA SALES</td>\n",
              "      <td>16440.97</td>\n",
              "      <td>3281</td>\n",
              "      <td>SP</td>\n",
              "      <td>3824</td>\n",
              "      <td>SIM</td>\n",
              "      <td>MASCULINO</td>\n",
              "    </tr>\n",
              "    <tr>\n",
              "      <th>642</th>\n",
              "      <td>ÁLVARES MACHADO</td>\n",
              "      <td>FRANCISANGELA FERNANDES DE SÃO JOSÉ POLICATE</td>\n",
              "      <td>35635.70</td>\n",
              "      <td>3282</td>\n",
              "      <td>SP</td>\n",
              "      <td>24733</td>\n",
              "      <td>NÃO</td>\n",
              "      <td>FEMININO</td>\n",
              "    </tr>\n",
              "    <tr>\n",
              "      <th>643</th>\n",
              "      <td>ÁLVARO DE CARVALHO</td>\n",
              "      <td>ADILSON DE OLIVEIRA LOPES</td>\n",
              "      <td>52745.94</td>\n",
              "      <td>3283</td>\n",
              "      <td>SP</td>\n",
              "      <td>5075</td>\n",
              "      <td>NÃO</td>\n",
              "      <td>MASCULINO</td>\n",
              "    </tr>\n",
              "    <tr>\n",
              "      <th>644</th>\n",
              "      <td>ÓLEO</td>\n",
              "      <td>PEDRO GERALDO DUARTE</td>\n",
              "      <td>5430.01</td>\n",
              "      <td>3648</td>\n",
              "      <td>SP</td>\n",
              "      <td>2605</td>\n",
              "      <td>NÃO</td>\n",
              "      <td>MASCULINO</td>\n",
              "    </tr>\n",
              "  </tbody>\n",
              "</table>\n",
              "<p>645 rows × 8 columns</p>\n",
              "</div>"
            ],
            "text/plain": [
              "             MUNICIPIOS  ...  DS_GENERO\n",
              "0            ADAMANTINA  ...  MASCULINO\n",
              "1                ADOLFO  ...  MASCULINO\n",
              "2                 AGUAÍ  ...  MASCULINO\n",
              "3                AGUDOS  ...  MASCULINO\n",
              "4              ALAMBARI  ...  MASCULINO\n",
              "..                  ...  ...        ...\n",
              "640  ÁGUAS DE SÃO PEDRO  ...   FEMININO\n",
              "641    ÁLVARES FLORENCE  ...  MASCULINO\n",
              "642     ÁLVARES MACHADO  ...   FEMININO\n",
              "643  ÁLVARO DE CARVALHO  ...  MASCULINO\n",
              "644                ÓLEO  ...  MASCULINO\n",
              "\n",
              "[645 rows x 8 columns]"
            ]
          },
          "metadata": {
            "tags": []
          },
          "execution_count": 146
        }
      ]
    },
    {
      "cell_type": "code",
      "metadata": {
        "id": "B0gM70it4zbX",
        "colab": {
          "base_uri": "https://localhost:8080/",
          "height": 729
        },
        "outputId": "508a96f5-0472-498c-9722-441dcec07bb1"
      },
      "source": [
        "# Plotagem e gráfico \n",
        "\n",
        "dados = [list(concatenação_2008.groupby(['DS_GENERO'])['MUNICIPIOS'].count().apply(lambda x: 100 * x / len(concatenação_2008))),\n",
        "         list(concatenacao_2012.groupby(['DS_GENERO'])['MUNICIPIOS'].count().apply(lambda x: 100 * x / len(concatenacao_2012))),\n",
        "         list(concatenacao_2016.groupby(['DS_GENERO'])['MUNICIPIOS'].count().apply(lambda x: 100 * x / len(concatenacao_2016)))\n",
        "] \n",
        "\n",
        "\n",
        "df = pd.DataFrame(dados,\n",
        "                 index=['2008', '2012', '2016'],\n",
        "                 columns=pd.Index(['Feminino', 'Masculino', 'Não Divulgado'], \n",
        "                 name='Legenda')).round(2)\n",
        "\n",
        "\n",
        "ax = df.plot(kind='bar', figsize=(15,10))\n",
        "\n",
        "titulo = \"$\\\\bf{CARGO\\ PREFEITO:\\ Participação\\ dos\\ candidatos\\ com\\ as\\ MAIORES\\ DESPESAS\\ nos\\ municípios\\ do\\ Estado\\ de\\ São\\ Paulo}$\"\n",
        "ax.set_title(titulo + '\\nPor gênero dos candidatos\\n', fontsize=16)\n",
        "ax.set_xlabel('Ano')\n",
        "ax.set_ylabel('Porcentagem (%)')\n",
        "ax.legend(title='Gênero', loc='upper center', bbox_to_anchor=(1.1, 0.8), shadow=True, ncol=1)\n",
        "\n",
        "rects = ax.patches\n",
        "\n",
        "for rect in rects:\n",
        "    height = rect.get_height()\n",
        "    ax.text(rect.get_x() + rect.get_width() / 2, height + 1, int(rect.get_height()),\n",
        "            ha='center', va='bottom')\n",
        "\n",
        "plt.tight_layout()\n",
        "plt.savefig('drive/My Drive/Colab Notebooks/Estudo_Campanha_Eleitoral_e_Resultados/img1.png')"
      ],
      "execution_count": 151,
      "outputs": [
        {
          "output_type": "display_data",
          "data": {
            "image/png": "[encoded data removed]",
            "text/plain": [
              "<Figure size 1080x720 with 1 Axes>"
            ]
          },
          "metadata": {
            "tags": [],
            "needs_background": "light"
          }
        }
      ]
    },
    {
      "cell_type": "code",
      "metadata": {
        "id": "jJLTn2Xbu3iM",
        "colab": {
          "base_uri": "https://localhost:8080/",
          "height": 729
        },
        "outputId": "602be887-ee4f-410f-f46b-664b775be2bf"
      },
      "source": [
        "# Plotagem e gráfico\n",
        "\n",
        "dados = [[((ate1mil_2008['MAIS VOTADO'].str.count(\"SIM\").sum() * 100) / len(ate1mil_2008)), ((ate10mil_2008['MAIS VOTADO'].str.count(\"SIM\").sum() * 100) / len(ate10mil_2008)),\n",
        "               ((ate100mil_2008['MAIS VOTADO'].str.count(\"SIM\").sum() * 100) / len(ate100mil_2008)), ((ate1milhao_2008['MAIS VOTADO'].str.count(\"SIM\").sum() * 100) / len(ate1milhao_2008)),\n",
        "               ((maior1milhao_2008['MAIS VOTADO'].str.count(\"SIM\").sum() * 100) / len(maior1milhao_2008))],\n",
        "         [((ate1mil_2012['MAIS VOTADO'].str.count(\"SIM\").sum() * 100) / len(ate1mil_2012)), ((ate10mil_2012['MAIS VOTADO'].str.count(\"SIM\").sum() * 100) / len(ate10mil_2012)),\n",
        "               ((ate100mil_2012['MAIS VOTADO'].str.count(\"SIM\").sum() * 100) / len(ate100mil_2012)), ((ate1milhao_2012['MAIS VOTADO'].str.count(\"SIM\").sum() * 100) / len(ate1milhao_2012)),\n",
        "               ((maior1milhao_2012['MAIS VOTADO'].str.count(\"SIM\").sum() * 100) / len(maior1milhao_2012))],\n",
        "              [((ate1mil_2016['MAIS VOTADO'].str.count(\"SIM\").sum() * 100) / len(ate1mil_2016)), ((ate10mil_2016['MAIS VOTADO'].str.count(\"SIM\").sum() * 100) / len(ate10mil_2016)),\n",
        "               ((ate100mil_2016['MAIS VOTADO'].str.count(\"SIM\").sum() * 100) / len(ate100mil_2016)), ((ate1milhao_2016['MAIS VOTADO'].str.count(\"SIM\").sum() * 100) / len(ate1milhao_2016)),\n",
        "               ((maior1milhao_2016['MAIS VOTADO'].str.count(\"SIM\").sum() * 100) / len(maior1milhao_2016))],\n",
        "              ]\n",
        "\n",
        "\n",
        "df = pd.DataFrame(dados,\n",
        "                 index=['2008', '2012', '2016'],\n",
        "                 columns=pd.Index(['0-1000 hab.', '1001-10000 hab.', '10001-100000 hab.', '100001-1000000 hab.', '1000000+ hab.'], \n",
        "                 name='Legenda')).round(2)\n",
        "\n",
        "\n",
        "ax = df.plot(kind='bar', figsize=(15,10))\n",
        "\n",
        "titulo = \"$\\\\bf{CARGO\\ PREFEITO:\\ Em\\ quantos\\ municípios\\ os\\ candidatos\\ com\\ as\\ MAIORES\\ DESPESAS\\ foram\\ os\\ MAIS\\ VOTADOS?}$\"\n",
        "ax.set_title(titulo + '\\nPor municípios do Estado de São Paulo\\n', fontsize=16)\n",
        "ax.set_xlabel('Ano')\n",
        "ax.set_ylabel('Porcentagem (%)')\n",
        "ax.legend(title='Municípios', loc='upper center', bbox_to_anchor=(1.1, 0.8), shadow=True, ncol=1)\n",
        "\n",
        "rects = ax.patches\n",
        "\n",
        "for rect in rects:\n",
        "    height = rect.get_height()\n",
        "    ax.text(rect.get_x() + rect.get_width() / 2, height + 1, int(rect.get_height()),\n",
        "            ha='center', va='bottom')\n",
        "\n",
        "plt.tight_layout()\n",
        "plt.savefig('drive/My Drive/Colab Notebooks/Estudo_Campanha_Eleitoral_e_Resultados/img2.png')"
      ],
      "execution_count": 152,
      "outputs": [
        {
          "output_type": "display_data",
          "data": {
            "image/png": "[encoded data removed]",
            "text/plain": [
              "<Figure size 1080x720 with 1 Axes>"
            ]
          },
          "metadata": {
            "tags": [],
            "needs_background": "light"
          }
        }
      ]
    },
    {
      "cell_type": "code",
      "metadata": {
        "id": "pl7HOs_gfrUG",
        "colab": {
          "base_uri": "https://localhost:8080/",
          "height": 729
        },
        "outputId": "05152d44-81b5-49cd-94f4-3db4bffd8661"
      },
      "source": [
        "# Plotagem e gráfico\n",
        "\n",
        "dados = [[((len(ate1mil_2008[ate1mil_2008['DS_GENERO'] == \"FEMININO\"]) * 100) / len(ate1mil_2008)),\n",
        "               ((len(ate10mil_2008[ate10mil_2008['DS_GENERO'] == \"FEMININO\"]) * 100) / len(ate10mil_2008)),\n",
        "               ((len(ate100mil_2008[ate100mil_2008['DS_GENERO'] == \"FEMININO\"]) * 100) / len(ate100mil_2008)),\n",
        "               ((len(ate1milhao_2008[ate1milhao_2008['DS_GENERO'] == \"FEMININO\"]) * 100) / len(ate1milhao_2008)),\n",
        "               ((len(maior1milhao_2008[maior1milhao_2008['DS_GENERO'] == \"FEMININO\"]) * 100) / len(maior1milhao_2008))],\n",
        "         [((len(ate1mil_2012[ate1mil_2012['DS_GENERO'] == \"FEMININO\"]) * 100) / len(ate1mil_2012)),\n",
        "               ((len(ate10mil_2012[ate10mil_2012['DS_GENERO'] == \"FEMININO\"]) * 100) / len(ate10mil_2012)),\n",
        "               ((len(ate100mil_2012[ate100mil_2012['DS_GENERO'] == \"FEMININO\"]) * 100) / len(ate100mil_2012)),\n",
        "               ((len(ate1milhao_2012[ate1milhao_2012['DS_GENERO'] == \"FEMININO\"]) * 100) / len(ate1milhao_2012)),\n",
        "               ((len(maior1milhao_2012[maior1milhao_2012['DS_GENERO'] == \"FEMININO\"]) * 100) / len(maior1milhao_2012))],\n",
        "         [((len(ate1mil_2016[ate1mil_2016['DS_GENERO'] == \"FEMININO\"]) * 100) / len(ate1mil_2016)),\n",
        "               ((len(ate10mil_2016[ate10mil_2016['DS_GENERO'] == \"FEMININO\"]) * 100) / len(ate10mil_2016)),\n",
        "               ((len(ate100mil_2016[ate100mil_2016['DS_GENERO'] == \"FEMININO\"]) * 100) / len(ate100mil_2016)),\n",
        "               ((len(ate1milhao_2016[ate1milhao_2016['DS_GENERO'] == \"FEMININO\"]) * 100) / len(ate1milhao_2016)),\n",
        "               ((len(maior1milhao_2016[maior1milhao_2016['DS_GENERO'] == \"FEMININO\"]) * 100) / len(maior1milhao_2016))],\n",
        "]\n",
        "\n",
        "\n",
        "df = pd.DataFrame(dados,\n",
        "                 index=['2008', '2012', '2016'],\n",
        "                 columns=pd.Index(['0-1000 hab.', '1001-10000 hab.', '10001-100000 hab.', '100001-1000000 hab.', '1000000+ hab.'], \n",
        "                 name='Legenda')).round(2)\n",
        "\n",
        "\n",
        "ax = df.plot(kind='bar', figsize=(15,10))\n",
        "\n",
        "titulo = \"$\\\\bf{CARGO\\ PREFEITO:\\ Em\\ quantos\\ municípios\\ os\\ candidatos\\ com\\ as\\ MAIORES\\ DESPESAS\\ são\\ mulheres?}$\"\n",
        "ax.set_title(titulo + '\\nPor municípios do Estado de São Paulo\\n', fontsize=16)\n",
        "ax.set_xlabel('Ano')\n",
        "ax.set_ylabel('Porcentagem (%)')\n",
        "ax.legend(title='Municípios', loc='upper center', bbox_to_anchor=(1.1, 0.8), shadow=True, ncol=1)\n",
        "\n",
        "rects = ax.patches\n",
        "\n",
        "for rect in rects:\n",
        "    height = rect.get_height()\n",
        "    ax.text(rect.get_x() + rect.get_width() / 2, height + 0.1, int(rect.get_height()),\n",
        "            ha='center', va='bottom')\n",
        "\n",
        "plt.tight_layout()\n",
        "plt.savefig('drive/My Drive/Colab Notebooks/Estudo_Campanha_Eleitoral_e_Resultados/img3.png')"
      ],
      "execution_count": 153,
      "outputs": [
        {
          "output_type": "display_data",
          "data": {
            "image/png": "[encoded data removed]",
            "text/plain": [
              "<Figure size 1080x720 with 1 Axes>"
            ]
          },
          "metadata": {
            "tags": [],
            "needs_background": "light"
          }
        }
      ]
    },
    {
      "cell_type": "code",
      "metadata": {
        "id": "yZFzReE6FB7Z",
        "colab": {
          "base_uri": "https://localhost:8080/",
          "height": 729
        },
        "outputId": "d46ef1fe-e4cd-4e05-f6fb-fdca8d7c81eb"
      },
      "source": [
        "# Plotagem e gráfico\n",
        "\n",
        "dados = [[((len(ate1mil_2008[(ate1mil_2008['MAIS VOTADO'] == \"SIM\") & (ate1mil_2008['DS_GENERO'] == \"FEMININO\")]) * 100) / len(ate1mil_2008)),\n",
        "               ((len(ate10mil_2008[(ate10mil_2008['MAIS VOTADO'] == \"SIM\") & (ate10mil_2008['DS_GENERO'] == \"FEMININO\")]) * 100) / len(ate10mil_2008)),\n",
        "               ((len(ate100mil_2008[(ate100mil_2008['MAIS VOTADO'] == \"SIM\") & (ate100mil_2008['DS_GENERO'] == \"FEMININO\")]) * 100) / len(ate100mil_2008)),\n",
        "               ((len(ate1milhao_2008[(ate1milhao_2008['MAIS VOTADO'] == \"SIM\") & (ate1milhao_2008['DS_GENERO'] == \"FEMININO\")]) * 100) / len(ate1milhao_2008)),\n",
        "               ((len(maior1milhao_2008[(maior1milhao_2008['MAIS VOTADO'] == \"SIM\") & (maior1milhao_2008['DS_GENERO'] == \"FEMININO\")]) * 100) / len(maior1milhao_2008))],\n",
        "         [((len(ate1mil_2012[(ate1mil_2012['MAIS VOTADO'] == \"SIM\") & (ate1mil_2012['DS_GENERO'] == \"FEMININO\")]) * 100) / len(ate1mil_2012)),\n",
        "               ((len(ate10mil_2012[(ate10mil_2012['MAIS VOTADO'] == \"SIM\") & (ate10mil_2012['DS_GENERO'] == \"FEMININO\")]) * 100) / len(ate10mil_2012)),\n",
        "               ((len(ate100mil_2012[(ate100mil_2012['MAIS VOTADO'] == \"SIM\") & (ate100mil_2012['DS_GENERO'] == \"FEMININO\")]) * 100) / len(ate100mil_2012)),\n",
        "               ((len(ate1milhao_2012[(ate1milhao_2012['MAIS VOTADO'] == \"SIM\") & (ate1milhao_2012['DS_GENERO'] == \"FEMININO\")]) * 100) / len(ate1milhao_2012)),\n",
        "               ((len(maior1milhao_2012[(maior1milhao_2012['MAIS VOTADO'] == \"SIM\") & (maior1milhao_2012['DS_GENERO'] == \"FEMININO\")]) * 100) / len(maior1milhao_2012))],     \n",
        "         [((len(ate1mil_2016[(ate1mil_2016['MAIS VOTADO'] == \"SIM\") & (ate1mil_2016['DS_GENERO'] == \"FEMININO\")]) * 100) / len(ate1mil_2016)),\n",
        "               ((len(ate10mil_2016[(ate10mil_2016['MAIS VOTADO'] == \"SIM\") & (ate10mil_2016['DS_GENERO'] == \"FEMININO\")]) * 100) / len(ate10mil_2016)),\n",
        "               ((len(ate100mil_2016[(ate100mil_2016['MAIS VOTADO'] == \"SIM\") & (ate100mil_2016['DS_GENERO'] == \"FEMININO\")]) * 100) / len(ate100mil_2016)),\n",
        "               ((len(ate1milhao_2016[(ate1milhao_2016['MAIS VOTADO'] == \"SIM\") & (ate1milhao_2016['DS_GENERO'] == \"FEMININO\")]) * 100) / len(ate1milhao_2016)),\n",
        "               ((len(maior1milhao_2016[(maior1milhao_2016['MAIS VOTADO'] == \"SIM\") & (maior1milhao_2016['DS_GENERO'] == \"FEMININO\")]) * 100) / len(maior1milhao_2016))],\n",
        "]\n",
        "\n",
        "\n",
        "df = pd.DataFrame(dados,\n",
        "                 index=['2008', '2012', '2016'],\n",
        "                 columns=pd.Index(['0-1000 hab.', '1001-10000 hab.', '10001-100000 hab.', '100001-1000000 hab.', '1000000+ hab.'], \n",
        "                 name='Legenda')).round(2)\n",
        "\n",
        "\n",
        "ax = df.plot(kind='bar', figsize=(15,10))\n",
        "\n",
        "titulo = \"$\\\\bf{CARGO\\ PREFEITO:\\ Em\\ quantos\\ municípios\\ os\\ candidatos}$\"\n",
        "titulo2 = \"$\\\\bf{com\\ as\\ MAIORES\\ DESPESAS\\ foram\\ os\\ MAIS\\ VOTADOS\\ e\\ são\\ mulheres?}$\"\n",
        "ax.set_title(titulo + '\\n' + titulo2 + '\\nPor municípios do Estado de São Paulo\\n', fontsize=16)\n",
        "ax.set_xlabel('Ano')\n",
        "ax.set_ylabel('Porcentagem (%)')\n",
        "ax.legend(title='Municípios', loc='upper center', bbox_to_anchor=(1.1, 0.8), shadow=True, ncol=1)\n",
        "\n",
        "rects = ax.patches\n",
        "\n",
        "for rect in rects:\n",
        "    height = rect.get_height()\n",
        "    ax.text(rect.get_x() + rect.get_width() / 2, height + 0.1, int(rect.get_height()),\n",
        "            ha='center', va='bottom')\n",
        "    \n",
        "plt.tight_layout()\n",
        "plt.savefig('drive/My Drive/Colab Notebooks/Estudo_Campanha_Eleitoral_e_Resultados/img4.png')"
      ],
      "execution_count": 154,
      "outputs": [
        {
          "output_type": "display_data",
          "data": {
            "image/png": "[encoded data removed]",
            "text/plain": [
              "<Figure size 1080x720 with 1 Axes>"
            ]
          },
          "metadata": {
            "tags": [],
            "needs_background": "light"
          }
        }
      ]
    },
    {
      "cell_type": "code",
      "metadata": {
        "id": "LVdMpE964J4r"
      },
      "source": [
        ""
      ],
      "execution_count": 150,
      "outputs": []
    }
  ]
}